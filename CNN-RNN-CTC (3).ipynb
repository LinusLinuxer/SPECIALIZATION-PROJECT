{
 "cells": [
  {
   "cell_type": "markdown",
   "id": "fd85a770",
   "metadata": {},
   "source": [
    "# CNN\n",
    "This notebook aims to deploy the CNN."
   ]
  },
  {
   "cell_type": "markdown",
   "id": "60c50740",
   "metadata": {},
   "source": [
    "## Setup for UCloud\n",
    "The Setup on Ucloud is a bit feasty at times, so here are some workarounds"
   ]
  },
  {
   "cell_type": "code",
   "execution_count": 30,
   "id": "cfb54145",
   "metadata": {},
   "outputs": [],
   "source": [
    "#pip freeze > requirements.txt"
   ]
  },
  {
   "cell_type": "code",
   "execution_count": 31,
   "id": "41265d20",
   "metadata": {},
   "outputs": [
    {
     "name": "stdout",
     "output_type": "stream",
     "text": [
      "Defaulting to user installation because normal site-packages is not writeable\n",
      "Requirement already satisfied: absl-py==2.2.2 in /home/ucloud/.local/lib/python3.12/site-packages (from -r requirements.txt (line 1)) (2.2.2)\n",
      "Requirement already satisfied: asttokens==3.0.0 in /home/ucloud/.local/lib/python3.12/site-packages (from -r requirements.txt (line 2)) (3.0.0)\n",
      "Requirement already satisfied: astunparse==1.6.3 in /home/ucloud/.local/lib/python3.12/site-packages (from -r requirements.txt (line 3)) (1.6.3)\n",
      "Requirement already satisfied: certifi==2025.4.26 in /home/ucloud/.local/lib/python3.12/site-packages (from -r requirements.txt (line 4)) (2025.4.26)\n",
      "Requirement already satisfied: charset-normalizer==3.4.2 in /home/ucloud/.local/lib/python3.12/site-packages (from -r requirements.txt (line 5)) (3.4.2)\n",
      "Requirement already satisfied: comm==0.2.2 in /home/ucloud/.local/lib/python3.12/site-packages (from -r requirements.txt (line 6)) (0.2.2)\n",
      "Requirement already satisfied: contourpy==1.3.2 in /home/ucloud/.local/lib/python3.12/site-packages (from -r requirements.txt (line 7)) (1.3.2)\n",
      "Requirement already satisfied: cycler==0.12.1 in /home/ucloud/.local/lib/python3.12/site-packages (from -r requirements.txt (line 8)) (0.12.1)\n",
      "Requirement already satisfied: debugpy==1.8.14 in /home/ucloud/.local/lib/python3.12/site-packages (from -r requirements.txt (line 9)) (1.8.14)\n",
      "Requirement already satisfied: decorator==5.2.1 in /home/ucloud/.local/lib/python3.12/site-packages (from -r requirements.txt (line 10)) (5.2.1)\n",
      "Requirement already satisfied: executing==2.2.0 in /home/ucloud/.local/lib/python3.12/site-packages (from -r requirements.txt (line 11)) (2.2.0)\n",
      "Requirement already satisfied: flatbuffers==25.2.10 in /home/ucloud/.local/lib/python3.12/site-packages (from -r requirements.txt (line 12)) (25.2.10)\n",
      "Requirement already satisfied: fonttools==4.57.0 in /home/ucloud/.local/lib/python3.12/site-packages (from -r requirements.txt (line 13)) (4.57.0)\n",
      "Requirement already satisfied: gast==0.6.0 in /home/ucloud/.local/lib/python3.12/site-packages (from -r requirements.txt (line 14)) (0.6.0)\n",
      "Requirement already satisfied: google-pasta==0.2.0 in /home/ucloud/.local/lib/python3.12/site-packages (from -r requirements.txt (line 15)) (0.2.0)\n",
      "Requirement already satisfied: grpcio==1.71.0 in /home/ucloud/.local/lib/python3.12/site-packages (from -r requirements.txt (line 16)) (1.71.0)\n",
      "Requirement already satisfied: h5py==3.13.0 in /home/ucloud/.local/lib/python3.12/site-packages (from -r requirements.txt (line 17)) (3.13.0)\n",
      "Requirement already satisfied: idna==3.10 in /home/ucloud/.local/lib/python3.12/site-packages (from -r requirements.txt (line 18)) (3.10)\n",
      "Requirement already satisfied: ipykernel==6.29.5 in /home/ucloud/.local/lib/python3.12/site-packages (from -r requirements.txt (line 19)) (6.29.5)\n",
      "Requirement already satisfied: ipython==9.2.0 in /home/ucloud/.local/lib/python3.12/site-packages (from -r requirements.txt (line 20)) (9.2.0)\n",
      "Requirement already satisfied: ipython_pygments_lexers==1.1.1 in /home/ucloud/.local/lib/python3.12/site-packages (from -r requirements.txt (line 21)) (1.1.1)\n",
      "Requirement already satisfied: jedi==0.19.2 in /home/ucloud/.local/lib/python3.12/site-packages (from -r requirements.txt (line 22)) (0.19.2)\n",
      "Requirement already satisfied: joblib==1.5.0 in /home/ucloud/.local/lib/python3.12/site-packages (from -r requirements.txt (line 23)) (1.5.0)\n",
      "Requirement already satisfied: jupyter_client==8.6.3 in /home/ucloud/.local/lib/python3.12/site-packages (from -r requirements.txt (line 24)) (8.6.3)\n",
      "Requirement already satisfied: jupyter_core==5.7.2 in /home/ucloud/.local/lib/python3.12/site-packages (from -r requirements.txt (line 25)) (5.7.2)\n",
      "Requirement already satisfied: keras==3.9.2 in /home/ucloud/.local/lib/python3.12/site-packages (from -r requirements.txt (line 26)) (3.9.2)\n",
      "Requirement already satisfied: kiwisolver==1.4.8 in /home/ucloud/.local/lib/python3.12/site-packages (from -r requirements.txt (line 27)) (1.4.8)\n",
      "Requirement already satisfied: libclang==18.1.1 in /home/ucloud/.local/lib/python3.12/site-packages (from -r requirements.txt (line 28)) (18.1.1)\n",
      "Requirement already satisfied: Markdown==3.8 in /home/ucloud/.local/lib/python3.12/site-packages (from -r requirements.txt (line 29)) (3.8)\n",
      "Requirement already satisfied: markdown-it-py==3.0.0 in /home/ucloud/.local/lib/python3.12/site-packages (from -r requirements.txt (line 30)) (3.0.0)\n",
      "Requirement already satisfied: MarkupSafe==3.0.2 in /home/ucloud/.local/lib/python3.12/site-packages (from -r requirements.txt (line 31)) (3.0.2)\n",
      "Requirement already satisfied: matplotlib==3.10.1 in /home/ucloud/.local/lib/python3.12/site-packages (from -r requirements.txt (line 32)) (3.10.1)\n",
      "Requirement already satisfied: matplotlib-inline==0.1.7 in /home/ucloud/.local/lib/python3.12/site-packages (from -r requirements.txt (line 33)) (0.1.7)\n",
      "Requirement already satisfied: mdurl==0.1.2 in /home/ucloud/.local/lib/python3.12/site-packages (from -r requirements.txt (line 34)) (0.1.2)\n",
      "Requirement already satisfied: ml_dtypes==0.5.1 in /home/ucloud/.local/lib/python3.12/site-packages (from -r requirements.txt (line 35)) (0.5.1)\n",
      "Requirement already satisfied: namex==0.0.9 in /home/ucloud/.local/lib/python3.12/site-packages (from -r requirements.txt (line 36)) (0.0.9)\n",
      "Requirement already satisfied: nest-asyncio==1.6.0 in /home/ucloud/.local/lib/python3.12/site-packages (from -r requirements.txt (line 37)) (1.6.0)\n",
      "Collecting numpy==2.1.3 (from -r requirements.txt (line 38))\n",
      "  Using cached numpy-2.1.3-cp312-cp312-manylinux_2_17_x86_64.manylinux2014_x86_64.whl.metadata (62 kB)\n",
      "Requirement already satisfied: opencv-python==4.11.0.86 in /home/ucloud/.local/lib/python3.12/site-packages (from -r requirements.txt (line 39)) (4.11.0.86)\n",
      "Requirement already satisfied: opt_einsum==3.4.0 in /home/ucloud/.local/lib/python3.12/site-packages (from -r requirements.txt (line 40)) (3.4.0)\n",
      "Requirement already satisfied: optree==0.15.0 in /home/ucloud/.local/lib/python3.12/site-packages (from -r requirements.txt (line 41)) (0.15.0)\n",
      "Requirement already satisfied: packaging==25.0 in /home/ucloud/.local/lib/python3.12/site-packages (from -r requirements.txt (line 42)) (25.0)\n",
      "Requirement already satisfied: pandas==2.2.3 in /home/ucloud/.local/lib/python3.12/site-packages (from -r requirements.txt (line 43)) (2.2.3)\n",
      "Requirement already satisfied: parso==0.8.4 in /home/ucloud/.local/lib/python3.12/site-packages (from -r requirements.txt (line 44)) (0.8.4)\n",
      "Requirement already satisfied: pexpect==4.9.0 in /home/ucloud/.local/lib/python3.12/site-packages (from -r requirements.txt (line 45)) (4.9.0)\n",
      "Requirement already satisfied: pillow==11.2.1 in /home/ucloud/.local/lib/python3.12/site-packages (from -r requirements.txt (line 46)) (11.2.1)\n",
      "Requirement already satisfied: platformdirs==4.3.7 in /home/ucloud/.local/lib/python3.12/site-packages (from -r requirements.txt (line 47)) (4.3.7)\n",
      "Requirement already satisfied: prompt_toolkit==3.0.51 in /home/ucloud/.local/lib/python3.12/site-packages (from -r requirements.txt (line 48)) (3.0.51)\n",
      "Requirement already satisfied: protobuf==5.29.4 in /home/ucloud/.local/lib/python3.12/site-packages (from -r requirements.txt (line 49)) (5.29.4)\n",
      "Requirement already satisfied: psutil==7.0.0 in /home/ucloud/.local/lib/python3.12/site-packages (from -r requirements.txt (line 50)) (7.0.0)\n",
      "Requirement already satisfied: ptyprocess==0.7.0 in /home/ucloud/.local/lib/python3.12/site-packages (from -r requirements.txt (line 51)) (0.7.0)\n",
      "Requirement already satisfied: pure_eval==0.2.3 in /home/ucloud/.local/lib/python3.12/site-packages (from -r requirements.txt (line 52)) (0.2.3)\n",
      "Requirement already satisfied: Pygments==2.19.1 in /home/ucloud/.local/lib/python3.12/site-packages (from -r requirements.txt (line 53)) (2.19.1)\n",
      "Requirement already satisfied: pyparsing==3.2.3 in /home/ucloud/.local/lib/python3.12/site-packages (from -r requirements.txt (line 54)) (3.2.3)\n",
      "Requirement already satisfied: python-dateutil==2.9.0.post0 in /home/ucloud/.local/lib/python3.12/site-packages (from -r requirements.txt (line 55)) (2.9.0.post0)\n",
      "Requirement already satisfied: pytz==2025.2 in /home/ucloud/.local/lib/python3.12/site-packages (from -r requirements.txt (line 56)) (2025.2)\n",
      "Requirement already satisfied: pyzmq==26.4.0 in /home/ucloud/.local/lib/python3.12/site-packages (from -r requirements.txt (line 57)) (26.4.0)\n",
      "Requirement already satisfied: requests==2.32.3 in /home/ucloud/.local/lib/python3.12/site-packages (from -r requirements.txt (line 58)) (2.32.3)\n",
      "Requirement already satisfied: rich==14.0.0 in /home/ucloud/.local/lib/python3.12/site-packages (from -r requirements.txt (line 59)) (14.0.0)\n",
      "Requirement already satisfied: scikit-learn==1.6.1 in /home/ucloud/.local/lib/python3.12/site-packages (from -r requirements.txt (line 60)) (1.6.1)\n",
      "Requirement already satisfied: scipy==1.15.3 in /home/ucloud/.local/lib/python3.12/site-packages (from -r requirements.txt (line 61)) (1.15.3)\n",
      "Requirement already satisfied: setuptools==80.4.0 in /home/ucloud/.local/lib/python3.12/site-packages (from -r requirements.txt (line 62)) (80.4.0)\n",
      "Requirement already satisfied: six==1.17.0 in /home/ucloud/.local/lib/python3.12/site-packages (from -r requirements.txt (line 63)) (1.17.0)\n",
      "Requirement already satisfied: stack-data==0.6.3 in /home/ucloud/.local/lib/python3.12/site-packages (from -r requirements.txt (line 64)) (0.6.3)\n",
      "Requirement already satisfied: tensorboard==2.19.0 in /home/ucloud/.local/lib/python3.12/site-packages (from -r requirements.txt (line 65)) (2.19.0)\n",
      "Requirement already satisfied: tensorboard-data-server==0.7.2 in /home/ucloud/.local/lib/python3.12/site-packages (from -r requirements.txt (line 66)) (0.7.2)\n",
      "Requirement already satisfied: tensorflow==2.19.0 in /home/ucloud/.local/lib/python3.12/site-packages (from -r requirements.txt (line 67)) (2.19.0)\n",
      "Requirement already satisfied: termcolor==3.1.0 in /home/ucloud/.local/lib/python3.12/site-packages (from -r requirements.txt (line 68)) (3.1.0)\n",
      "Requirement already satisfied: threadpoolctl==3.6.0 in /home/ucloud/.local/lib/python3.12/site-packages (from -r requirements.txt (line 69)) (3.6.0)\n",
      "Requirement already satisfied: tornado==6.4.2 in /home/ucloud/.local/lib/python3.12/site-packages (from -r requirements.txt (line 70)) (6.4.2)\n",
      "Requirement already satisfied: tqdm==4.67.1 in /home/ucloud/.local/lib/python3.12/site-packages (from -r requirements.txt (line 71)) (4.67.1)\n",
      "Requirement already satisfied: traitlets==5.14.3 in /home/ucloud/.local/lib/python3.12/site-packages (from -r requirements.txt (line 72)) (5.14.3)\n",
      "Requirement already satisfied: typing_extensions==4.13.2 in /home/ucloud/.local/lib/python3.12/site-packages (from -r requirements.txt (line 73)) (4.13.2)\n",
      "Requirement already satisfied: tzdata==2025.2 in /home/ucloud/.local/lib/python3.12/site-packages (from -r requirements.txt (line 74)) (2025.2)\n",
      "Requirement already satisfied: urllib3==2.4.0 in /home/ucloud/.local/lib/python3.12/site-packages (from -r requirements.txt (line 75)) (2.4.0)\n",
      "Requirement already satisfied: wcwidth==0.2.13 in /home/ucloud/.local/lib/python3.12/site-packages (from -r requirements.txt (line 76)) (0.2.13)\n",
      "Requirement already satisfied: Werkzeug==3.1.3 in /home/ucloud/.local/lib/python3.12/site-packages (from -r requirements.txt (line 77)) (3.1.3)\n",
      "Requirement already satisfied: wheel==0.45.1 in /home/ucloud/.local/lib/python3.12/site-packages (from -r requirements.txt (line 78)) (0.45.1)\n",
      "Requirement already satisfied: wrapt==1.17.2 in /home/ucloud/.local/lib/python3.12/site-packages (from -r requirements.txt (line 79)) (1.17.2)\n",
      "Using cached numpy-2.1.3-cp312-cp312-manylinux_2_17_x86_64.manylinux2014_x86_64.whl (16.0 MB)\n",
      "Installing collected packages: numpy\n",
      "  Attempting uninstall: numpy\n",
      "    Found existing installation: numpy 2.2.6\n",
      "    Uninstalling numpy-2.2.6:\n",
      "      Successfully uninstalled numpy-2.2.6\n",
      "Successfully installed numpy-2.1.3\n",
      "Defaulting to user installation because normal site-packages is not writeable\n",
      "Requirement already satisfied: matplotlib in /home/ucloud/.local/lib/python3.12/site-packages (3.10.1)\n",
      "Requirement already satisfied: opencv-python in /home/ucloud/.local/lib/python3.12/site-packages (4.11.0.86)\n",
      "Requirement already satisfied: pandas in /home/ucloud/.local/lib/python3.12/site-packages (2.2.3)\n",
      "Requirement already satisfied: scikit-learn in /home/ucloud/.local/lib/python3.12/site-packages (1.6.1)\n",
      "Requirement already satisfied: tensorflow in /home/ucloud/.local/lib/python3.12/site-packages (2.19.0)\n",
      "Requirement already satisfied: contourpy>=1.0.1 in /home/ucloud/.local/lib/python3.12/site-packages (from matplotlib) (1.3.2)\n",
      "Requirement already satisfied: cycler>=0.10 in /home/ucloud/.local/lib/python3.12/site-packages (from matplotlib) (0.12.1)\n",
      "Requirement already satisfied: fonttools>=4.22.0 in /home/ucloud/.local/lib/python3.12/site-packages (from matplotlib) (4.57.0)\n",
      "Requirement already satisfied: kiwisolver>=1.3.1 in /home/ucloud/.local/lib/python3.12/site-packages (from matplotlib) (1.4.8)\n",
      "Requirement already satisfied: numpy>=1.23 in /home/ucloud/.local/lib/python3.12/site-packages (from matplotlib) (2.1.3)\n",
      "Requirement already satisfied: packaging>=20.0 in /home/ucloud/.local/lib/python3.12/site-packages (from matplotlib) (25.0)\n",
      "Requirement already satisfied: pillow>=8 in /home/ucloud/.local/lib/python3.12/site-packages (from matplotlib) (11.2.1)\n",
      "Requirement already satisfied: pyparsing>=2.3.1 in /home/ucloud/.local/lib/python3.12/site-packages (from matplotlib) (3.2.3)\n",
      "Requirement already satisfied: python-dateutil>=2.7 in /home/ucloud/.local/lib/python3.12/site-packages (from matplotlib) (2.9.0.post0)\n",
      "Requirement already satisfied: pytz>=2020.1 in /home/ucloud/.local/lib/python3.12/site-packages (from pandas) (2025.2)\n",
      "Requirement already satisfied: tzdata>=2022.7 in /home/ucloud/.local/lib/python3.12/site-packages (from pandas) (2025.2)\n",
      "Requirement already satisfied: scipy>=1.6.0 in /home/ucloud/.local/lib/python3.12/site-packages (from scikit-learn) (1.15.3)\n",
      "Requirement already satisfied: joblib>=1.2.0 in /home/ucloud/.local/lib/python3.12/site-packages (from scikit-learn) (1.5.0)\n",
      "Requirement already satisfied: threadpoolctl>=3.1.0 in /home/ucloud/.local/lib/python3.12/site-packages (from scikit-learn) (3.6.0)\n",
      "Requirement already satisfied: absl-py>=1.0.0 in /home/ucloud/.local/lib/python3.12/site-packages (from tensorflow) (2.2.2)\n",
      "Requirement already satisfied: astunparse>=1.6.0 in /home/ucloud/.local/lib/python3.12/site-packages (from tensorflow) (1.6.3)\n",
      "Requirement already satisfied: flatbuffers>=24.3.25 in /home/ucloud/.local/lib/python3.12/site-packages (from tensorflow) (25.2.10)\n",
      "Requirement already satisfied: gast!=0.5.0,!=0.5.1,!=0.5.2,>=0.2.1 in /home/ucloud/.local/lib/python3.12/site-packages (from tensorflow) (0.6.0)\n",
      "Requirement already satisfied: google-pasta>=0.1.1 in /home/ucloud/.local/lib/python3.12/site-packages (from tensorflow) (0.2.0)\n",
      "Requirement already satisfied: libclang>=13.0.0 in /home/ucloud/.local/lib/python3.12/site-packages (from tensorflow) (18.1.1)\n",
      "Requirement already satisfied: opt-einsum>=2.3.2 in /home/ucloud/.local/lib/python3.12/site-packages (from tensorflow) (3.4.0)\n",
      "Requirement already satisfied: protobuf!=4.21.0,!=4.21.1,!=4.21.2,!=4.21.3,!=4.21.4,!=4.21.5,<6.0.0dev,>=3.20.3 in /home/ucloud/.local/lib/python3.12/site-packages (from tensorflow) (5.29.4)\n",
      "Requirement already satisfied: requests<3,>=2.21.0 in /home/ucloud/.local/lib/python3.12/site-packages (from tensorflow) (2.32.3)\n",
      "Requirement already satisfied: setuptools in /home/ucloud/.local/lib/python3.12/site-packages (from tensorflow) (80.4.0)\n",
      "Requirement already satisfied: six>=1.12.0 in /home/ucloud/.local/lib/python3.12/site-packages (from tensorflow) (1.17.0)\n",
      "Requirement already satisfied: termcolor>=1.1.0 in /home/ucloud/.local/lib/python3.12/site-packages (from tensorflow) (3.1.0)\n",
      "Requirement already satisfied: typing-extensions>=3.6.6 in /home/ucloud/.local/lib/python3.12/site-packages (from tensorflow) (4.13.2)\n",
      "Requirement already satisfied: wrapt>=1.11.0 in /home/ucloud/.local/lib/python3.12/site-packages (from tensorflow) (1.17.2)\n",
      "Requirement already satisfied: grpcio<2.0,>=1.24.3 in /home/ucloud/.local/lib/python3.12/site-packages (from tensorflow) (1.71.0)\n",
      "Requirement already satisfied: tensorboard~=2.19.0 in /home/ucloud/.local/lib/python3.12/site-packages (from tensorflow) (2.19.0)\n",
      "Requirement already satisfied: keras>=3.5.0 in /home/ucloud/.local/lib/python3.12/site-packages (from tensorflow) (3.9.2)\n",
      "Requirement already satisfied: h5py>=3.11.0 in /home/ucloud/.local/lib/python3.12/site-packages (from tensorflow) (3.13.0)\n",
      "Requirement already satisfied: ml-dtypes<1.0.0,>=0.5.1 in /home/ucloud/.local/lib/python3.12/site-packages (from tensorflow) (0.5.1)\n",
      "Requirement already satisfied: wheel<1.0,>=0.23.0 in /home/ucloud/.local/lib/python3.12/site-packages (from astunparse>=1.6.0->tensorflow) (0.45.1)\n",
      "Requirement already satisfied: rich in /home/ucloud/.local/lib/python3.12/site-packages (from keras>=3.5.0->tensorflow) (14.0.0)\n",
      "Requirement already satisfied: namex in /home/ucloud/.local/lib/python3.12/site-packages (from keras>=3.5.0->tensorflow) (0.0.9)\n",
      "Requirement already satisfied: optree in /home/ucloud/.local/lib/python3.12/site-packages (from keras>=3.5.0->tensorflow) (0.15.0)\n",
      "Requirement already satisfied: charset-normalizer<4,>=2 in /home/ucloud/.local/lib/python3.12/site-packages (from requests<3,>=2.21.0->tensorflow) (3.4.2)\n",
      "Requirement already satisfied: idna<4,>=2.5 in /home/ucloud/.local/lib/python3.12/site-packages (from requests<3,>=2.21.0->tensorflow) (3.10)\n",
      "Requirement already satisfied: urllib3<3,>=1.21.1 in /home/ucloud/.local/lib/python3.12/site-packages (from requests<3,>=2.21.0->tensorflow) (2.4.0)\n",
      "Requirement already satisfied: certifi>=2017.4.17 in /home/ucloud/.local/lib/python3.12/site-packages (from requests<3,>=2.21.0->tensorflow) (2025.4.26)\n",
      "Requirement already satisfied: markdown>=2.6.8 in /home/ucloud/.local/lib/python3.12/site-packages (from tensorboard~=2.19.0->tensorflow) (3.8)\n",
      "Requirement already satisfied: tensorboard-data-server<0.8.0,>=0.7.0 in /home/ucloud/.local/lib/python3.12/site-packages (from tensorboard~=2.19.0->tensorflow) (0.7.2)\n",
      "Requirement already satisfied: werkzeug>=1.0.1 in /home/ucloud/.local/lib/python3.12/site-packages (from tensorboard~=2.19.0->tensorflow) (3.1.3)\n",
      "Requirement already satisfied: MarkupSafe>=2.1.1 in /home/ucloud/.local/lib/python3.12/site-packages (from werkzeug>=1.0.1->tensorboard~=2.19.0->tensorflow) (3.0.2)\n",
      "Requirement already satisfied: markdown-it-py>=2.2.0 in /home/ucloud/.local/lib/python3.12/site-packages (from rich->keras>=3.5.0->tensorflow) (3.0.0)\n",
      "Requirement already satisfied: pygments<3.0.0,>=2.13.0 in /home/ucloud/.local/lib/python3.12/site-packages (from rich->keras>=3.5.0->tensorflow) (2.19.1)\n",
      "Requirement already satisfied: mdurl~=0.1 in /home/ucloud/.local/lib/python3.12/site-packages (from markdown-it-py>=2.2.0->rich->keras>=3.5.0->tensorflow) (0.1.2)\n",
      "Defaulting to user installation because normal site-packages is not writeable\n",
      "Collecting numpy==1.26.4\n",
      "  Using cached numpy-1.26.4-cp312-cp312-manylinux_2_17_x86_64.manylinux2014_x86_64.whl.metadata (61 kB)\n",
      "Using cached numpy-1.26.4-cp312-cp312-manylinux_2_17_x86_64.manylinux2014_x86_64.whl (18.0 MB)\n",
      "Installing collected packages: numpy\n",
      "  Attempting uninstall: numpy\n",
      "    Found existing installation: numpy 2.1.3\n",
      "    Uninstalling numpy-2.1.3:\n",
      "      Successfully uninstalled numpy-2.1.3\n",
      "Successfully installed numpy-1.26.4\n",
      "Defaulting to user installation because normal site-packages is not writeable\n",
      "Requirement already satisfied: editdistance in /home/ucloud/.local/lib/python3.12/site-packages (0.8.1)\n",
      "Defaulting to user installation because normal site-packages is not writeable\n",
      "Collecting scipy\n",
      "  Downloading scipy-1.15.3-cp312-cp312-manylinux_2_17_x86_64.manylinux2014_x86_64.whl.metadata (61 kB)\n",
      "Collecting numpy<2.5,>=1.23.5 (from scipy)\n",
      "  Downloading numpy-2.2.6-cp312-cp312-manylinux_2_17_x86_64.manylinux2014_x86_64.whl.metadata (62 kB)\n",
      "Downloading scipy-1.15.3-cp312-cp312-manylinux_2_17_x86_64.manylinux2014_x86_64.whl (37.3 MB)\n",
      "\u001b[2K   \u001b[90m━━━━━━━━━━━━━━━━━━━━━━━━━━━━━━━━━━━━━━━━\u001b[0m \u001b[32m37.3/37.3 MB\u001b[0m \u001b[31m169.2 MB/s\u001b[0m eta \u001b[36m0:00:00\u001b[0ma \u001b[36m0:00:01\u001b[0m\n",
      "\u001b[?25hDownloading numpy-2.2.6-cp312-cp312-manylinux_2_17_x86_64.manylinux2014_x86_64.whl (16.5 MB)\n",
      "\u001b[2K   \u001b[90m━━━━━━━━━━━━━━━━━━━━━━━━━━━━━━━━━━━━━━━━\u001b[0m \u001b[32m16.5/16.5 MB\u001b[0m \u001b[31m206.6 MB/s\u001b[0m eta \u001b[36m0:00:00\u001b[0m\n",
      "\u001b[?25hInstalling collected packages: numpy, scipy\n",
      "  Attempting uninstall: numpy\n",
      "    Found existing installation: numpy 1.26.4\n",
      "    Uninstalling numpy-1.26.4:\n",
      "      Successfully uninstalled numpy-1.26.4\n",
      "  Attempting uninstall: scipy\n",
      "    Found existing installation: scipy 1.15.3\n",
      "    Uninstalling scipy-1.15.3:\n",
      "      Successfully uninstalled scipy-1.15.3\n",
      "\u001b[31mERROR: pip's dependency resolver does not currently take into account all the packages that are installed. This behaviour is the source of the following dependency conflicts.\n",
      "tensorflow 2.19.0 requires numpy<2.2.0,>=1.26.0, but you have numpy 2.2.6 which is incompatible.\u001b[0m\u001b[31m\n",
      "\u001b[0mSuccessfully installed numpy-2.2.6 scipy-1.15.3\n",
      "Defaulting to user installation because normal site-packages is not writeable\n",
      "Collecting scikit-learn\n",
      "  Downloading scikit_learn-1.6.1-cp312-cp312-manylinux_2_17_x86_64.manylinux2014_x86_64.whl.metadata (18 kB)\n",
      "Collecting numpy>=1.19.5 (from scikit-learn)\n",
      "  Downloading numpy-2.2.6-cp312-cp312-manylinux_2_17_x86_64.manylinux2014_x86_64.whl.metadata (62 kB)\n",
      "Collecting scipy>=1.6.0 (from scikit-learn)\n",
      "  Downloading scipy-1.15.3-cp312-cp312-manylinux_2_17_x86_64.manylinux2014_x86_64.whl.metadata (61 kB)\n",
      "Collecting joblib>=1.2.0 (from scikit-learn)\n",
      "  Downloading joblib-1.5.0-py3-none-any.whl.metadata (5.6 kB)\n",
      "Collecting threadpoolctl>=3.1.0 (from scikit-learn)\n",
      "  Downloading threadpoolctl-3.6.0-py3-none-any.whl.metadata (13 kB)\n",
      "Downloading scikit_learn-1.6.1-cp312-cp312-manylinux_2_17_x86_64.manylinux2014_x86_64.whl (13.1 MB)\n",
      "\u001b[2K   \u001b[90m━━━━━━━━━━━━━━━━━━━━━━━━━━━━━━━━━━━━━━━━\u001b[0m \u001b[32m13.1/13.1 MB\u001b[0m \u001b[31m128.8 MB/s\u001b[0m eta \u001b[36m0:00:00\u001b[0m\n",
      "\u001b[?25hDownloading joblib-1.5.0-py3-none-any.whl (307 kB)\n",
      "Downloading numpy-2.2.6-cp312-cp312-manylinux_2_17_x86_64.manylinux2014_x86_64.whl (16.5 MB)\n",
      "\u001b[2K   \u001b[90m━━━━━━━━━━━━━━━━━━━━━━━━━━━━━━━━━━━━━━━━\u001b[0m \u001b[32m16.5/16.5 MB\u001b[0m \u001b[31m194.1 MB/s\u001b[0m eta \u001b[36m0:00:00\u001b[0m\n",
      "\u001b[?25hDownloading scipy-1.15.3-cp312-cp312-manylinux_2_17_x86_64.manylinux2014_x86_64.whl (37.3 MB)\n",
      "\u001b[2K   \u001b[90m━━━━━━━━━━━━━━━━━━━━━━━━━━━━━━━━━━━━━━━━\u001b[0m \u001b[32m37.3/37.3 MB\u001b[0m \u001b[31m200.8 MB/s\u001b[0m eta \u001b[36m0:00:00\u001b[0m\n",
      "\u001b[?25hDownloading threadpoolctl-3.6.0-py3-none-any.whl (18 kB)\n",
      "Installing collected packages: threadpoolctl, numpy, joblib, scipy, scikit-learn\n",
      "  Attempting uninstall: threadpoolctl\n",
      "    Found existing installation: threadpoolctl 3.6.0\n",
      "    Uninstalling threadpoolctl-3.6.0:\n",
      "      Successfully uninstalled threadpoolctl-3.6.0\n",
      "  Attempting uninstall: numpy\n",
      "    Found existing installation: numpy 2.2.6\n",
      "    Uninstalling numpy-2.2.6:\n",
      "      Successfully uninstalled numpy-2.2.6\n",
      "  Attempting uninstall: joblib\n",
      "    Found existing installation: joblib 1.5.0\n",
      "    Uninstalling joblib-1.5.0:\n",
      "      Successfully uninstalled joblib-1.5.0\n",
      "  Attempting uninstall: scipy\n",
      "    Found existing installation: scipy 1.15.3\n",
      "    Uninstalling scipy-1.15.3:\n",
      "      Successfully uninstalled scipy-1.15.3\n",
      "  Attempting uninstall: scikit-learn\n",
      "    Found existing installation: scikit-learn 1.6.1\n",
      "    Uninstalling scikit-learn-1.6.1:\n",
      "      Successfully uninstalled scikit-learn-1.6.1\n",
      "\u001b[31mERROR: pip's dependency resolver does not currently take into account all the packages that are installed. This behaviour is the source of the following dependency conflicts.\n",
      "tensorflow 2.19.0 requires numpy<2.2.0,>=1.26.0, but you have numpy 2.2.6 which is incompatible.\u001b[0m\u001b[31m\n",
      "\u001b[0mSuccessfully installed joblib-1.5.0 numpy-2.2.6 scikit-learn-1.6.1 scipy-1.15.3 threadpoolctl-3.6.0\n"
     ]
    }
   ],
   "source": [
    "!pip install -r requirements.txt\n",
    "!pip install matplotlib opencv-python pandas scikit-learn tensorflow\n",
    "!pip install numpy==1.26.4 --force-reinstall\n",
    "!pip install editdistance\n",
    "\n",
    "# scipy\n",
    "!pip install --upgrade --force-reinstall --no-cache-dir scipy\n",
    "!pip install --upgrade --force-reinstall --no-cache-dir scikit-learn\n"
   ]
  },
  {
   "cell_type": "code",
   "execution_count": 32,
   "id": "5db0c496",
   "metadata": {},
   "outputs": [
    {
     "name": "stdout",
     "output_type": "stream",
     "text": [
      "Hit:1 http://security.ubuntu.com/ubuntu noble-security InRelease\n",
      "Hit:2 http://archive.ubuntu.com/ubuntu noble InRelease\n",
      "Hit:3 http://archive.ubuntu.com/ubuntu noble-updates InRelease\n",
      "Hit:4 http://archive.ubuntu.com/ubuntu noble-backports InRelease\n",
      "Reading package lists... Done\n",
      "Reading package lists... Done\n",
      "Building dependency tree... Done\n",
      "Reading state information... Done\n",
      "libgl1 is already the newest version (1.7.0-1build1).\n",
      "0 upgraded, 0 newly installed, 0 to remove and 47 not upgraded.\n"
     ]
    }
   ],
   "source": [
    "!sudo apt-get update\n",
    "!sudo apt-get install -y libgl1\n",
    "# !sudo apt-get -y upgrade\n",
    "# git clone git@github.com:LinusLinuxer/SPECIALIZATION-PROEJECT.git\n"
   ]
  },
  {
   "cell_type": "code",
   "execution_count": null,
   "id": "eed5e63e",
   "metadata": {},
   "outputs": [],
   "source": [
    "# Set your name\n",
    "!git config --global user.name \"Linus Engelbrecht\"\n",
    "\n",
    "# Set your email\n",
    "!git config --global user.email \"linusengelbrecht@web.de\""
   ]
  },
  {
   "cell_type": "code",
   "execution_count": 1,
   "id": "325a8a0d",
   "metadata": {},
   "outputs": [
    {
     "name": "stderr",
     "output_type": "stream",
     "text": [
      "2025-05-23 13:23:01.059718: I external/local_xla/xla/tsl/cuda/cudart_stub.cc:32] Could not find cuda drivers on your machine, GPU will not be used.\n",
      "2025-05-23 13:23:01.181829: I external/local_xla/xla/tsl/cuda/cudart_stub.cc:32] Could not find cuda drivers on your machine, GPU will not be used.\n",
      "2025-05-23 13:23:01.268099: E external/local_xla/xla/stream_executor/cuda/cuda_fft.cc:467] Unable to register cuFFT factory: Attempting to register factory for plugin cuFFT when one has already been registered\n",
      "WARNING: All log messages before absl::InitializeLog() is called are written to STDERR\n",
      "E0000 00:00:1747999381.354864    7578 cuda_dnn.cc:8579] Unable to register cuDNN factory: Attempting to register factory for plugin cuDNN when one has already been registered\n",
      "E0000 00:00:1747999381.378462    7578 cuda_blas.cc:1407] Unable to register cuBLAS factory: Attempting to register factory for plugin cuBLAS when one has already been registered\n",
      "W0000 00:00:1747999381.556274    7578 computation_placer.cc:177] computation placer already registered. Please check linkage and avoid linking the same target more than once.\n",
      "W0000 00:00:1747999381.556297    7578 computation_placer.cc:177] computation placer already registered. Please check linkage and avoid linking the same target more than once.\n",
      "W0000 00:00:1747999381.556298    7578 computation_placer.cc:177] computation placer already registered. Please check linkage and avoid linking the same target more than once.\n",
      "W0000 00:00:1747999381.556299    7578 computation_placer.cc:177] computation placer already registered. Please check linkage and avoid linking the same target more than once.\n",
      "2025-05-23 13:23:01.573339: I tensorflow/core/platform/cpu_feature_guard.cc:210] This TensorFlow binary is optimized to use available CPU instructions in performance-critical operations.\n",
      "To enable the following instructions: AVX2 FMA, in other operations, rebuild TensorFlow with the appropriate compiler flags.\n"
     ]
    }
   ],
   "source": [
    "import os\n",
    "import numpy as np\n",
    "import matplotlib.pyplot as plt\n",
    "import cv2\n",
    "import pandas as pd\n",
    "from sklearn.model_selection import train_test_split\n",
    "from editdistance import eval as edit_distance  \n",
    "\n",
    "import tensorflow as tf\n",
    "from tensorflow import keras\n",
    "from tensorflow.keras import models, layers\n",
    "from tensorflow.keras.preprocessing.sequence import pad_sequences\n",
    "from tensorflow.keras.utils import to_categorical\n",
    "from tensorflow.keras.models import load_model\n",
    "from tensorflow.keras.backend import ctc_decode\n",
    "from tensorflow.keras.optimizers import Adam\n"
   ]
  },
  {
   "cell_type": "markdown",
   "id": "96ec81f6",
   "metadata": {},
   "source": [
    "---\n",
    "## Loading the data\n",
    "Data has to load out of the 'carolianminuscule-groundtruth'-folder "
   ]
  },
  {
   "cell_type": "code",
   "execution_count": 2,
   "id": "70206626",
   "metadata": {},
   "outputs": [],
   "source": [
    "def get_images(folder_path: str):\n",
    "    \"\"\"\n",
    "    Load images and text files from the given path.\n",
    "    :param folder_path: Path to the directory containing images and text files.\n",
    "    :return: Two lists - one for image paths and one for text file paths.\n",
    "    \"\"\"\n",
    "    if not os.path.exists(folder_path):\n",
    "        raise FileNotFoundError(f\"Path {folder_path} does not exist.\")\n",
    "\n",
    "    images = []\n",
    "    files = []\n",
    "\n",
    "    for entry in os.listdir(folder_path):\n",
    "        entry_path = os.path.join(folder_path, entry)\n",
    "        if os.path.isdir(entry_path):\n",
    "            # Recursively get images and text files from subdirectories\n",
    "            sub_images, sub_files = get_images(entry_path)\n",
    "            images.extend(sub_images)\n",
    "            files.extend(sub_files)\n",
    "        elif entry.endswith(\".png\"):\n",
    "            images.append(entry_path)\n",
    "        elif entry.endswith(\".txt\"):\n",
    "            files.append(entry_path)\n",
    "\n",
    "    return images, files\n",
    "\n",
    "\n",
    "# load the data from the directory\n",
    "path = \"carolineminuscule-groundtruth\"\n",
    "images, files = get_images(path)\n",
    "\n",
    "\n",
    "# matched the .png- and .txt-file in a folder together\n",
    "matched_list_path = [\n",
    "    [img, file]\n",
    "    for img in images\n",
    "    for file in files\n",
    "    if os.path.dirname(img) == os.path.dirname(file)\n",
    "    and os.path.splitext(os.path.splitext(os.path.basename(img))[0])[0]\n",
    "    == os.path.splitext(os.path.splitext(os.path.basename(file))[0])[0]\n",
    "]\n"
   ]
  },
  {
   "cell_type": "code",
   "execution_count": 3,
   "id": "f715ff21",
   "metadata": {},
   "outputs": [
    {
     "name": "stdout",
     "output_type": "stream",
     "text": [
      "len matched: 429\n",
      "matched_list:\n",
      " ['carolineminuscule-groundtruth/bsb00095929/0011/010002.bin.png', 'carolineminuscule-groundtruth/bsb00095929/0011/010002.gt.txt']\n"
     ]
    }
   ],
   "source": [
    "print(f\"len matched: {len(matched_list_path)}\")\n",
    "print(f\"matched_list:\\n {matched_list_path[1]}\")"
   ]
  },
  {
   "cell_type": "markdown",
   "id": "48e60f70",
   "metadata": {},
   "source": [
    "---\n",
    "## Creating the Dataset"
   ]
  },
  {
   "cell_type": "code",
   "execution_count": 4,
   "id": "8877200c",
   "metadata": {},
   "outputs": [],
   "source": [
    "# define a dataframe to store the image, image paths and their corresponding text files\n",
    "df = pd.DataFrame(columns=[\"name\", \"image\", \"transcription\"])\n",
    "\n",
    "for i, (img_path, file_path) in enumerate(matched_list_path):\n",
    "    # read the image\n",
    "    img = cv2.imread(img_path, cv2.IMREAD_UNCHANGED)\n",
    "    img = np.array(img)\n",
    "    # add the image to the dataframe, set \"none\" here to add transcription later\n",
    "    df.loc[i] = [os.path.basename(img_path), img, None]\n",
    "    # read the text file\n",
    "    with open(file_path, \"r\") as f:\n",
    "        # read the transcription\n",
    "        transcription = f.read()\n",
    "    # add the transcription to the dataframe\n",
    "    df.loc[i, \"transcription\"] = transcription"
   ]
  },
  {
   "cell_type": "code",
   "execution_count": 5,
   "id": "4f1c8f39",
   "metadata": {},
   "outputs": [
    {
     "data": {
      "text/html": [
       "<div>\n",
       "<style scoped>\n",
       "    .dataframe tbody tr th:only-of-type {\n",
       "        vertical-align: middle;\n",
       "    }\n",
       "\n",
       "    .dataframe tbody tr th {\n",
       "        vertical-align: top;\n",
       "    }\n",
       "\n",
       "    .dataframe thead th {\n",
       "        text-align: right;\n",
       "    }\n",
       "</style>\n",
       "<table border=\"1\" class=\"dataframe\">\n",
       "  <thead>\n",
       "    <tr style=\"text-align: right;\">\n",
       "      <th></th>\n",
       "      <th>name</th>\n",
       "      <th>image</th>\n",
       "      <th>transcription</th>\n",
       "    </tr>\n",
       "  </thead>\n",
       "  <tbody>\n",
       "    <tr>\n",
       "      <th>0</th>\n",
       "      <td>010005.bin.png</td>\n",
       "      <td>[[255, 255, 255, 255, 255, 255, 255, 255, 255,...</td>\n",
       "      <td>initio sicuti pleriq; studio ad empabacan</td>\n",
       "    </tr>\n",
       "    <tr>\n",
       "      <th>1</th>\n",
       "      <td>010002.bin.png</td>\n",
       "      <td>[[255, 255, 255, 255, 255, 255, 255, 255, 255,...</td>\n",
       "      <td>gla memores que s quis: faciliafacto putat</td>\n",
       "    </tr>\n",
       "    <tr>\n",
       "      <th>2</th>\n",
       "      <td>010007.bin.png</td>\n",
       "      <td>[[255, 255, 255, 255, 255, 255, 255, 255, 255,...</td>\n",
       "      <td>pro abstinentia ꝓuirtute audacia. largitio. au...</td>\n",
       "    </tr>\n",
       "    <tr>\n",
       "      <th>3</th>\n",
       "      <td>010008.bin.png</td>\n",
       "      <td>[[255, 255, 255, 255, 255, 255, 255, 255, 255,...</td>\n",
       "      <td>bant. Quę tametsianimus aspꝑnabatur. insolens ...</td>\n",
       "    </tr>\n",
       "    <tr>\n",
       "      <th>4</th>\n",
       "      <td>010017.bin.png</td>\n",
       "      <td>[[255, 255, 255, 255, 255, 255, 255, 255, 255,...</td>\n",
       "      <td>tilinę coniuratione quam uerissime potero paucis</td>\n",
       "    </tr>\n",
       "  </tbody>\n",
       "</table>\n",
       "</div>"
      ],
      "text/plain": [
       "             name                                              image  \\\n",
       "0  010005.bin.png  [[255, 255, 255, 255, 255, 255, 255, 255, 255,...   \n",
       "1  010002.bin.png  [[255, 255, 255, 255, 255, 255, 255, 255, 255,...   \n",
       "2  010007.bin.png  [[255, 255, 255, 255, 255, 255, 255, 255, 255,...   \n",
       "3  010008.bin.png  [[255, 255, 255, 255, 255, 255, 255, 255, 255,...   \n",
       "4  010017.bin.png  [[255, 255, 255, 255, 255, 255, 255, 255, 255,...   \n",
       "\n",
       "                                       transcription  \n",
       "0          initio sicuti pleriq; studio ad empabacan  \n",
       "1         gla memores que s quis: faciliafacto putat  \n",
       "2  pro abstinentia ꝓuirtute audacia. largitio. au...  \n",
       "3  bant. Quę tametsianimus aspꝑnabatur. insolens ...  \n",
       "4   tilinę coniuratione quam uerissime potero paucis  "
      ]
     },
     "execution_count": 5,
     "metadata": {},
     "output_type": "execute_result"
    }
   ],
   "source": [
    "# delete all the linebrakes in the transcription\n",
    "df[\"transcription\"] = df[\"transcription\"].str.replace(\"\\n\", \"\", regex=False)\n",
    "df.head(5)"
   ]
  },
  {
   "cell_type": "markdown",
   "id": "f47d708f",
   "metadata": {},
   "source": [
    "For now it appear that the images only have \"255\" as values, i.e. white. That's why im checking for other values. But the edges of the images are all white, therefore this is the exspected behaviour."
   ]
  },
  {
   "cell_type": "code",
   "execution_count": 6,
   "id": "ecfc47fb",
   "metadata": {},
   "outputs": [
    {
     "name": "stdout",
     "output_type": "stream",
     "text": [
      "Rows  in 'image' with values other than 255: 429\n"
     ]
    }
   ],
   "source": [
    "non_255_values = df['image'].apply(lambda img: np.any(img != 255))\n",
    "print(f\"Rows  in 'image' with values other than 255: {non_255_values.sum()}\")"
   ]
  },
  {
   "cell_type": "code",
   "execution_count": 7,
   "id": "15737cd3",
   "metadata": {},
   "outputs": [
    {
     "name": "stdout",
     "output_type": "stream",
     "text": [
      "Are the values in 'name' unique? False\n"
     ]
    }
   ],
   "source": [
    "is_unique = df[\"name\"].is_unique\n",
    "print(f\"Are the values in 'name' unique? {is_unique}\")"
   ]
  },
  {
   "cell_type": "code",
   "execution_count": 8,
   "id": "13969837",
   "metadata": {},
   "outputs": [
    {
     "name": "stdout",
     "output_type": "stream",
     "text": [
      "Non-unique values in 'name':\n",
      "['010005.bin.png' '010002.bin.png' '010007.bin.png' '010008.bin.png'\n",
      " '010017.bin.png' '01000a.bin.png' '010019.bin.png' '010011.bin.png'\n",
      " '010010.bin.png' '01000e.bin.png' '010001.bin.png' '01001a.bin.png'\n",
      " '010013.bin.png' '010003.bin.png' '010015.bin.png' '010009.bin.png'\n",
      " '010014.bin.png' '01000c.bin.png' '01000b.bin.png' '010004.bin.png'\n",
      " '01000d.bin.png' '01001b.bin.png' '010012.bin.png' '010006.bin.png'\n",
      " '010018.bin.png' '01000f.bin.png' '010016.bin.png' '01001c.bin.png']\n",
      "Sum of non-unique item: 28\n"
     ]
    }
   ],
   "source": [
    "# Find duplicated values in the 'name' column\n",
    "duplicated_names = df[df[\"name\"].duplicated(keep=False)][\"name\"]\n",
    "print(\"Non-unique values in 'name':\")\n",
    "print(duplicated_names.unique())\n",
    "print(f\"Sum of non-unique item: {len(duplicated_names.unique())}\")"
   ]
  },
  {
   "cell_type": "code",
   "execution_count": 9,
   "id": "b8423507",
   "metadata": {},
   "outputs": [
    {
     "name": "stdout",
     "output_type": "stream",
     "text": [
      "Are the values in 'name' unique? True\n"
     ]
    }
   ],
   "source": [
    "# Check if the values in the 'name' column are unique\n",
    "# If not, make them unique by appending a counter to duplicates\n",
    "\n",
    "def make_unique(names):\n",
    "    counts = {}\n",
    "    result = []\n",
    "    for name in names:\n",
    "        if name not in counts:\n",
    "            counts[name] = 0\n",
    "            result.append(name)\n",
    "        else:\n",
    "            counts[name] += 1\n",
    "            result.append(f\"{name}.{counts[name]}\")\n",
    "    return result\n",
    "\n",
    "df[\"name\"] = make_unique(df[\"name\"])\n",
    "is_unique = df[\"name\"].is_unique\n",
    "print(f\"Are the values in 'name' unique? {is_unique}\")"
   ]
  },
  {
   "cell_type": "code",
   "execution_count": 10,
   "id": "fe994baf",
   "metadata": {},
   "outputs": [
    {
     "name": "stdout",
     "output_type": "stream",
     "text": [
      "Non-unique values in 'name':\n",
      "[]\n",
      "Sum of non-unique item: 0\n"
     ]
    }
   ],
   "source": [
    "# Find duplicated values in the 'name' column\n",
    "duplicated_names = df[df[\"name\"].duplicated(keep=False)][\"name\"]\n",
    "print(\"Non-unique values in 'name':\")\n",
    "print(duplicated_names.unique())\n",
    "print(f\"Sum of non-unique item: {len(duplicated_names.unique())}\")"
   ]
  },
  {
   "cell_type": "markdown",
   "id": "95fb1435",
   "metadata": {},
   "source": [
    "---\n",
    "## Preparing the data"
   ]
  },
  {
   "cell_type": "markdown",
   "id": "549cb64f",
   "metadata": {},
   "source": [
    "By calculating the maximum and avg. number of the height we can use that value later in our CNN."
   ]
  },
  {
   "cell_type": "code",
   "execution_count": 11,
   "id": "4dcdfc48",
   "metadata": {},
   "outputs": [
    {
     "name": "stdout",
     "output_type": "stream",
     "text": [
      "Maximum height of an image: 263\n",
      "Average height of an image: 140\n",
      "95% quantile height: 193\n",
      "Maximum width of an image: 3058\n",
      "Average width of an image: 1938\n",
      "95% quantile width: 2902\n"
     ]
    }
   ],
   "source": [
    "# Calculate the maximum and average width of the lists in the 'image' column\n",
    "image_heigth = df[\"image\"].apply(lambda img: img.shape[0])  # Height of each image\n",
    "max_height = image_heigth.max()\n",
    "avg_height = image_heigth.mean()\n",
    "quantile_height = image_heigth.quantile(0.95)\n",
    "\n",
    "# Calculate the maximum and average width of the lists in the 'image' column\n",
    "image_width = df[\"image\"].apply(lambda img: img.shape[1])  # Width of each image\n",
    "max_width = image_width.max()\n",
    "avg_width = image_width.mean()\n",
    "quantile_width = image_width.quantile(0.95)\n",
    "\n",
    "print(f\"Maximum height of an image: {max_height}\")\n",
    "print(f\"Average height of an image: {int(avg_height)}\")\n",
    "print(f\"95% quantile height: {int(quantile_height)}\")\n",
    "print(f\"Maximum width of an image: {int(max_width)}\")\n",
    "print(f\"Average width of an image: {int(avg_width)}\")\n",
    "print(f\"95% quantile width: {int(quantile_width)}\")"
   ]
  },
  {
   "cell_type": "code",
   "execution_count": 12,
   "id": "ca3c9713",
   "metadata": {},
   "outputs": [],
   "source": [
    "# Features (images) and labels (transcriptions)\n",
    "X = df[\"image\"].values          # Images as NumPy arrays\n",
    "y = df[\"transcription\"].values  # Transcriptions as strings"
   ]
  },
  {
   "cell_type": "code",
   "execution_count": 13,
   "id": "556ff1f4",
   "metadata": {},
   "outputs": [
    {
     "name": "stdout",
     "output_type": "stream",
     "text": [
      "X shape: (429, 256, 2048), dtype: float32\n"
     ]
    }
   ],
   "source": [
    "# Convert images to NumPy arrays and normalize\n",
    "X = np.array(\n",
    "    [cv2.resize(img, (2048, 256)) for img in df[\"image\"]], dtype=np.float32\n",
    ")  # Resize and convert to float32\n",
    "\n",
    "print(f\"X shape: {X.shape}, dtype: {X.dtype}\")"
   ]
  },
  {
   "cell_type": "code",
   "execution_count": 14,
   "id": "306d89d7",
   "metadata": {},
   "outputs": [
    {
     "name": "stdout",
     "output_type": "stream",
     "text": [
      "Transcription lengths:\n",
      "Max length:\t\t 70\n",
      "Mean length:\t\t 46\n",
      "95%-Quantile:\t\t 65\n"
     ]
    }
   ],
   "source": [
    "# find the length of the transcription\n",
    "# aplly different measures\n",
    "\n",
    "transcription_lengths = df[\"transcription\"].apply(len)\n",
    "print(\"Transcription lengths:\")\n",
    "print(f\"Max length:\\t\\t {int(transcription_lengths.max())}\")\n",
    "print(f\"Mean length:\\t\\t {int(transcription_lengths.mean())}\")\n",
    "print(f\"95%-Quantile:\\t\\t {int(transcription_lengths.quantile(0.95))}\")"
   ]
  },
  {
   "cell_type": "code",
   "execution_count": null,
   "id": "e78911a7",
   "metadata": {},
   "outputs": [
    {
     "name": "stdout",
     "output_type": "stream",
     "text": [
      "Character set (+ blank): [' ', '&', \"'\", '*', ',', '.', '/', '1', ':', ';', '?', 'A', 'B', 'C', 'D', 'E', 'F', 'H', 'I', 'K', 'L', 'M', 'N', 'O', 'P', 'Q', 'R', 'S', 'T', 'U', 'V', 'X', 'a', 'b', 'c', 'd', 'e', 'f', 'g', 'h', 'i', 'l', 'm', 'n', 'o', 'p', 'q', 'r', 's', 't', 'u', 'v', 'x', 'y', 'z', 'á', 'ã', 'æ', 'é', 'õ', 'ú', 'ā', 'ć', 'đ', 'ē', 'ę', 'ĩ', 'ī', 'ń', 'ō', 'ś', 'ũ', 'ū', 'ǣ', 'ǵ', 'ḿ', 'ẽ', 'ꝑ', 'ꝓ', 'ꝗ', 'ꝙ', 'ꝛ', 'ꝝ', '']\n",
      "Number of classes: 84\n",
      "Blank index: 83\n",
      "y shape: (429,), dtype: object\n",
      "char to index {' ': 0, '&': 1, \"'\": 2, '*': 3, ',': 4, '.': 5, '/': 6, '1': 7, ':': 8, ';': 9, '?': 10, 'A': 11, 'B': 12, 'C': 13, 'D': 14, 'E': 15, 'F': 16, 'H': 17, 'I': 18, 'K': 19, 'L': 20, 'M': 21, 'N': 22, 'O': 23, 'P': 24, 'Q': 25, 'R': 26, 'S': 27, 'T': 28, 'U': 29, 'V': 30, 'X': 31, 'a': 32, 'b': 33, 'c': 34, 'd': 35, 'e': 36, 'f': 37, 'g': 38, 'h': 39, 'i': 40, 'l': 41, 'm': 42, 'n': 43, 'o': 44, 'p': 45, 'q': 46, 'r': 47, 's': 48, 't': 49, 'u': 50, 'v': 51, 'x': 52, 'y': 53, 'z': 54, 'á': 55, 'ã': 56, 'æ': 57, 'é': 58, 'õ': 59, 'ú': 60, 'ā': 61, 'ć': 62, 'đ': 63, 'ē': 64, 'ę': 65, 'ĩ': 66, 'ī': 67, 'ń': 68, 'ō': 69, 'ś': 70, 'ũ': 71, 'ū': 72, 'ǣ': 73, 'ǵ': 74, 'ḿ': 75, 'ẽ': 76, 'ꝑ': 77, 'ꝓ': 78, 'ꝗ': 79, 'ꝙ': 80, 'ꝛ': 81, 'ꝝ': 82, '': 83}\n"
     ]
    }
   ],
   "source": [
    "# 1) Build the base charset from your transcriptions\n",
    "charset = sorted(set(\"\".join(df[\"transcription\"])))\n",
    "\n",
    "# 2) Append the CTC blank token (we’ll represent it as the empty string '')\n",
    "blank_char = \"\"\n",
    "charset.append(blank_char)\n",
    "\n",
    "# 3) Now build your mappings\n",
    "char_to_index = {char: idx for idx, char in enumerate(charset)}\n",
    "index_to_char = {idx: char for char, idx in char_to_index.items()}\n",
    "\n",
    "# 4) Number of classes is now exactly the size of charset\n",
    "num_classes = len(charset)\n",
    "\n",
    "# 5) Remap your labels (they only contain real chars, so they’ll be in [0..num_classes-2])\n",
    "label_sequences = [\n",
    "    [char_to_index[char] for char in transcription]\n",
    "    for transcription in df[\"transcription\"]\n",
    "]\n",
    "\n",
    "# 6) Pad with the blank index (which is now the last index = num_classes-1)\n",
    "max_sequence_length = 256\n",
    "padded_labels = pad_sequences(\n",
    "    label_sequences,\n",
    "    maxlen=max_sequence_length,\n",
    "    padding=\"post\",\n",
    "    value=char_to_index[blank_char],  # = num_classes - 1\n",
    ")\n",
    "\n",
    "print(f\"Character set (+ blank): {charset!r}\")\n",
    "print(f\"Number of classes: {num_classes}\")\n",
    "print(f\"Blank index: {char_to_index[blank_char]}\")\n",
    "print(f\"y shape: {y.shape}, dtype: {y.dtype}\")\n",
    "print(f\"char to index {char_to_index}\")"
   ]
  },
  {
   "cell_type": "code",
   "execution_count": 23,
   "id": "acbf4ec9",
   "metadata": {},
   "outputs": [],
   "source": [
    "# Convert transcriptions to sequences of integers\n",
    "label_sequences = [\n",
    "    [char_to_index[char] for char in transcription]\n",
    "    for transcription in df[\"transcription\"]\n",
    "]\n",
    "\n",
    "# Pad sequences to a fixed length (use a value outside the valid character indices, like num_classes - 1 for blank)\n",
    "padded_labels = pad_sequences(\n",
    "    label_sequences, maxlen=max_sequence_length, padding=\"post\", value=num_classes - 1\n",
    ")\n",
    "\n",
    "\n",
    "# Convert to NumPy array, not one-hot encoded because CTC loss expects integer sequences\n",
    "y = np.array(padded_labels, dtype=np.int32)\n"
   ]
  },
  {
   "cell_type": "code",
   "execution_count": 24,
   "id": "319becdc",
   "metadata": {},
   "outputs": [],
   "source": [
    "X_train, X_test, y_train, y_test = train_test_split(\n",
    "    X, y, test_size=0.2, random_state=42\n",
    ")"
   ]
  },
  {
   "cell_type": "code",
   "execution_count": 25,
   "id": "56fbdc78",
   "metadata": {},
   "outputs": [
    {
     "name": "stdout",
     "output_type": "stream",
     "text": [
      "X_train shape: (343, 256, 2048), dtype: float32\n",
      "y_train shape: (343, 256), dtype: int32\n"
     ]
    }
   ],
   "source": [
    "print(f\"X_train shape: {X_train.shape}, dtype: {X_train.dtype}\")\n",
    "print(f\"y_train shape: {y_train.shape}, dtype: {y_train.dtype}\")"
   ]
  },
  {
   "cell_type": "markdown",
   "id": "12f322fa",
   "metadata": {},
   "source": [
    "---\n",
    "## Data visualisation\n",
    "Below I want to gain a better understanding of our datapoints"
   ]
  },
  {
   "cell_type": "code",
   "execution_count": 26,
   "id": "486a2991",
   "metadata": {},
   "outputs": [
    {
     "data": {
      "image/png": "[encoded data removed]",
      "text/plain": [
       "<Figure size 640x480 with 1 Axes>"
      ]
     },
     "metadata": {},
     "output_type": "display_data"
    }
   ],
   "source": [
    "show_img_nr = 1\n",
    "\n",
    "plt.imshow(X_train[show_img_nr], cmap=\"gray\", vmin=0, vmax=255)\n",
    "plt.title(\"Sample Image from Training Set\")\n",
    "plt.show()"
   ]
  },
  {
   "cell_type": "code",
   "execution_count": 27,
   "id": "c078c925",
   "metadata": {},
   "outputs": [
    {
     "name": "stdout",
     "output_type": "stream",
     "text": [
      "First entry in y_train:\n",
      "[32 33  0 50 40 47 38 32 49 43 44 33 40 41 36 48  0 48 34 40 41 40 34  1\n",
      "  0 52 45  3 48 34  3  0 46 63  0 32 50 49  3  0 35 40 49  3 83 83 83 83\n",
      " 83 83 83 83 83 83 83 83 83 83 83 83 83 83 83 83 83 83 83 83 83 83 83 83\n",
      " 83 83 83 83 83 83 83 83 83 83 83 83 83 83 83 83 83 83 83 83 83 83 83 83\n",
      " 83 83 83 83 83 83 83 83 83 83 83 83 83 83 83 83 83 83 83 83 83 83 83 83\n",
      " 83 83 83 83 83 83 83 83 83 83 83 83 83 83 83 83 83 83 83 83 83 83 83 83\n",
      " 83 83 83 83 83 83 83 83 83 83 83 83 83 83 83 83 83 83 83 83 83 83 83 83\n",
      " 83 83 83 83 83 83 83 83 83 83 83 83 83 83 83 83 83 83 83 83 83 83 83 83\n",
      " 83 83 83 83 83 83 83 83 83 83 83 83 83 83 83 83 83 83 83 83 83 83 83 83\n",
      " 83 83 83 83 83 83 83 83 83 83 83 83 83 83 83 83 83 83 83 83 83 83 83 83\n",
      " 83 83 83 83 83 83 83 83 83 83 83 83 83 83 83 83]\n"
     ]
    }
   ],
   "source": [
    "print(\"First entry in y_train:\")\n",
    "print(y_train[show_img_nr])"
   ]
  },
  {
   "cell_type": "code",
   "execution_count": 28,
   "id": "fb9ac282",
   "metadata": {},
   "outputs": [
    {
     "name": "stdout",
     "output_type": "stream",
     "text": [
      "ab uirgatnobiles scilic& xp*sc* qđ aut* dit*\n"
     ]
    }
   ],
   "source": [
    "# Translate the first entry in y_train back to text using index_to_char\n",
    "decoded_text = \"\".join(\n",
    "    [index_to_char[idx] for idx in y_train[show_img_nr] if idx < len(index_to_char)]\n",
    ")\n",
    "print(decoded_text)"
   ]
  },
  {
   "cell_type": "markdown",
   "id": "551685d5",
   "metadata": {},
   "source": [
    "---\n",
    "\n",
    "## Evaluation metric"
   ]
  },
  {
   "cell_type": "code",
   "execution_count": null,
   "id": "fea1d2ad",
   "metadata": {},
   "outputs": [],
   "source": [
    "# DataFrame to store evaluation metrics\n",
    "eval_metrics = pd.DataFrame(columns=[\"epoch\", \"ctc_loss\", \"val_loss\", \"cer\", \"wer\"])\n",
    "\n",
    "class MetricsLogger(keras.callbacks.Callback):\n",
    "    def __init__(self, X_val, y_val, index_to_char):\n",
    "        super().__init__()\n",
    "        self.X_val = X_val\n",
    "        self.y_val = y_val\n",
    "        self.index_to_char = index_to_char\n",
    "\n",
    "        # include blank in your class count\n",
    "        self.num_classes = max(index_to_char.keys()) + 1\n",
    "\n",
    "        # convention: blank is the last index\n",
    "        self.blank_idx = self.num_classes - 1\n",
    "\n",
    "    def on_epoch_end(self, epoch, logs=None):\n",
    "        # 1) Predict on validation set\n",
    "        y_pred = self.model.predict(self.X_val)\n",
    "        batch_size, time_steps = y_pred.shape[0], y_pred.shape[1]\n",
    "\n",
    "        # 2) Build integer input_length vector for CTC\n",
    "        input_lengths = np.ones(batch_size, dtype=np.int32) * time_steps\n",
    "\n",
    "        # 3) Decode with greedy CTC using tf.nn.ctc_greedy_decoder\n",
    "        # Transpose to shape (time_steps, batch_size, num_classes)\n",
    "        logits = tf.transpose(y_pred, [1, 0, 2])\n",
    "        # sequence_length expects shape (batch_size,)\n",
    "        seq_len = tf.ones((batch_size,), dtype=tf.int32) * time_steps\n",
    "        decoded_sparse, _ = tf.nn.ctc_greedy_decoder(logits, seq_len)\n",
    "\n",
    "        # 4) Convert SparseTensor -> dense numpy (pad with -1)\n",
    "        decoded_dense = tf.sparse.to_dense(decoded_sparse[0], default_value=-1).numpy()\n",
    "\n",
    "        # 5) Map indices to text strings, filtering blank and padding\n",
    "        y_pred_texts = []\n",
    "        for seq in decoded_dense:\n",
    "            chars = [\n",
    "                self.index_to_char[idx]\n",
    "                for idx in seq\n",
    "                if idx >= 0 and idx != self.blank_idx\n",
    "            ]\n",
    "            y_pred_texts.append(\"\".join(chars))\n",
    "\n",
    "        # 6) Build true texts from y_val (ignore blank index)\n",
    "        y_true_texts = []\n",
    "        for seq in self.y_val:\n",
    "            chars = [\n",
    "                self.index_to_char[idx]\n",
    "                for idx in seq\n",
    "                if idx != self.blank_idx and idx in self.index_to_char\n",
    "            ]\n",
    "            y_true_texts.append(\"\".join(chars))\n",
    "\n",
    "        # 7) Compute error rates\n",
    "        cer = self.character_error_rate(y_true_texts, y_pred_texts)\n",
    "        wer = self.word_error_rate(y_true_texts, y_pred_texts)\n",
    "\n",
    "        # 8) Log to DataFrame and CSV\n",
    "        self.log_metrics(epoch, logs, cer, wer)\n",
    "        eval_metrics.to_csv(\"eval_metrics.csv\", index=False)\n",
    "\n",
    "        # Optional: print sample predictions\n",
    "        print(f\"\\nEpoch {epoch+1} sample predictions:\")\n",
    "        for i, (t, p) in enumerate(zip(y_true_texts[:3], y_pred_texts[:3])):\n",
    "            print(f\"  true: {t} | pred: {p or '<empty>'}\")\n",
    "\n",
    "    def log_metrics(self, epoch, logs, cer, wer):\n",
    "        eval_metrics.loc[epoch] = [\n",
    "            epoch,\n",
    "            logs.get(\"ctc_loss\", logs.get(\"loss\")),\n",
    "            logs.get(\"val_loss\"),\n",
    "            cer,\n",
    "            wer,\n",
    "        ]\n",
    "\n",
    "    @staticmethod\n",
    "    def character_error_rate(y_true, y_pred):\n",
    "        total_edits, total_chars = 0, 0\n",
    "        for t, p in zip(y_true, y_pred):\n",
    "            total_edits += edit_distance(t, p)\n",
    "            total_chars += len(t)\n",
    "        return total_edits / total_chars if total_chars > 0 else 0.0\n",
    "\n",
    "    @staticmethod\n",
    "    def word_error_rate(y_true, y_pred):\n",
    "        total_edits, total_words = 0, 0\n",
    "        for t, p in zip(y_true, y_pred):\n",
    "            total_edits += edit_distance(t.split(), p.split())\n",
    "            total_words += len(t.split())\n",
    "        return total_edits / total_words if total_words > 0 else 0.0\n",
    "\n",
    "\n",
    "def ctc_loss(y_true, y_pred):\n",
    "    input_length = tf.ones(shape=(tf.shape(y_pred)[0], 1), dtype=tf.int32) * tf.shape(y_pred)[1]\n",
    "    label_length = tf.ones(shape=(tf.shape(y_true)[0], 1), dtype=tf.int32) * tf.shape(y_true)[1]\n",
    "    return tf.keras.backend.ctc_batch_cost(y_true, y_pred, input_length, label_length)\n"
   ]
  },
  {
   "cell_type": "markdown",
   "id": "a582f375",
   "metadata": {},
   "source": [
    "---\n",
    "## Training\n"
   ]
  },
  {
   "cell_type": "code",
   "execution_count": 31,
   "id": "f5fe5092",
   "metadata": {},
   "outputs": [
    {
     "name": "stderr",
     "output_type": "stream",
     "text": [
      "/home/linus/Dokumente/1_Universitaet/10_SoSe_25/SPECIALIZATION-PROEJECT/.venv/lib/python3.12/site-packages/keras/src/layers/convolutional/base_conv.py:107: UserWarning: Do not pass an `input_shape`/`input_dim` argument to a layer. When using Sequential models, prefer using an `Input(shape)` object as the first layer in the model instead.\n",
      "  super().__init__(activity_regularizer=activity_regularizer, **kwargs)\n"
     ]
    }
   ],
   "source": [
    "cnn_rnn = models.Sequential(\n",
    "    [\n",
    "        # CNN layers\n",
    "        # input shape is = (height, width, channels)\n",
    "        layers.Conv2D(\n",
    "            64, (3, 3), padding=\"same\", activation=\"relu\", input_shape=(256, 2048, 1)\n",
    "        ),\n",
    "        layers.MaxPooling2D(pool_size=(2, 2)),  # → (128, 1024, 64)\n",
    "        layers.Conv2D(128, (3, 3), padding=\"same\", activation=\"relu\"),\n",
    "        layers.MaxPooling2D(pool_size=(2, 2)),  # → (64, 512, 128)\n",
    "        # reshape for RNN\n",
    "        layers.Reshape(target_shape=(512, 64 * 128)),  # (batch, 512, 8192)\n",
    "        # RNN layers\n",
    "        layers.Bidirectional(layers.LSTM(256, return_sequences=True)),\n",
    "        layers.Bidirectional(layers.LSTM(256, return_sequences=True)),\n",
    "        # Output layer\n",
    "        layers.Dense(\n",
    "            num_classes, activation=\"softmax\"\n",
    "        ),  # Use softmax for probabilities\n",
    "    ]\n",
    ")\n",
    "\n",
    "cnn_rnn.compile(optimizer=\"adam\", loss=ctc_loss)\n",
    "\n",
    "# Instantiate the MetricsLogger callback\n",
    "metrics_logger = MetricsLogger(X_test, y_test, index_to_char)\n",
    "\n",
    "# cnn_rnn.summary()"
   ]
  },
  {
   "cell_type": "code",
   "execution_count": null,
   "id": "1f954724",
   "metadata": {},
   "outputs": [
    {
     "name": "stdout",
     "output_type": "stream",
     "text": [
      "Epoch 1/5\n",
      "\u001b[1m3/3\u001b[0m \u001b[32m━━━━━━━━━━━━━━━━━━━━\u001b[0m\u001b[37m\u001b[0m \u001b[1m12s\u001b[0m 3s/step - loss: 154.\n",
      "\n",
      "Epoch 1 sample predictions:\n",
      "  true: nietis; pulsate; &aperietur vobis; omnis enim qui | pred: <empty>\n",
      "  true: Iared aut* habens annos . c l x ii genuit enoch uiuente | pred: <empty>\n",
      "  true: ꝑuiam illam ; Et ecce clamauerunt dicentes ; | pred: <empty>\n",
      "\u001b[1m1/1\u001b[0m \u001b[32m━━━━━━━━━━━━━━━━━━━━\u001b[0m\u001b[37m\u001b[0m \u001b[1m46s\u001b[0m 46s/step - loss: 154.6309 - val_loss: 201.8187\n",
      "Epoch 2/5\n",
      "\u001b[1m3/3\u001b[0m \u001b[32m━━━━━━━━━━━━━━━━━━━━\u001b[0m\u001b[37m\u001b[0m \u001b[1m10s\u001b[0m 3s/step - loss: 196.4\n",
      "\n",
      "Epoch 2 sample predictions:\n",
      "  true: nietis; pulsate; &aperietur vobis; omnis enim qui | pred: <empty>\n",
      "  true: Iared aut* habens annos . c l x ii genuit enoch uiuente | pred: <empty>\n",
      "  true: ꝑuiam illam ; Et ecce clamauerunt dicentes ; | pred: <empty>\n",
      "\u001b[1m1/1\u001b[0m \u001b[32m━━━━━━━━━━━━━━━━━━━━\u001b[0m\u001b[37m\u001b[0m \u001b[1m38s\u001b[0m 38s/step - loss: 196.4991 - val_loss: 180.0581\n",
      "Epoch 3/5\n",
      "\u001b[1m3/3\u001b[0m \u001b[32m━━━━━━━━━━━━━━━━━━━━\u001b[0m\u001b[37m\u001b[0m \u001b[1m10s\u001b[0m 3s/step - loss: 174.9\n",
      "\n",
      "Epoch 3 sample predictions:\n",
      "  true: nietis; pulsate; &aperietur vobis; omnis enim qui | pred: <empty>\n",
      "  true: Iared aut* habens annos . c l x ii genuit enoch uiuente | pred: <empty>\n",
      "  true: ꝑuiam illam ; Et ecce clamauerunt dicentes ; | pred: <empty>\n",
      "\u001b[1m1/1\u001b[0m \u001b[32m━━━━━━━━━━━━━━━━━━━━\u001b[0m\u001b[37m\u001b[0m \u001b[1m37s\u001b[0m 37s/step - loss: 174.9778 - val_loss: 155.2966\n",
      "Epoch 4/5\n",
      "\u001b[1m3/3\u001b[0m \u001b[32m━━━━━━━━━━━━━━━━━━━━\u001b[0m\u001b[37m\u001b[0m \u001b[1m10s\u001b[0m 3s/step - loss: 158.3\n",
      "\n",
      "Epoch 4 sample predictions:\n",
      "  true: nietis; pulsate; &aperietur vobis; omnis enim qui | pred: <empty>\n",
      "  true: Iared aut* habens annos . c l x ii genuit enoch uiuente | pred: <empty>\n",
      "  true: ꝑuiam illam ; Et ecce clamauerunt dicentes ; | pred: <empty>\n",
      "\u001b[1m1/1\u001b[0m \u001b[32m━━━━━━━━━━━━━━━━━━━━\u001b[0m\u001b[37m\u001b[0m \u001b[1m37s\u001b[0m 37s/step - loss: 158.3021 - val_loss: 158.0252\n",
      "Epoch 5/5\n",
      "\u001b[1m3/3\u001b[0m \u001b[32m━━━━━━━━━━━━━━━━━━━━\u001b[0m\u001b[37m\u001b[0m \u001b[1m10s\u001b[0m 3s/step - loss: 156.6\n",
      "\n",
      "Epoch 5 sample predictions:\n",
      "  true: nietis; pulsate; &aperietur vobis; omnis enim qui | pred: <empty>\n",
      "  true: Iared aut* habens annos . c l x ii genuit enoch uiuente | pred: <empty>\n",
      "  true: ꝑuiam illam ; Et ecce clamauerunt dicentes ; | pred: <empty>\n",
      "\u001b[1m1/1\u001b[0m \u001b[32m━━━━━━━━━━━━━━━━━━━━\u001b[0m\u001b[37m\u001b[0m \u001b[1m37s\u001b[0m 37s/step - loss: 156.6206 - val_loss: 162.9077\n"
     ]
    },
    {
     "data": {
      "image/png": "[encoded data removed]",
      "text/plain": [
       "<Figure size 600x400 with 1 Axes>"
      ]
     },
     "metadata": {},
     "output_type": "display_data"
    }
   ],
   "source": [
    "# 1) Re-compile with a higher LR (tune this as needed)\n",
    "new_lr = 1e-3   # e.g. double or 5× your previous rate\n",
    "optimizer = Adam(learning_rate=new_lr, clipnorm=5)\n",
    "\n",
    "# Make sure your loss is set to CTC correctly:\n",
    "# (replace `ctc_loss_lambda_func` with whatever lambda you used)\n",
    "cnn_rnn.compile(\n",
    "    optimizer=optimizer,\n",
    "    loss=ctc_loss\n",
    ")\n",
    "\n",
    "# 2) Fit for 5 epochs, but only 1 batch per epoch (overfit that batch to sanity-check)\n",
    "history = cnn_rnn.fit(\n",
    "    X_train,\n",
    "    y_train,\n",
    "    epochs=5,\n",
    "    steps_per_epoch=1,              # ← only one update per epoch\n",
    "    validation_data=(X_test, y_test),\n",
    "    batch_size=32,\n",
    "    callbacks=[metrics_logger]\n",
    ")\n",
    "\n",
    "\n"
   ]
  },
  {
   "cell_type": "code",
   "execution_count": 33,
   "id": "5f37c9c8",
   "metadata": {},
   "outputs": [
    {
     "ename": "NameError",
     "evalue": "name 'history' is not defined",
     "output_type": "error",
     "traceback": [
      "\u001b[31m---------------------------------------------------------------------------\u001b[39m",
      "\u001b[31mNameError\u001b[39m                                 Traceback (most recent call last)",
      "\u001b[36mCell\u001b[39m\u001b[36m \u001b[39m\u001b[32mIn[33]\u001b[39m\u001b[32m, line 3\u001b[39m\n\u001b[32m      1\u001b[39m \u001b[38;5;66;03m# 3) Plot train vs. val CTC loss\u001b[39;00m\n\u001b[32m      2\u001b[39m plt.figure(figsize=(\u001b[32m6\u001b[39m,\u001b[32m4\u001b[39m))\n\u001b[32m----> \u001b[39m\u001b[32m3\u001b[39m plt.plot(\u001b[43mhistory\u001b[49m.history[\u001b[33m'\u001b[39m\u001b[33mloss\u001b[39m\u001b[33m'\u001b[39m],   label=\u001b[33m'\u001b[39m\u001b[33mTrain CTC Loss\u001b[39m\u001b[33m'\u001b[39m)\n\u001b[32m      4\u001b[39m plt.plot(history.history[\u001b[33m'\u001b[39m\u001b[33mval_loss\u001b[39m\u001b[33m'\u001b[39m], label=\u001b[33m'\u001b[39m\u001b[33mVal CTC Loss\u001b[39m\u001b[33m'\u001b[39m)\n\u001b[32m      5\u001b[39m plt.title(\u001b[33mf\u001b[39m\u001b[33m'\u001b[39m\u001b[33mCTC Loss @ lr=\u001b[39m\u001b[38;5;132;01m{\u001b[39;00mnew_lr\u001b[38;5;132;01m}\u001b[39;00m\u001b[33m, steps/epoch=1\u001b[39m\u001b[33m'\u001b[39m)\n",
      "\u001b[31mNameError\u001b[39m: name 'history' is not defined"
     ]
    },
    {
     "data": {
      "text/plain": [
       "<Figure size 600x400 with 0 Axes>"
      ]
     },
     "metadata": {},
     "output_type": "display_data"
    }
   ],
   "source": [
    "# 3) Plot train vs. val CTC loss\n",
    "plt.figure(figsize=(6,4))\n",
    "plt.plot(history.history['loss'],   label='Train CTC Loss')\n",
    "plt.plot(history.history['val_loss'], label='Val CTC Loss')\n",
    "plt.title(f'CTC Loss @ lr={new_lr}, steps/epoch=1')\n",
    "plt.xlabel('Epoch')\n",
    "plt.ylabel('Loss')\n",
    "plt.ylim(0, max(history.history['loss'] + history.history['val_loss']))\n",
    "plt.legend()\n",
    "plt.grid(True)\n",
    "plt.show()"
   ]
  },
  {
   "cell_type": "code",
   "execution_count": null,
   "id": "606cc99e",
   "metadata": {},
   "outputs": [],
   "source": [
    "sample = X_test[0:1]\n",
    "pred = cnn_rnn.predict(sample)\n",
    "decoded, _ = ctc_decode(pred, input_length=[pred.shape[1]], greedy=True)\n",
    "print(\"Predicted:\", decoded[0].numpy())\n",
    "print(\"Argmax sequence:\", np.argmax(pred[0], axis=-1))\n"
   ]
  },
  {
   "cell_type": "code",
   "execution_count": 86,
   "id": "b88ace2c",
   "metadata": {},
   "outputs": [
    {
     "name": "stdout",
     "output_type": "stream",
     "text": [
      "Model output shape: (None, 512, 84)\n"
     ]
    }
   ],
   "source": [
    "print(\"Model output shape:\", cnn_rnn.output_shape)\n"
   ]
  },
  {
   "cell_type": "code",
   "execution_count": null,
   "id": "7ad05303",
   "metadata": {},
   "outputs": [
    {
     "name": "stdout",
     "output_type": "stream",
     "text": [
      "Epoch 1/5\n",
      "\u001b[1m3/3\u001b[0m \u001b[32m━━━━━━━━━━━━━━━━━━━━\u001b[0m\u001b[37m\u001b[0m \u001b[1m12s\u001b[0m 3s/stepep - loss: 806.00\n",
      "\n",
      "Epoch 1 sample predictions:\n",
      "  true: nietis; pulsate; &aperietur vobis; omnis enim qui | pred: <empty>\n",
      "  true: Iared aut* habens annos . c l x ii genuit enoch uiuente | pred: <empty>\n",
      "  true: ꝑuiam illam ; Et ecce clamauerunt dicentes ; | pred: <empty>\n",
      "\u001b[1m11/11\u001b[0m \u001b[32m━━━━━━━━━━━━━━━━━━━━\u001b[0m\u001b[37m\u001b[0m \u001b[1m213s\u001b[0m 19s/step - loss: 774.1783 - val_loss: 164.7166\n",
      "Epoch 2/5\n",
      "\u001b[1m3/3\u001b[0m \u001b[32m━━━━━━━━━━━━━━━━━━━━\u001b[0m\u001b[37m\u001b[0m \u001b[1m10s\u001b[0m 3s/stepep - loss: 158.56\n",
      "\n",
      "Epoch 2 sample predictions:\n",
      "  true: nietis; pulsate; &aperietur vobis; omnis enim qui | pred: <empty>\n",
      "  true: Iared aut* habens annos . c l x ii genuit enoch uiuente | pred: <empty>\n",
      "  true: ꝑuiam illam ; Et ecce clamauerunt dicentes ; | pred: <empty>\n",
      "\u001b[1m11/11\u001b[0m \u001b[32m━━━━━━━━━━━━━━━━━━━━\u001b[0m\u001b[37m\u001b[0m \u001b[1m201s\u001b[0m 18s/step - loss: 158.2612 - val_loss: 153.3971\n",
      "Epoch 3/5\n",
      "\u001b[1m3/3\u001b[0m \u001b[32m━━━━━━━━━━━━━━━━━━━━\u001b[0m\u001b[37m\u001b[0m \u001b[1m10s\u001b[0m 3s/stepep - loss: 149.37\n",
      "\n",
      "Epoch 3 sample predictions:\n",
      "  true: nietis; pulsate; &aperietur vobis; omnis enim qui | pred: <empty>\n",
      "  true: Iared aut* habens annos . c l x ii genuit enoch uiuente | pred: <empty>\n",
      "  true: ꝑuiam illam ; Et ecce clamauerunt dicentes ; | pred: <empty>\n",
      "\u001b[1m11/11\u001b[0m \u001b[32m━━━━━━━━━━━━━━━━━━━━\u001b[0m\u001b[37m\u001b[0m \u001b[1m201s\u001b[0m 18s/step - loss: 149.2697 - val_loss: 148.8970\n",
      "Epoch 4/5\n",
      "\u001b[1m3/3\u001b[0m \u001b[32m━━━━━━━━━━━━━━━━━━━━\u001b[0m\u001b[37m\u001b[0m \u001b[1m10s\u001b[0m 3s/stepep - loss: 146.47\n",
      "\n",
      "Epoch 4 sample predictions:\n",
      "  true: nietis; pulsate; &aperietur vobis; omnis enim qui | pred: <empty>\n",
      "  true: Iared aut* habens annos . c l x ii genuit enoch uiuente | pred: <empty>\n",
      "  true: ꝑuiam illam ; Et ecce clamauerunt dicentes ; | pred: <empty>\n",
      "\u001b[1m11/11\u001b[0m \u001b[32m━━━━━━━━━━━━━━━━━━━━\u001b[0m\u001b[37m\u001b[0m \u001b[1m202s\u001b[0m 18s/step - loss: 146.4563 - val_loss: 148.3134\n",
      "Epoch 5/5\n",
      "\u001b[1m3/3\u001b[0m \u001b[32m━━━━━━━━━━━━━━━━━━━━\u001b[0m\u001b[37m\u001b[0m \u001b[1m10s\u001b[0m 3s/stepep - loss: 145.14\n",
      "\n",
      "Epoch 5 sample predictions:\n",
      "  true: nietis; pulsate; &aperietur vobis; omnis enim qui | pred: <empty>\n",
      "  true: Iared aut* habens annos . c l x ii genuit enoch uiuente | pred: <empty>\n",
      "  true: ꝑuiam illam ; Et ecce clamauerunt dicentes ; | pred: <empty>\n",
      "\u001b[1m11/11\u001b[0m \u001b[32m━━━━━━━━━━━━━━━━━━━━\u001b[0m\u001b[37m\u001b[0m \u001b[1m200s\u001b[0m 18s/step - loss: 145.1936 - val_loss: 147.8979\n"
     ]
    },
    {
     "data": {
      "text/plain": [
       "<keras.src.callbacks.history.History at 0x7fae984012e0>"
      ]
     },
     "execution_count": 80,
     "metadata": {},
     "output_type": "execute_result"
    }
   ],
   "source": [
    "# # #! Commented out to avoid running the model training\n",
    "# # # # Fit the model\n",
    "# # # When fitting the model, pass validation data and index_to_char to the callback:\n",
    "# cnn_rnn.fit(\n",
    "#     X_train,\n",
    "#     y_train,\n",
    "#     epochs=5,\n",
    "#     steps_per_epoch=1,\n",
    "#     validation_data=(X_test, y_test),\n",
    "#     batch_size=32,\n",
    "#     callbacks=[metrics_logger]\n",
    "# )"
   ]
  },
  {
   "cell_type": "code",
   "execution_count": 65,
   "id": "89715344",
   "metadata": {},
   "outputs": [
    {
     "data": {
      "text/html": [
       "<div>\n",
       "<style scoped>\n",
       "    .dataframe tbody tr th:only-of-type {\n",
       "        vertical-align: middle;\n",
       "    }\n",
       "\n",
       "    .dataframe tbody tr th {\n",
       "        vertical-align: top;\n",
       "    }\n",
       "\n",
       "    .dataframe thead th {\n",
       "        text-align: right;\n",
       "    }\n",
       "</style>\n",
       "<table border=\"1\" class=\"dataframe\">\n",
       "  <thead>\n",
       "    <tr style=\"text-align: right;\">\n",
       "      <th></th>\n",
       "      <th>epoch</th>\n",
       "      <th>ctc_loss</th>\n",
       "      <th>val_loss</th>\n",
       "      <th>cer</th>\n",
       "      <th>wer</th>\n",
       "    </tr>\n",
       "  </thead>\n",
       "  <tbody>\n",
       "    <tr>\n",
       "      <th>0</th>\n",
       "      <td>0.0</td>\n",
       "      <td>357.444733</td>\n",
       "      <td>157.311096</td>\n",
       "      <td>1.0</td>\n",
       "      <td>1.0</td>\n",
       "    </tr>\n",
       "  </tbody>\n",
       "</table>\n",
       "</div>"
      ],
      "text/plain": [
       "   epoch    ctc_loss    val_loss  cer  wer\n",
       "0    0.0  357.444733  157.311096  1.0  1.0"
      ]
     },
     "execution_count": 65,
     "metadata": {},
     "output_type": "execute_result"
    }
   ],
   "source": [
    "eval_metrics.head()"
   ]
  },
  {
   "cell_type": "code",
   "execution_count": 68,
   "id": "5f2e2f73",
   "metadata": {},
   "outputs": [
    {
     "data": {
      "text/html": [
       "<div>\n",
       "<style scoped>\n",
       "    .dataframe tbody tr th:only-of-type {\n",
       "        vertical-align: middle;\n",
       "    }\n",
       "\n",
       "    .dataframe tbody tr th {\n",
       "        vertical-align: top;\n",
       "    }\n",
       "\n",
       "    .dataframe thead th {\n",
       "        text-align: right;\n",
       "    }\n",
       "</style>\n",
       "<table border=\"1\" class=\"dataframe\">\n",
       "  <thead>\n",
       "    <tr style=\"text-align: right;\">\n",
       "      <th></th>\n",
       "      <th>epoch</th>\n",
       "      <th>ctc_loss</th>\n",
       "      <th>val_loss</th>\n",
       "      <th>cer</th>\n",
       "      <th>wer</th>\n",
       "    </tr>\n",
       "  </thead>\n",
       "  <tbody>\n",
       "    <tr>\n",
       "      <th>0</th>\n",
       "      <td>0.0</td>\n",
       "      <td>151.580078</td>\n",
       "      <td>152.685760</td>\n",
       "      <td>1.0</td>\n",
       "      <td>1.0</td>\n",
       "    </tr>\n",
       "    <tr>\n",
       "      <th>1</th>\n",
       "      <td>1.0</td>\n",
       "      <td>147.699646</td>\n",
       "      <td>150.209183</td>\n",
       "      <td>1.0</td>\n",
       "      <td>1.0</td>\n",
       "    </tr>\n",
       "    <tr>\n",
       "      <th>2</th>\n",
       "      <td>2.0</td>\n",
       "      <td>146.795135</td>\n",
       "      <td>148.619125</td>\n",
       "      <td>1.0</td>\n",
       "      <td>1.0</td>\n",
       "    </tr>\n",
       "    <tr>\n",
       "      <th>3</th>\n",
       "      <td>3.0</td>\n",
       "      <td>146.135864</td>\n",
       "      <td>148.359146</td>\n",
       "      <td>1.0</td>\n",
       "      <td>1.0</td>\n",
       "    </tr>\n",
       "    <tr>\n",
       "      <th>4</th>\n",
       "      <td>4.0</td>\n",
       "      <td>145.808334</td>\n",
       "      <td>148.261154</td>\n",
       "      <td>1.0</td>\n",
       "      <td>1.0</td>\n",
       "    </tr>\n",
       "  </tbody>\n",
       "</table>\n",
       "</div>"
      ],
      "text/plain": [
       "   epoch    ctc_loss    val_loss  cer  wer\n",
       "0    0.0  151.580078  152.685760  1.0  1.0\n",
       "1    1.0  147.699646  150.209183  1.0  1.0\n",
       "2    2.0  146.795135  148.619125  1.0  1.0\n",
       "3    3.0  146.135864  148.359146  1.0  1.0\n",
       "4    4.0  145.808334  148.261154  1.0  1.0"
      ]
     },
     "execution_count": 68,
     "metadata": {},
     "output_type": "execute_result"
    }
   ],
   "source": [
    "eval_metrics"
   ]
  },
  {
   "cell_type": "code",
   "execution_count": 69,
   "id": "2dc01f4c",
   "metadata": {},
   "outputs": [],
   "source": [
    "#cnn_rnn.save(\"CNN_RNN_model.keras\")"
   ]
  },
  {
   "cell_type": "code",
   "execution_count": null,
   "id": "407e6662",
   "metadata": {},
   "outputs": [],
   "source": []
  }
 ],
 "metadata": {
  "kernelspec": {
   "display_name": ".venv",
   "language": "python",
   "name": "python3"
  },
  "language_info": {
   "codemirror_mode": {
    "name": "ipython",
    "version": 3
   },
   "file_extension": ".py",
   "mimetype": "text/x-python",
   "name": "python",
   "nbconvert_exporter": "python",
   "pygments_lexer": "ipython3",
   "version": "3.12.3"
  }
 },
 "nbformat": 4,
 "nbformat_minor": 5
}
