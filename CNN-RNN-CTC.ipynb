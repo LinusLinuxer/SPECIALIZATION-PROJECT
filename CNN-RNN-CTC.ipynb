{
 "cells": [
  {
   "cell_type": "markdown",
   "id": "fd85a770",
   "metadata": {},
   "source": [
    "# CNN\n",
    "This notebook aims to deploy the CNN."
   ]
  },
  {
   "cell_type": "markdown",
   "id": "60c50740",
   "metadata": {},
   "source": [
    "## Setup for UCloud\n",
    "The Setup on Ucloud is a bit feasty at times, so here are some workarounds"
   ]
  },
  {
   "cell_type": "code",
   "execution_count": 53,
   "id": "cfb54145",
   "metadata": {},
   "outputs": [],
   "source": [
    "#pip freeze > requirements.txt"
   ]
  },
  {
   "cell_type": "code",
   "execution_count": 54,
   "id": "41265d20",
   "metadata": {},
   "outputs": [
    {
     "name": "stdout",
     "output_type": "stream",
     "text": [
      "Defaulting to user installation because normal site-packages is not writeable\n",
      "Requirement already satisfied: absl-py==2.2.2 in /home/ucloud/.local/lib/python3.12/site-packages (from -r requirements.txt (line 1)) (2.2.2)\n",
      "Requirement already satisfied: asttokens==3.0.0 in /home/ucloud/.local/lib/python3.12/site-packages (from -r requirements.txt (line 2)) (3.0.0)\n",
      "Requirement already satisfied: astunparse==1.6.3 in /home/ucloud/.local/lib/python3.12/site-packages (from -r requirements.txt (line 3)) (1.6.3)\n",
      "Requirement already satisfied: certifi==2025.4.26 in /home/ucloud/.local/lib/python3.12/site-packages (from -r requirements.txt (line 4)) (2025.4.26)\n",
      "Requirement already satisfied: charset-normalizer==3.4.2 in /home/ucloud/.local/lib/python3.12/site-packages (from -r requirements.txt (line 5)) (3.4.2)\n",
      "Requirement already satisfied: comm==0.2.2 in /home/ucloud/.local/lib/python3.12/site-packages (from -r requirements.txt (line 6)) (0.2.2)\n",
      "Requirement already satisfied: contourpy==1.3.2 in /home/ucloud/.local/lib/python3.12/site-packages (from -r requirements.txt (line 7)) (1.3.2)\n",
      "Requirement already satisfied: cycler==0.12.1 in /home/ucloud/.local/lib/python3.12/site-packages (from -r requirements.txt (line 8)) (0.12.1)\n",
      "Requirement already satisfied: debugpy==1.8.14 in /home/ucloud/.local/lib/python3.12/site-packages (from -r requirements.txt (line 9)) (1.8.14)\n",
      "Requirement already satisfied: decorator==5.2.1 in /home/ucloud/.local/lib/python3.12/site-packages (from -r requirements.txt (line 10)) (5.2.1)\n",
      "Requirement already satisfied: executing==2.2.0 in /home/ucloud/.local/lib/python3.12/site-packages (from -r requirements.txt (line 11)) (2.2.0)\n",
      "Requirement already satisfied: flatbuffers==25.2.10 in /home/ucloud/.local/lib/python3.12/site-packages (from -r requirements.txt (line 12)) (25.2.10)\n",
      "Requirement already satisfied: fonttools==4.57.0 in /home/ucloud/.local/lib/python3.12/site-packages (from -r requirements.txt (line 13)) (4.57.0)\n",
      "Requirement already satisfied: gast==0.6.0 in /home/ucloud/.local/lib/python3.12/site-packages (from -r requirements.txt (line 14)) (0.6.0)\n",
      "Requirement already satisfied: google-pasta==0.2.0 in /home/ucloud/.local/lib/python3.12/site-packages (from -r requirements.txt (line 15)) (0.2.0)\n",
      "Requirement already satisfied: grpcio==1.71.0 in /home/ucloud/.local/lib/python3.12/site-packages (from -r requirements.txt (line 16)) (1.71.0)\n",
      "Requirement already satisfied: h5py==3.13.0 in /home/ucloud/.local/lib/python3.12/site-packages (from -r requirements.txt (line 17)) (3.13.0)\n",
      "Requirement already satisfied: idna==3.10 in /home/ucloud/.local/lib/python3.12/site-packages (from -r requirements.txt (line 18)) (3.10)\n",
      "Requirement already satisfied: ipykernel==6.29.5 in /home/ucloud/.local/lib/python3.12/site-packages (from -r requirements.txt (line 19)) (6.29.5)\n",
      "Requirement already satisfied: ipython==9.2.0 in /home/ucloud/.local/lib/python3.12/site-packages (from -r requirements.txt (line 20)) (9.2.0)\n",
      "Requirement already satisfied: ipython_pygments_lexers==1.1.1 in /home/ucloud/.local/lib/python3.12/site-packages (from -r requirements.txt (line 21)) (1.1.1)\n",
      "Requirement already satisfied: jedi==0.19.2 in /home/ucloud/.local/lib/python3.12/site-packages (from -r requirements.txt (line 22)) (0.19.2)\n",
      "Requirement already satisfied: joblib==1.5.0 in /home/ucloud/.local/lib/python3.12/site-packages (from -r requirements.txt (line 23)) (1.5.0)\n",
      "Requirement already satisfied: jupyter_client==8.6.3 in /home/ucloud/.local/lib/python3.12/site-packages (from -r requirements.txt (line 24)) (8.6.3)\n",
      "Requirement already satisfied: jupyter_core==5.7.2 in /home/ucloud/.local/lib/python3.12/site-packages (from -r requirements.txt (line 25)) (5.7.2)\n",
      "Requirement already satisfied: keras==3.9.2 in /home/ucloud/.local/lib/python3.12/site-packages (from -r requirements.txt (line 26)) (3.9.2)\n",
      "Requirement already satisfied: kiwisolver==1.4.8 in /home/ucloud/.local/lib/python3.12/site-packages (from -r requirements.txt (line 27)) (1.4.8)\n",
      "Requirement already satisfied: libclang==18.1.1 in /home/ucloud/.local/lib/python3.12/site-packages (from -r requirements.txt (line 28)) (18.1.1)\n",
      "Requirement already satisfied: Markdown==3.8 in /home/ucloud/.local/lib/python3.12/site-packages (from -r requirements.txt (line 29)) (3.8)\n",
      "Requirement already satisfied: markdown-it-py==3.0.0 in /home/ucloud/.local/lib/python3.12/site-packages (from -r requirements.txt (line 30)) (3.0.0)\n",
      "Requirement already satisfied: MarkupSafe==3.0.2 in /home/ucloud/.local/lib/python3.12/site-packages (from -r requirements.txt (line 31)) (3.0.2)\n",
      "Requirement already satisfied: matplotlib==3.10.1 in /home/ucloud/.local/lib/python3.12/site-packages (from -r requirements.txt (line 32)) (3.10.1)\n",
      "Requirement already satisfied: matplotlib-inline==0.1.7 in /home/ucloud/.local/lib/python3.12/site-packages (from -r requirements.txt (line 33)) (0.1.7)\n",
      "Requirement already satisfied: mdurl==0.1.2 in /home/ucloud/.local/lib/python3.12/site-packages (from -r requirements.txt (line 34)) (0.1.2)\n",
      "Requirement already satisfied: ml_dtypes==0.5.1 in /home/ucloud/.local/lib/python3.12/site-packages (from -r requirements.txt (line 35)) (0.5.1)\n",
      "Requirement already satisfied: namex==0.0.9 in /home/ucloud/.local/lib/python3.12/site-packages (from -r requirements.txt (line 36)) (0.0.9)\n",
      "Requirement already satisfied: nest-asyncio==1.6.0 in /home/ucloud/.local/lib/python3.12/site-packages (from -r requirements.txt (line 37)) (1.6.0)\n",
      "Collecting numpy==2.1.3 (from -r requirements.txt (line 38))\n",
      "  Using cached numpy-2.1.3-cp312-cp312-manylinux_2_17_x86_64.manylinux2014_x86_64.whl.metadata (62 kB)\n",
      "Requirement already satisfied: opencv-python==4.11.0.86 in /home/ucloud/.local/lib/python3.12/site-packages (from -r requirements.txt (line 39)) (4.11.0.86)\n",
      "Requirement already satisfied: opt_einsum==3.4.0 in /home/ucloud/.local/lib/python3.12/site-packages (from -r requirements.txt (line 40)) (3.4.0)\n",
      "Requirement already satisfied: optree==0.15.0 in /home/ucloud/.local/lib/python3.12/site-packages (from -r requirements.txt (line 41)) (0.15.0)\n",
      "Requirement already satisfied: packaging==25.0 in /home/ucloud/.local/lib/python3.12/site-packages (from -r requirements.txt (line 42)) (25.0)\n",
      "Requirement already satisfied: pandas==2.2.3 in /home/ucloud/.local/lib/python3.12/site-packages (from -r requirements.txt (line 43)) (2.2.3)\n",
      "Requirement already satisfied: parso==0.8.4 in /home/ucloud/.local/lib/python3.12/site-packages (from -r requirements.txt (line 44)) (0.8.4)\n",
      "Requirement already satisfied: pexpect==4.9.0 in /home/ucloud/.local/lib/python3.12/site-packages (from -r requirements.txt (line 45)) (4.9.0)\n",
      "Requirement already satisfied: pillow==11.2.1 in /home/ucloud/.local/lib/python3.12/site-packages (from -r requirements.txt (line 46)) (11.2.1)\n",
      "Requirement already satisfied: platformdirs==4.3.7 in /home/ucloud/.local/lib/python3.12/site-packages (from -r requirements.txt (line 47)) (4.3.7)\n",
      "Requirement already satisfied: prompt_toolkit==3.0.51 in /home/ucloud/.local/lib/python3.12/site-packages (from -r requirements.txt (line 48)) (3.0.51)\n",
      "Requirement already satisfied: protobuf==5.29.4 in /home/ucloud/.local/lib/python3.12/site-packages (from -r requirements.txt (line 49)) (5.29.4)\n",
      "Requirement already satisfied: psutil==7.0.0 in /home/ucloud/.local/lib/python3.12/site-packages (from -r requirements.txt (line 50)) (7.0.0)\n",
      "Requirement already satisfied: ptyprocess==0.7.0 in /home/ucloud/.local/lib/python3.12/site-packages (from -r requirements.txt (line 51)) (0.7.0)\n",
      "Requirement already satisfied: pure_eval==0.2.3 in /home/ucloud/.local/lib/python3.12/site-packages (from -r requirements.txt (line 52)) (0.2.3)\n",
      "Requirement already satisfied: Pygments==2.19.1 in /home/ucloud/.local/lib/python3.12/site-packages (from -r requirements.txt (line 53)) (2.19.1)\n",
      "Requirement already satisfied: pyparsing==3.2.3 in /home/ucloud/.local/lib/python3.12/site-packages (from -r requirements.txt (line 54)) (3.2.3)\n",
      "Requirement already satisfied: python-dateutil==2.9.0.post0 in /home/ucloud/.local/lib/python3.12/site-packages (from -r requirements.txt (line 55)) (2.9.0.post0)\n",
      "Requirement already satisfied: pytz==2025.2 in /home/ucloud/.local/lib/python3.12/site-packages (from -r requirements.txt (line 56)) (2025.2)\n",
      "Requirement already satisfied: pyzmq==26.4.0 in /home/ucloud/.local/lib/python3.12/site-packages (from -r requirements.txt (line 57)) (26.4.0)\n",
      "Requirement already satisfied: requests==2.32.3 in /home/ucloud/.local/lib/python3.12/site-packages (from -r requirements.txt (line 58)) (2.32.3)\n",
      "Requirement already satisfied: rich==14.0.0 in /home/ucloud/.local/lib/python3.12/site-packages (from -r requirements.txt (line 59)) (14.0.0)\n",
      "Requirement already satisfied: scikit-learn==1.6.1 in /home/ucloud/.local/lib/python3.12/site-packages (from -r requirements.txt (line 60)) (1.6.1)\n",
      "Requirement already satisfied: scipy==1.15.3 in /home/ucloud/.local/lib/python3.12/site-packages (from -r requirements.txt (line 61)) (1.15.3)\n",
      "Requirement already satisfied: setuptools==80.4.0 in /home/ucloud/.local/lib/python3.12/site-packages (from -r requirements.txt (line 62)) (80.4.0)\n",
      "Requirement already satisfied: six==1.17.0 in /home/ucloud/.local/lib/python3.12/site-packages (from -r requirements.txt (line 63)) (1.17.0)\n",
      "Requirement already satisfied: stack-data==0.6.3 in /home/ucloud/.local/lib/python3.12/site-packages (from -r requirements.txt (line 64)) (0.6.3)\n",
      "Requirement already satisfied: tensorboard==2.19.0 in /home/ucloud/.local/lib/python3.12/site-packages (from -r requirements.txt (line 65)) (2.19.0)\n",
      "Requirement already satisfied: tensorboard-data-server==0.7.2 in /home/ucloud/.local/lib/python3.12/site-packages (from -r requirements.txt (line 66)) (0.7.2)\n",
      "Requirement already satisfied: tensorflow==2.19.0 in /home/ucloud/.local/lib/python3.12/site-packages (from -r requirements.txt (line 67)) (2.19.0)\n",
      "Requirement already satisfied: termcolor==3.1.0 in /home/ucloud/.local/lib/python3.12/site-packages (from -r requirements.txt (line 68)) (3.1.0)\n",
      "Requirement already satisfied: threadpoolctl==3.6.0 in /home/ucloud/.local/lib/python3.12/site-packages (from -r requirements.txt (line 69)) (3.6.0)\n",
      "Requirement already satisfied: tornado==6.4.2 in /home/ucloud/.local/lib/python3.12/site-packages (from -r requirements.txt (line 70)) (6.4.2)\n",
      "Requirement already satisfied: tqdm==4.67.1 in /home/ucloud/.local/lib/python3.12/site-packages (from -r requirements.txt (line 71)) (4.67.1)\n",
      "Requirement already satisfied: traitlets==5.14.3 in /home/ucloud/.local/lib/python3.12/site-packages (from -r requirements.txt (line 72)) (5.14.3)\n",
      "Requirement already satisfied: typing_extensions==4.13.2 in /home/ucloud/.local/lib/python3.12/site-packages (from -r requirements.txt (line 73)) (4.13.2)\n",
      "Requirement already satisfied: tzdata==2025.2 in /home/ucloud/.local/lib/python3.12/site-packages (from -r requirements.txt (line 74)) (2025.2)\n",
      "Requirement already satisfied: urllib3==2.4.0 in /home/ucloud/.local/lib/python3.12/site-packages (from -r requirements.txt (line 75)) (2.4.0)\n",
      "Requirement already satisfied: wcwidth==0.2.13 in /home/ucloud/.local/lib/python3.12/site-packages (from -r requirements.txt (line 76)) (0.2.13)\n",
      "Requirement already satisfied: Werkzeug==3.1.3 in /home/ucloud/.local/lib/python3.12/site-packages (from -r requirements.txt (line 77)) (3.1.3)\n",
      "Requirement already satisfied: wheel==0.45.1 in /home/ucloud/.local/lib/python3.12/site-packages (from -r requirements.txt (line 78)) (0.45.1)\n",
      "Requirement already satisfied: wrapt==1.17.2 in /home/ucloud/.local/lib/python3.12/site-packages (from -r requirements.txt (line 79)) (1.17.2)\n",
      "Using cached numpy-2.1.3-cp312-cp312-manylinux_2_17_x86_64.manylinux2014_x86_64.whl (16.0 MB)\n",
      "Installing collected packages: numpy\n",
      "  Attempting uninstall: numpy\n",
      "    Found existing installation: numpy 2.2.6\n",
      "    Uninstalling numpy-2.2.6:\n",
      "      Successfully uninstalled numpy-2.2.6\n",
      "Successfully installed numpy-2.1.3\n",
      "Defaulting to user installation because normal site-packages is not writeable\n",
      "Requirement already satisfied: matplotlib in /home/ucloud/.local/lib/python3.12/site-packages (3.10.1)\n",
      "Requirement already satisfied: opencv-python in /home/ucloud/.local/lib/python3.12/site-packages (4.11.0.86)\n",
      "Requirement already satisfied: pandas in /home/ucloud/.local/lib/python3.12/site-packages (2.2.3)\n",
      "Requirement already satisfied: scikit-learn in /home/ucloud/.local/lib/python3.12/site-packages (1.6.1)\n",
      "Requirement already satisfied: tensorflow in /home/ucloud/.local/lib/python3.12/site-packages (2.19.0)\n",
      "Requirement already satisfied: contourpy>=1.0.1 in /home/ucloud/.local/lib/python3.12/site-packages (from matplotlib) (1.3.2)\n",
      "Requirement already satisfied: cycler>=0.10 in /home/ucloud/.local/lib/python3.12/site-packages (from matplotlib) (0.12.1)\n",
      "Requirement already satisfied: fonttools>=4.22.0 in /home/ucloud/.local/lib/python3.12/site-packages (from matplotlib) (4.57.0)\n",
      "Requirement already satisfied: kiwisolver>=1.3.1 in /home/ucloud/.local/lib/python3.12/site-packages (from matplotlib) (1.4.8)\n",
      "Requirement already satisfied: numpy>=1.23 in /home/ucloud/.local/lib/python3.12/site-packages (from matplotlib) (2.1.3)\n",
      "Requirement already satisfied: packaging>=20.0 in /home/ucloud/.local/lib/python3.12/site-packages (from matplotlib) (25.0)\n",
      "Requirement already satisfied: pillow>=8 in /home/ucloud/.local/lib/python3.12/site-packages (from matplotlib) (11.2.1)\n",
      "Requirement already satisfied: pyparsing>=2.3.1 in /home/ucloud/.local/lib/python3.12/site-packages (from matplotlib) (3.2.3)\n",
      "Requirement already satisfied: python-dateutil>=2.7 in /home/ucloud/.local/lib/python3.12/site-packages (from matplotlib) (2.9.0.post0)\n",
      "Requirement already satisfied: pytz>=2020.1 in /home/ucloud/.local/lib/python3.12/site-packages (from pandas) (2025.2)\n",
      "Requirement already satisfied: tzdata>=2022.7 in /home/ucloud/.local/lib/python3.12/site-packages (from pandas) (2025.2)\n",
      "Requirement already satisfied: scipy>=1.6.0 in /home/ucloud/.local/lib/python3.12/site-packages (from scikit-learn) (1.15.3)\n",
      "Requirement already satisfied: joblib>=1.2.0 in /home/ucloud/.local/lib/python3.12/site-packages (from scikit-learn) (1.5.0)\n",
      "Requirement already satisfied: threadpoolctl>=3.1.0 in /home/ucloud/.local/lib/python3.12/site-packages (from scikit-learn) (3.6.0)\n",
      "Requirement already satisfied: absl-py>=1.0.0 in /home/ucloud/.local/lib/python3.12/site-packages (from tensorflow) (2.2.2)\n",
      "Requirement already satisfied: astunparse>=1.6.0 in /home/ucloud/.local/lib/python3.12/site-packages (from tensorflow) (1.6.3)\n",
      "Requirement already satisfied: flatbuffers>=24.3.25 in /home/ucloud/.local/lib/python3.12/site-packages (from tensorflow) (25.2.10)\n",
      "Requirement already satisfied: gast!=0.5.0,!=0.5.1,!=0.5.2,>=0.2.1 in /home/ucloud/.local/lib/python3.12/site-packages (from tensorflow) (0.6.0)\n",
      "Requirement already satisfied: google-pasta>=0.1.1 in /home/ucloud/.local/lib/python3.12/site-packages (from tensorflow) (0.2.0)\n",
      "Requirement already satisfied: libclang>=13.0.0 in /home/ucloud/.local/lib/python3.12/site-packages (from tensorflow) (18.1.1)\n",
      "Requirement already satisfied: opt-einsum>=2.3.2 in /home/ucloud/.local/lib/python3.12/site-packages (from tensorflow) (3.4.0)\n",
      "Requirement already satisfied: protobuf!=4.21.0,!=4.21.1,!=4.21.2,!=4.21.3,!=4.21.4,!=4.21.5,<6.0.0dev,>=3.20.3 in /home/ucloud/.local/lib/python3.12/site-packages (from tensorflow) (5.29.4)\n",
      "Requirement already satisfied: requests<3,>=2.21.0 in /home/ucloud/.local/lib/python3.12/site-packages (from tensorflow) (2.32.3)\n",
      "Requirement already satisfied: setuptools in /home/ucloud/.local/lib/python3.12/site-packages (from tensorflow) (80.4.0)\n",
      "Requirement already satisfied: six>=1.12.0 in /home/ucloud/.local/lib/python3.12/site-packages (from tensorflow) (1.17.0)\n",
      "Requirement already satisfied: termcolor>=1.1.0 in /home/ucloud/.local/lib/python3.12/site-packages (from tensorflow) (3.1.0)\n",
      "Requirement already satisfied: typing-extensions>=3.6.6 in /home/ucloud/.local/lib/python3.12/site-packages (from tensorflow) (4.13.2)\n",
      "Requirement already satisfied: wrapt>=1.11.0 in /home/ucloud/.local/lib/python3.12/site-packages (from tensorflow) (1.17.2)\n",
      "Requirement already satisfied: grpcio<2.0,>=1.24.3 in /home/ucloud/.local/lib/python3.12/site-packages (from tensorflow) (1.71.0)\n",
      "Requirement already satisfied: tensorboard~=2.19.0 in /home/ucloud/.local/lib/python3.12/site-packages (from tensorflow) (2.19.0)\n",
      "Requirement already satisfied: keras>=3.5.0 in /home/ucloud/.local/lib/python3.12/site-packages (from tensorflow) (3.9.2)\n",
      "Requirement already satisfied: h5py>=3.11.0 in /home/ucloud/.local/lib/python3.12/site-packages (from tensorflow) (3.13.0)\n",
      "Requirement already satisfied: ml-dtypes<1.0.0,>=0.5.1 in /home/ucloud/.local/lib/python3.12/site-packages (from tensorflow) (0.5.1)\n",
      "Requirement already satisfied: wheel<1.0,>=0.23.0 in /home/ucloud/.local/lib/python3.12/site-packages (from astunparse>=1.6.0->tensorflow) (0.45.1)\n",
      "Requirement already satisfied: rich in /home/ucloud/.local/lib/python3.12/site-packages (from keras>=3.5.0->tensorflow) (14.0.0)\n",
      "Requirement already satisfied: namex in /home/ucloud/.local/lib/python3.12/site-packages (from keras>=3.5.0->tensorflow) (0.0.9)\n",
      "Requirement already satisfied: optree in /home/ucloud/.local/lib/python3.12/site-packages (from keras>=3.5.0->tensorflow) (0.15.0)\n",
      "Requirement already satisfied: charset-normalizer<4,>=2 in /home/ucloud/.local/lib/python3.12/site-packages (from requests<3,>=2.21.0->tensorflow) (3.4.2)\n",
      "Requirement already satisfied: idna<4,>=2.5 in /home/ucloud/.local/lib/python3.12/site-packages (from requests<3,>=2.21.0->tensorflow) (3.10)\n",
      "Requirement already satisfied: urllib3<3,>=1.21.1 in /home/ucloud/.local/lib/python3.12/site-packages (from requests<3,>=2.21.0->tensorflow) (2.4.0)\n",
      "Requirement already satisfied: certifi>=2017.4.17 in /home/ucloud/.local/lib/python3.12/site-packages (from requests<3,>=2.21.0->tensorflow) (2025.4.26)\n",
      "Requirement already satisfied: markdown>=2.6.8 in /home/ucloud/.local/lib/python3.12/site-packages (from tensorboard~=2.19.0->tensorflow) (3.8)\n",
      "Requirement already satisfied: tensorboard-data-server<0.8.0,>=0.7.0 in /home/ucloud/.local/lib/python3.12/site-packages (from tensorboard~=2.19.0->tensorflow) (0.7.2)\n",
      "Requirement already satisfied: werkzeug>=1.0.1 in /home/ucloud/.local/lib/python3.12/site-packages (from tensorboard~=2.19.0->tensorflow) (3.1.3)\n",
      "Requirement already satisfied: MarkupSafe>=2.1.1 in /home/ucloud/.local/lib/python3.12/site-packages (from werkzeug>=1.0.1->tensorboard~=2.19.0->tensorflow) (3.0.2)\n",
      "Requirement already satisfied: markdown-it-py>=2.2.0 in /home/ucloud/.local/lib/python3.12/site-packages (from rich->keras>=3.5.0->tensorflow) (3.0.0)\n",
      "Requirement already satisfied: pygments<3.0.0,>=2.13.0 in /home/ucloud/.local/lib/python3.12/site-packages (from rich->keras>=3.5.0->tensorflow) (2.19.1)\n",
      "Requirement already satisfied: mdurl~=0.1 in /home/ucloud/.local/lib/python3.12/site-packages (from markdown-it-py>=2.2.0->rich->keras>=3.5.0->tensorflow) (0.1.2)\n",
      "Defaulting to user installation because normal site-packages is not writeable\n",
      "Collecting numpy==1.26.4\n",
      "  Using cached numpy-1.26.4-cp312-cp312-manylinux_2_17_x86_64.manylinux2014_x86_64.whl.metadata (61 kB)\n",
      "Using cached numpy-1.26.4-cp312-cp312-manylinux_2_17_x86_64.manylinux2014_x86_64.whl (18.0 MB)\n",
      "Installing collected packages: numpy\n",
      "  Attempting uninstall: numpy\n",
      "    Found existing installation: numpy 2.1.3\n",
      "    Uninstalling numpy-2.1.3:\n",
      "      Successfully uninstalled numpy-2.1.3\n",
      "Successfully installed numpy-1.26.4\n",
      "Defaulting to user installation because normal site-packages is not writeable\n",
      "Requirement already satisfied: editdistance in /home/ucloud/.local/lib/python3.12/site-packages (0.8.1)\n",
      "Defaulting to user installation because normal site-packages is not writeable\n",
      "Collecting scipy\n",
      "  Downloading scipy-1.15.3-cp312-cp312-manylinux_2_17_x86_64.manylinux2014_x86_64.whl.metadata (61 kB)\n",
      "Collecting numpy<2.5,>=1.23.5 (from scipy)\n",
      "  Downloading numpy-2.2.6-cp312-cp312-manylinux_2_17_x86_64.manylinux2014_x86_64.whl.metadata (62 kB)\n",
      "Downloading scipy-1.15.3-cp312-cp312-manylinux_2_17_x86_64.manylinux2014_x86_64.whl (37.3 MB)\n",
      "\u001b[2K   \u001b[90m━━━━━━━━━━━━━━━━━━━━━━━━━━━━━━━━━━━━━━━━\u001b[0m \u001b[32m37.3/37.3 MB\u001b[0m \u001b[31m184.8 MB/s\u001b[0m eta \u001b[36m0:00:00\u001b[0ma \u001b[36m0:00:01\u001b[0m\n",
      "\u001b[?25hDownloading numpy-2.2.6-cp312-cp312-manylinux_2_17_x86_64.manylinux2014_x86_64.whl (16.5 MB)\n",
      "\u001b[2K   \u001b[90m━━━━━━━━━━━━━━━━━━━━━━━━━━━━━━━━━━━━━━━━\u001b[0m \u001b[32m16.5/16.5 MB\u001b[0m \u001b[31m222.9 MB/s\u001b[0m eta \u001b[36m0:00:00\u001b[0m\n",
      "\u001b[?25hInstalling collected packages: numpy, scipy\n",
      "  Attempting uninstall: numpy\n",
      "    Found existing installation: numpy 1.26.4\n",
      "    Uninstalling numpy-1.26.4:\n",
      "      Successfully uninstalled numpy-1.26.4\n",
      "  Attempting uninstall: scipy\n",
      "    Found existing installation: scipy 1.15.3\n",
      "    Uninstalling scipy-1.15.3:\n",
      "      Successfully uninstalled scipy-1.15.3\n",
      "\u001b[31mERROR: pip's dependency resolver does not currently take into account all the packages that are installed. This behaviour is the source of the following dependency conflicts.\n",
      "tensorflow 2.19.0 requires numpy<2.2.0,>=1.26.0, but you have numpy 2.2.6 which is incompatible.\u001b[0m\u001b[31m\n",
      "\u001b[0mSuccessfully installed numpy-2.2.6 scipy-1.15.3\n",
      "Defaulting to user installation because normal site-packages is not writeable\n",
      "Collecting scikit-learn\n",
      "  Downloading scikit_learn-1.6.1-cp312-cp312-manylinux_2_17_x86_64.manylinux2014_x86_64.whl.metadata (18 kB)\n",
      "Collecting numpy>=1.19.5 (from scikit-learn)\n",
      "  Downloading numpy-2.2.6-cp312-cp312-manylinux_2_17_x86_64.manylinux2014_x86_64.whl.metadata (62 kB)\n",
      "Collecting scipy>=1.6.0 (from scikit-learn)\n",
      "  Downloading scipy-1.15.3-cp312-cp312-manylinux_2_17_x86_64.manylinux2014_x86_64.whl.metadata (61 kB)\n",
      "Collecting joblib>=1.2.0 (from scikit-learn)\n",
      "  Downloading joblib-1.5.0-py3-none-any.whl.metadata (5.6 kB)\n",
      "Collecting threadpoolctl>=3.1.0 (from scikit-learn)\n",
      "  Downloading threadpoolctl-3.6.0-py3-none-any.whl.metadata (13 kB)\n",
      "Downloading scikit_learn-1.6.1-cp312-cp312-manylinux_2_17_x86_64.manylinux2014_x86_64.whl (13.1 MB)\n",
      "\u001b[2K   \u001b[90m━━━━━━━━━━━━━━━━━━━━━━━━━━━━━━━━━━━━━━━━\u001b[0m \u001b[32m13.1/13.1 MB\u001b[0m \u001b[31m130.9 MB/s\u001b[0m eta \u001b[36m0:00:00\u001b[0m\n",
      "\u001b[?25hDownloading joblib-1.5.0-py3-none-any.whl (307 kB)\n",
      "Downloading numpy-2.2.6-cp312-cp312-manylinux_2_17_x86_64.manylinux2014_x86_64.whl (16.5 MB)\n",
      "\u001b[2K   \u001b[90m━━━━━━━━━━━━━━━━━━━━━━━━━━━━━━━━━━━━━━━━\u001b[0m \u001b[32m16.5/16.5 MB\u001b[0m \u001b[31m188.5 MB/s\u001b[0m eta \u001b[36m0:00:00\u001b[0m\n",
      "\u001b[?25hDownloading scipy-1.15.3-cp312-cp312-manylinux_2_17_x86_64.manylinux2014_x86_64.whl (37.3 MB)\n",
      "\u001b[2K   \u001b[90m━━━━━━━━━━━━━━━━━━━━━━━━━━━━━━━━━━━━━━━━\u001b[0m \u001b[32m37.3/37.3 MB\u001b[0m \u001b[31m213.8 MB/s\u001b[0m eta \u001b[36m0:00:00\u001b[0m\n",
      "\u001b[?25hDownloading threadpoolctl-3.6.0-py3-none-any.whl (18 kB)\n",
      "Installing collected packages: threadpoolctl, numpy, joblib, scipy, scikit-learn\n",
      "  Attempting uninstall: threadpoolctl\n",
      "    Found existing installation: threadpoolctl 3.6.0\n",
      "    Uninstalling threadpoolctl-3.6.0:\n",
      "      Successfully uninstalled threadpoolctl-3.6.0\n",
      "  Attempting uninstall: numpy\n",
      "    Found existing installation: numpy 2.2.6\n",
      "    Uninstalling numpy-2.2.6:\n",
      "      Successfully uninstalled numpy-2.2.6\n",
      "  Attempting uninstall: joblib\n",
      "    Found existing installation: joblib 1.5.0\n",
      "    Uninstalling joblib-1.5.0:\n",
      "      Successfully uninstalled joblib-1.5.0\n",
      "  Attempting uninstall: scipy\n",
      "    Found existing installation: scipy 1.15.3\n",
      "    Uninstalling scipy-1.15.3:\n",
      "      Successfully uninstalled scipy-1.15.3\n",
      "  Attempting uninstall: scikit-learn\n",
      "    Found existing installation: scikit-learn 1.6.1\n",
      "    Uninstalling scikit-learn-1.6.1:\n",
      "      Successfully uninstalled scikit-learn-1.6.1\n",
      "\u001b[31mERROR: pip's dependency resolver does not currently take into account all the packages that are installed. This behaviour is the source of the following dependency conflicts.\n",
      "tensorflow 2.19.0 requires numpy<2.2.0,>=1.26.0, but you have numpy 2.2.6 which is incompatible.\u001b[0m\u001b[31m\n",
      "\u001b[0mSuccessfully installed joblib-1.5.0 numpy-2.2.6 scikit-learn-1.6.1 scipy-1.15.3 threadpoolctl-3.6.0\n"
     ]
    }
   ],
   "source": [
    "!pip install -r requirements.txt\n",
    "!pip install matplotlib opencv-python pandas scikit-learn tensorflow\n",
    "!pip install numpy==1.26.4 --force-reinstall\n",
    "!pip install editdistance\n",
    "\n",
    "# scipy\n",
    "!pip install --upgrade --force-reinstall --no-cache-dir scipy\n",
    "!pip install --upgrade --force-reinstall --no-cache-dir scikit-learn\n"
   ]
  },
  {
   "cell_type": "code",
   "execution_count": 55,
   "id": "5db0c496",
   "metadata": {},
   "outputs": [
    {
     "name": "stdout",
     "output_type": "stream",
     "text": [
      "Hit:1 http://archive.ubuntu.com/ubuntu noble InRelease\n",
      "Hit:2 http://archive.ubuntu.com/ubuntu noble-updates InRelease\n",
      "Hit:3 http://archive.ubuntu.com/ubuntu noble-backports InRelease\n",
      "Hit:4 http://security.ubuntu.com/ubuntu noble-security InRelease\n",
      "Reading package lists... Done\n",
      "Reading package lists... Done\n",
      "Building dependency tree... Done\n",
      "Reading state information... Done\n",
      "libgl1 is already the newest version (1.7.0-1build1).\n",
      "0 upgraded, 0 newly installed, 0 to remove and 47 not upgraded.\n"
     ]
    }
   ],
   "source": [
    "!sudo apt-get update\n",
    "!sudo apt-get install -y libgl1\n",
    "# !sudo apt-get -y upgrade\n",
    "# git clone git@github.com:LinusLinuxer/SPECIALIZATION-PROEJECT.git\n"
   ]
  },
  {
   "cell_type": "code",
   "execution_count": 56,
   "id": "325a8a0d",
   "metadata": {},
   "outputs": [],
   "source": [
    "import os\n",
    "import numpy as np\n",
    "import matplotlib.pyplot as plt\n",
    "import cv2\n",
    "import pandas as pd\n",
    "from sklearn.model_selection import train_test_split\n",
    "from editdistance import eval as edit_distance  \n",
    "\n",
    "import tensorflow as tf\n",
    "from tensorflow import keras\n",
    "from tensorflow.keras import models, layers\n",
    "from tensorflow.keras.preprocessing.sequence import pad_sequences\n",
    "from tensorflow.keras.utils import to_categorical\n",
    "from tensorflow.keras.models import load_model\n",
    "from tensorflow.keras.backend import ctc_decode\n",
    "\n"
   ]
  },
  {
   "cell_type": "markdown",
   "id": "96ec81f6",
   "metadata": {},
   "source": [
    "---\n",
    "## Loading the data\n",
    "Data has to load out of the 'carolianminuscule-groundtruth'-folder "
   ]
  },
  {
   "cell_type": "code",
   "execution_count": 57,
   "id": "70206626",
   "metadata": {},
   "outputs": [],
   "source": [
    "def get_images(folder_path: str):\n",
    "    \"\"\"\n",
    "    Load images and text files from the given path.\n",
    "    :param folder_path: Path to the directory containing images and text files.\n",
    "    :return: Two lists - one for image paths and one for text file paths.\n",
    "    \"\"\"\n",
    "    if not os.path.exists(folder_path):\n",
    "        raise FileNotFoundError(f\"Path {folder_path} does not exist.\")\n",
    "\n",
    "    images = []\n",
    "    files = []\n",
    "\n",
    "    for entry in os.listdir(folder_path):\n",
    "        entry_path = os.path.join(folder_path, entry)\n",
    "        if os.path.isdir(entry_path):\n",
    "            # Recursively get images and text files from subdirectories\n",
    "            sub_images, sub_files = get_images(entry_path)\n",
    "            images.extend(sub_images)\n",
    "            files.extend(sub_files)\n",
    "        elif entry.endswith(\".png\"):\n",
    "            images.append(entry_path)\n",
    "        elif entry.endswith(\".txt\"):\n",
    "            files.append(entry_path)\n",
    "\n",
    "    return images, files\n",
    "\n",
    "\n",
    "# load the data from the directory\n",
    "path = \"carolineminuscule-groundtruth\"\n",
    "images, files = get_images(path)\n",
    "\n",
    "\n",
    "# matched the .png- and .txt-file in a folder together\n",
    "matched_list_path = [\n",
    "    [img, file]\n",
    "    for img in images\n",
    "    for file in files\n",
    "    if os.path.dirname(img) == os.path.dirname(file)\n",
    "    and os.path.splitext(os.path.splitext(os.path.basename(img))[0])[0]\n",
    "    == os.path.splitext(os.path.splitext(os.path.basename(file))[0])[0]\n",
    "]\n"
   ]
  },
  {
   "cell_type": "code",
   "execution_count": 58,
   "id": "f715ff21",
   "metadata": {},
   "outputs": [
    {
     "name": "stdout",
     "output_type": "stream",
     "text": [
      "len matched: 429\n",
      "matched_list:\n",
      " ['carolineminuscule-groundtruth/bsb00104168/0011/010018.bin.png', 'carolineminuscule-groundtruth/bsb00104168/0011/010018.gt.txt']\n"
     ]
    }
   ],
   "source": [
    "print(f\"len matched: {len(matched_list_path)}\")\n",
    "print(f\"matched_list:\\n {matched_list_path[1]}\")"
   ]
  },
  {
   "cell_type": "markdown",
   "id": "48e60f70",
   "metadata": {},
   "source": [
    "---\n",
    "## Creating the Dataset"
   ]
  },
  {
   "cell_type": "code",
   "execution_count": 59,
   "id": "8877200c",
   "metadata": {},
   "outputs": [],
   "source": [
    "# define a dataframe to store the image, image paths and their corresponding text files\n",
    "df = pd.DataFrame(columns=[\"name\", \"image\", \"transcription\"])\n",
    "\n",
    "for i, (img_path, file_path) in enumerate(matched_list_path):\n",
    "    # read the image\n",
    "    img = cv2.imread(img_path, cv2.IMREAD_UNCHANGED)\n",
    "    img = np.array(img)\n",
    "    # add the image to the dataframe, set \"none\" here to add transcription later\n",
    "    df.loc[i] = [os.path.basename(img_path), img, None]\n",
    "    # read the text file\n",
    "    with open(file_path, \"r\") as f:\n",
    "        # read the transcription\n",
    "        transcription = f.read()\n",
    "    # add the transcription to the dataframe\n",
    "    df.loc[i, \"transcription\"] = transcription"
   ]
  },
  {
   "cell_type": "code",
   "execution_count": 60,
   "id": "4f1c8f39",
   "metadata": {},
   "outputs": [
    {
     "data": {
      "text/html": [
       "<div>\n",
       "<style scoped>\n",
       "    .dataframe tbody tr th:only-of-type {\n",
       "        vertical-align: middle;\n",
       "    }\n",
       "\n",
       "    .dataframe tbody tr th {\n",
       "        vertical-align: top;\n",
       "    }\n",
       "\n",
       "    .dataframe thead th {\n",
       "        text-align: right;\n",
       "    }\n",
       "</style>\n",
       "<table border=\"1\" class=\"dataframe\">\n",
       "  <thead>\n",
       "    <tr style=\"text-align: right;\">\n",
       "      <th></th>\n",
       "      <th>name</th>\n",
       "      <th>image</th>\n",
       "      <th>transcription</th>\n",
       "    </tr>\n",
       "  </thead>\n",
       "  <tbody>\n",
       "    <tr>\n",
       "      <th>0</th>\n",
       "      <td>01001b.bin.png</td>\n",
       "      <td>[[255, 255, 255, 255, 255, 255, 255, 255, 255,...</td>\n",
       "      <td>eoꝝ inflectit. Dum xp*anum n* uocis modulatio ...</td>\n",
       "    </tr>\n",
       "    <tr>\n",
       "      <th>1</th>\n",
       "      <td>010018.bin.png</td>\n",
       "      <td>[[255, 255, 255, 255, 255, 255, 255, 255, 255,...</td>\n",
       "      <td>fastidiosos oblectat . inertes exsuscitat . pe...</td>\n",
       "    </tr>\n",
       "    <tr>\n",
       "      <th>2</th>\n",
       "      <td>010012.bin.png</td>\n",
       "      <td>[[255, 255, 255, 255, 255, 255, 255, 255, 255,...</td>\n",
       "      <td>num ẽ et sono uocis . eciam đm sp*ualib hymnis...</td>\n",
       "    </tr>\n",
       "    <tr>\n",
       "      <th>3</th>\n",
       "      <td>010014.bin.png</td>\n",
       "      <td>[[255, 255, 255, 255, 255, 255, 255, 255, 255,...</td>\n",
       "      <td>ait . cantantes in cordib* urĩs. hoc ẽ non sol...</td>\n",
       "    </tr>\n",
       "    <tr>\n",
       "      <th>4</th>\n",
       "      <td>010010.bin.png</td>\n",
       "      <td>[[255, 255, 255, 255, 255, 255, 255, 255, 255,...</td>\n",
       "      <td>gustus intentus ẽ in discretione saporis ciboꝝ...</td>\n",
       "    </tr>\n",
       "  </tbody>\n",
       "</table>\n",
       "</div>"
      ],
      "text/plain": [
       "             name                                              image  \\\n",
       "0  01001b.bin.png  [[255, 255, 255, 255, 255, 255, 255, 255, 255,...   \n",
       "1  010018.bin.png  [[255, 255, 255, 255, 255, 255, 255, 255, 255,...   \n",
       "2  010012.bin.png  [[255, 255, 255, 255, 255, 255, 255, 255, 255,...   \n",
       "3  010014.bin.png  [[255, 255, 255, 255, 255, 255, 255, 255, 255,...   \n",
       "4  010010.bin.png  [[255, 255, 255, 255, 255, 255, 255, 255, 255,...   \n",
       "\n",
       "                                       transcription  \n",
       "0  eoꝝ inflectit. Dum xp*anum n* uocis modulatio ...  \n",
       "1  fastidiosos oblectat . inertes exsuscitat . pe...  \n",
       "2  num ẽ et sono uocis . eciam đm sp*ualib hymnis...  \n",
       "3  ait . cantantes in cordib* urĩs. hoc ẽ non sol...  \n",
       "4  gustus intentus ẽ in discretione saporis ciboꝝ...  "
      ]
     },
     "execution_count": 60,
     "metadata": {},
     "output_type": "execute_result"
    }
   ],
   "source": [
    "# delete all the linebrakes in the transcription\n",
    "df[\"transcription\"] = df[\"transcription\"].str.replace(\"\\n\", \"\", regex=False)\n",
    "df.head(5)"
   ]
  },
  {
   "cell_type": "markdown",
   "id": "f47d708f",
   "metadata": {},
   "source": [
    "For now it appear that the images only have \"255\" as values, i.e. white. That's why im checking for other values. But the edges of the images are all white, therefore this is the exspected behaviour."
   ]
  },
  {
   "cell_type": "code",
   "execution_count": 61,
   "id": "ecfc47fb",
   "metadata": {},
   "outputs": [
    {
     "name": "stdout",
     "output_type": "stream",
     "text": [
      "Rows  in 'image' with values other than 255: 429\n"
     ]
    }
   ],
   "source": [
    "non_255_values = df['image'].apply(lambda img: np.any(img != 255))\n",
    "print(f\"Rows  in 'image' with values other than 255: {non_255_values.sum()}\")"
   ]
  },
  {
   "cell_type": "code",
   "execution_count": 62,
   "id": "15737cd3",
   "metadata": {},
   "outputs": [
    {
     "name": "stdout",
     "output_type": "stream",
     "text": [
      "Are the values in 'name' unique? False\n"
     ]
    }
   ],
   "source": [
    "is_unique = df[\"name\"].is_unique\n",
    "print(f\"Are the values in 'name' unique? {is_unique}\")"
   ]
  },
  {
   "cell_type": "code",
   "execution_count": 63,
   "id": "13969837",
   "metadata": {},
   "outputs": [
    {
     "name": "stdout",
     "output_type": "stream",
     "text": [
      "Non-unique values in 'name':\n",
      "['01001b.bin.png' '010018.bin.png' '010012.bin.png' '010014.bin.png'\n",
      " '010010.bin.png' '010011.bin.png' '01001c.bin.png' '010015.bin.png'\n",
      " '010006.bin.png' '01001a.bin.png' '01000b.bin.png' '01000d.bin.png'\n",
      " '010004.bin.png' '01000c.bin.png' '010009.bin.png' '01000e.bin.png'\n",
      " '010019.bin.png' '010007.bin.png' '01000f.bin.png' '01000a.bin.png'\n",
      " '010003.bin.png' '010001.bin.png' '010005.bin.png' '010016.bin.png'\n",
      " '010013.bin.png' '010008.bin.png' '010002.bin.png' '010017.bin.png']\n",
      "Sum of non-unique item: 28\n"
     ]
    }
   ],
   "source": [
    "# Find duplicated values in the 'name' column\n",
    "duplicated_names = df[df[\"name\"].duplicated(keep=False)][\"name\"]\n",
    "print(\"Non-unique values in 'name':\")\n",
    "print(duplicated_names.unique())\n",
    "print(f\"Sum of non-unique item: {len(duplicated_names.unique())}\")"
   ]
  },
  {
   "cell_type": "code",
   "execution_count": 64,
   "id": "b8423507",
   "metadata": {},
   "outputs": [
    {
     "name": "stdout",
     "output_type": "stream",
     "text": [
      "Are the values in 'name' unique? True\n"
     ]
    }
   ],
   "source": [
    "# Check if the values in the 'name' column are unique\n",
    "# If not, make them unique by appending a counter to duplicates\n",
    "\n",
    "def make_unique(names):\n",
    "    counts = {}\n",
    "    result = []\n",
    "    for name in names:\n",
    "        if name not in counts:\n",
    "            counts[name] = 0\n",
    "            result.append(name)\n",
    "        else:\n",
    "            counts[name] += 1\n",
    "            result.append(f\"{name}.{counts[name]}\")\n",
    "    return result\n",
    "\n",
    "df[\"name\"] = make_unique(df[\"name\"])\n",
    "is_unique = df[\"name\"].is_unique\n",
    "print(f\"Are the values in 'name' unique? {is_unique}\")"
   ]
  },
  {
   "cell_type": "code",
   "execution_count": 65,
   "id": "fe994baf",
   "metadata": {},
   "outputs": [
    {
     "name": "stdout",
     "output_type": "stream",
     "text": [
      "Non-unique values in 'name':\n",
      "[]\n",
      "Sum of non-unique item: 0\n"
     ]
    }
   ],
   "source": [
    "# Find duplicated values in the 'name' column\n",
    "duplicated_names = df[df[\"name\"].duplicated(keep=False)][\"name\"]\n",
    "print(\"Non-unique values in 'name':\")\n",
    "print(duplicated_names.unique())\n",
    "print(f\"Sum of non-unique item: {len(duplicated_names.unique())}\")"
   ]
  },
  {
   "cell_type": "markdown",
   "id": "95fb1435",
   "metadata": {},
   "source": [
    "---\n",
    "## Preparing the data"
   ]
  },
  {
   "cell_type": "markdown",
   "id": "549cb64f",
   "metadata": {},
   "source": [
    "By calculating the maximum and avg. number of the height we can use that value later in our CNN."
   ]
  },
  {
   "cell_type": "code",
   "execution_count": 66,
   "id": "4dcdfc48",
   "metadata": {},
   "outputs": [
    {
     "name": "stdout",
     "output_type": "stream",
     "text": [
      "Maximum height of an image: 263\n",
      "Average height of an image: 140\n",
      "95% quantile height: 193\n",
      "Maximum width of an image: 3058\n",
      "Average width of an image: 1938\n",
      "95% quantile width: 2902\n"
     ]
    }
   ],
   "source": [
    "# Calculate the maximum and average width of the lists in the 'image' column\n",
    "image_heigth = df[\"image\"].apply(lambda img: img.shape[0])  # Height of each image\n",
    "max_height = image_heigth.max()\n",
    "avg_height = image_heigth.mean()\n",
    "quantile_height = image_heigth.quantile(0.95)\n",
    "\n",
    "# Calculate the maximum and average width of the lists in the 'image' column\n",
    "image_width = df[\"image\"].apply(lambda img: img.shape[1])  # Width of each image\n",
    "max_width = image_width.max()\n",
    "avg_width = image_width.mean()\n",
    "quantile_width = image_width.quantile(0.95)\n",
    "\n",
    "print(f\"Maximum height of an image: {max_height}\")\n",
    "print(f\"Average height of an image: {int(avg_height)}\")\n",
    "print(f\"95% quantile height: {int(quantile_height)}\")\n",
    "print(f\"Maximum width of an image: {int(max_width)}\")\n",
    "print(f\"Average width of an image: {int(avg_width)}\")\n",
    "print(f\"95% quantile width: {int(quantile_width)}\")"
   ]
  },
  {
   "cell_type": "code",
   "execution_count": 67,
   "id": "ca3c9713",
   "metadata": {},
   "outputs": [],
   "source": [
    "# Features (images) and labels (transcriptions)\n",
    "X = df[\"image\"].values          # Images as NumPy arrays\n",
    "y = df[\"transcription\"].values  # Transcriptions as strings"
   ]
  },
  {
   "cell_type": "code",
   "execution_count": 68,
   "id": "556ff1f4",
   "metadata": {},
   "outputs": [
    {
     "name": "stdout",
     "output_type": "stream",
     "text": [
      "X shape: (429, 256, 1024), dtype: float32\n"
     ]
    }
   ],
   "source": [
    "# Convert images to NumPy arrays and normalize\n",
    "X = np.array(\n",
    "    [cv2.resize(img, (1024, 256)) for img in df[\"image\"]], dtype=np.float32\n",
    ")  # Resize and convert to float32\n",
    "\n",
    "print(f\"X shape: {X.shape}, dtype: {X.dtype}\")"
   ]
  },
  {
   "cell_type": "code",
   "execution_count": 69,
   "id": "306d89d7",
   "metadata": {},
   "outputs": [
    {
     "name": "stdout",
     "output_type": "stream",
     "text": [
      "Transcription lengths:\n",
      "Max length:\t\t 70\n",
      "Mean length:\t\t 46\n",
      "95%-Quantile:\t\t 65\n"
     ]
    }
   ],
   "source": [
    "# find the length of the transcription\n",
    "# aplly different measures\n",
    "\n",
    "transcription_lengths = df[\"transcription\"].apply(len)\n",
    "print(\"Transcription lengths:\")\n",
    "print(f\"Max length:\\t\\t {int(transcription_lengths.max())}\")\n",
    "print(f\"Mean length:\\t\\t {int(transcription_lengths.mean())}\")\n",
    "print(f\"95%-Quantile:\\t\\t {int(transcription_lengths.quantile(0.95))}\")"
   ]
  },
  {
   "cell_type": "code",
   "execution_count": 70,
   "id": "e78911a7",
   "metadata": {},
   "outputs": [
    {
     "name": "stdout",
     "output_type": "stream",
     "text": [
      "Character set: [' ', '&', \"'\", '*', ',', '.', '/', '1', ':', ';', '?', 'A', 'B', 'C', 'D', 'E', 'F', 'H', 'I', 'K', 'L', 'M', 'N', 'O', 'P', 'Q', 'R', 'S', 'T', 'U', 'V', 'X', 'a', 'b', 'c', 'd', 'e', 'f', 'g', 'h', 'i', 'l', 'm', 'n', 'o', 'p', 'q', 'r', 's', 't', 'u', 'v', 'x', 'y', 'z', 'á', 'ã', 'æ', 'é', 'õ', 'ú', 'ā', 'ć', 'đ', 'ē', 'ę', 'ĩ', 'ī', 'ń', 'ō', 'ś', 'ũ', 'ū', 'ǣ', 'ǵ', 'ḿ', 'ẽ', 'ꝑ', 'ꝓ', 'ꝗ', 'ꝙ', 'ꝛ', 'ꝝ']\n",
      "Number of classes: 84\n",
      "Character to index mapping: {' ': 0, '&': 1, \"'\": 2, '*': 3, ',': 4, '.': 5, '/': 6, '1': 7, ':': 8, ';': 9, '?': 10, 'A': 11, 'B': 12, 'C': 13, 'D': 14, 'E': 15, 'F': 16, 'H': 17, 'I': 18, 'K': 19, 'L': 20, 'M': 21, 'N': 22, 'O': 23, 'P': 24, 'Q': 25, 'R': 26, 'S': 27, 'T': 28, 'U': 29, 'V': 30, 'X': 31, 'a': 32, 'b': 33, 'c': 34, 'd': 35, 'e': 36, 'f': 37, 'g': 38, 'h': 39, 'i': 40, 'l': 41, 'm': 42, 'n': 43, 'o': 44, 'p': 45, 'q': 46, 'r': 47, 's': 48, 't': 49, 'u': 50, 'v': 51, 'x': 52, 'y': 53, 'z': 54, 'á': 55, 'ã': 56, 'æ': 57, 'é': 58, 'õ': 59, 'ú': 60, 'ā': 61, 'ć': 62, 'đ': 63, 'ē': 64, 'ę': 65, 'ĩ': 66, 'ī': 67, 'ń': 68, 'ō': 69, 'ś': 70, 'ũ': 71, 'ū': 72, 'ǣ': 73, 'ǵ': 74, 'ḿ': 75, 'ẽ': 76, 'ꝑ': 77, 'ꝓ': 78, 'ꝗ': 79, 'ꝙ': 80, 'ꝛ': 81, 'ꝝ': 82}\n",
      "y shape: (429,), dtype: object\n"
     ]
    }
   ],
   "source": [
    "# Create a character-to-index mapping\n",
    "charset = sorted(set(\"\".join(df[\"transcription\"])))  # Unique characters in the dataset\n",
    "char_to_index = {char: idx for idx, char in enumerate(charset)}\n",
    "index_to_char = {idx: char for char, idx in char_to_index.items()}\n",
    "num_classes = len(charset) + 1  # Add 1 for the blank character (CTC loss)\n",
    "\n",
    "\n",
    "# Convert transcriptions to sequences of integers\n",
    "label_sequences = [\n",
    "    [char_to_index[char] for char in transcription]\n",
    "    for transcription in df[\"transcription\"]\n",
    "]\n",
    "\n",
    "# Pad sequences to a fixed length\n",
    "max_sequence_length = 256   \n",
    "\n",
    "# Pads the sequences to the same length\n",
    "padded_labels = pad_sequences(\n",
    "    label_sequences, maxlen=max_sequence_length, padding=\"post\", value=num_classes - 1\n",
    ")\n",
    "\n",
    "print(f\"Character set: {charset}\")\n",
    "print(f\"Number of classes: {num_classes}\")\n",
    "print(f\"Character to index mapping: {char_to_index}\")\n",
    "print(f\"y shape: {y.shape}, dtype: {y.dtype}\")"
   ]
  },
  {
   "cell_type": "code",
   "execution_count": 71,
   "id": "acbf4ec9",
   "metadata": {},
   "outputs": [],
   "source": [
    "# Convert transcriptions to sequences of integers\n",
    "label_sequences = [\n",
    "    [char_to_index[char] for char in transcription]\n",
    "    for transcription in df[\"transcription\"]\n",
    "]\n",
    "\n",
    "# Pad sequences to a fixed length (use a value outside the valid character indices, like num_classes - 1 for blank)\n",
    "padded_labels = pad_sequences(\n",
    "    label_sequences, maxlen=max_sequence_length, padding=\"post\", value=num_classes - 1\n",
    ")\n",
    "\n",
    "# Convert to NumPy array, not one-hot encoded because CTC loss expects integer sequences\n",
    "y = np.array(padded_labels, dtype=np.int32)\n"
   ]
  },
  {
   "cell_type": "code",
   "execution_count": 72,
   "id": "319becdc",
   "metadata": {},
   "outputs": [],
   "source": [
    "X_train, X_test, y_train, y_test = train_test_split(\n",
    "    X, y, test_size=0.2, random_state=42\n",
    ")\n",
    "\n",
    "num_classes = len(charset) + 1  # Number of unique characters. +1 for the blank character (CTC loss)"
   ]
  },
  {
   "cell_type": "code",
   "execution_count": 73,
   "id": "56fbdc78",
   "metadata": {},
   "outputs": [
    {
     "name": "stdout",
     "output_type": "stream",
     "text": [
      "X_train shape: (343, 256, 1024), dtype: float32\n",
      "y_train shape: (343, 256), dtype: int32\n"
     ]
    }
   ],
   "source": [
    "print(f\"X_train shape: {X_train.shape}, dtype: {X_train.dtype}\")\n",
    "print(f\"y_train shape: {y_train.shape}, dtype: {y_train.dtype}\")"
   ]
  },
  {
   "cell_type": "markdown",
   "id": "12f322fa",
   "metadata": {},
   "source": [
    "---\n",
    "## Data visualisation\n",
    "Below I want to gain a better understanding of our datapoints"
   ]
  },
  {
   "cell_type": "code",
   "execution_count": 53,
   "id": "486a2991",
   "metadata": {},
   "outputs": [
    {
     "data": {
      "image/png": "[encoded data removed]",
      "text/plain": [
       "<Figure size 640x480 with 1 Axes>"
      ]
     },
     "metadata": {},
     "output_type": "display_data"
    }
   ],
   "source": [
    "plt.imshow(X_train[0], cmap=\"gray\", vmin=0, vmax=255)\n",
    "plt.title(\"Sample Image from Training Set\")\n",
    "plt.show()"
   ]
  },
  {
   "cell_type": "code",
   "execution_count": 54,
   "id": "c078c925",
   "metadata": {},
   "outputs": [
    {
     "name": "stdout",
     "output_type": "stream",
     "text": [
      "First entry in y_train:\n",
      "[36 52 36 50 43 49 36 48  0 48 36 50 40  0 43 40 42 40 48  0  9  0 40 49\n",
      " 32  0 50 49  0 43 36 42 44  0 45 44 48 48 40 49  0 49 47 32 43 48 40 47\n",
      " 36 83 83 83 83 83 83 83 83 83 83 83 83 83 83 83 83 83 83 83 83 83 83 83\n",
      " 83 83 83 83 83 83 83 83 83 83 83 83 83 83 83 83 83 83 83 83 83 83 83 83\n",
      " 83 83 83 83 83 83 83 83 83 83 83 83 83 83 83 83 83 83 83 83 83 83 83 83\n",
      " 83 83 83 83 83 83 83 83 83 83 83 83 83 83 83 83 83 83 83 83 83 83 83 83\n",
      " 83 83 83 83 83 83 83 83 83 83 83 83 83 83 83 83 83 83 83 83 83 83 83 83\n",
      " 83 83 83 83 83 83 83 83 83 83 83 83 83 83 83 83 83 83 83 83 83 83 83 83\n",
      " 83 83 83 83 83 83 83 83 83 83 83 83 83 83 83 83 83 83 83 83 83 83 83 83\n",
      " 83 83 83 83 83 83 83 83 83 83 83 83 83 83 83 83 83 83 83 83 83 83 83 83\n",
      " 83 83 83 83 83 83 83 83 83 83 83 83 83 83 83 83]\n"
     ]
    }
   ],
   "source": [
    "print(\"First entry in y_train:\")\n",
    "print(y_train[0])"
   ]
  },
  {
   "cell_type": "code",
   "execution_count": 55,
   "id": "fb9ac282",
   "metadata": {},
   "outputs": [
    {
     "name": "stdout",
     "output_type": "stream",
     "text": [
      "exeuntes seui nimis ; ita ut nemo possit transire\n"
     ]
    }
   ],
   "source": [
    "# Translate the first entry in y_train back to text using index_to_char\n",
    "decoded_text = \"\".join([index_to_char[idx] for idx in y_train[0] if idx < len(index_to_char)])\n",
    "print(decoded_text)"
   ]
  },
  {
   "cell_type": "markdown",
   "id": "551685d5",
   "metadata": {},
   "source": [
    "---\n",
    "\n",
    "## Evaluation metric"
   ]
  },
  {
   "cell_type": "code",
   "execution_count": 76,
   "id": "fea1d2ad",
   "metadata": {},
   "outputs": [],
   "source": [
    "# evaluation metrics\n",
    "eval_metrics = pd.DataFrame(\n",
    "    columns=[\"epoch\", \"ctc loss\", \"val_loss\", \"cer\", \"wer\"]\n",
    ")\n",
    "\n",
    "\n",
    "class MetricsLogger(tf.keras.callbacks.Callback):\n",
    "    def __init__(self, X_val, y_val, index_to_char):\n",
    "        super().__init__()\n",
    "        self.X_val = X_val\n",
    "        self.y_val = y_val\n",
    "        self.index_to_char = index_to_char\n",
    "\n",
    "    def on_epoch_end(self, epoch, logs=None):\n",
    "        # Predict on validation set\n",
    "        y_pred = self.model.predict(self.X_val)\n",
    "        decoded_sequences, _ = tf.keras.backend.ctc_decode(\n",
    "            y_pred, input_length=np.ones(y_pred.shape[0]) * y_pred.shape[1]\n",
    "        )\n",
    "        y_pred_texts = [\n",
    "            \"\".join(\n",
    "                self.index_to_char.get(\n",
    "                    idx, \"\"\n",
    "                )  # Robust gegen -1 oder ungültige Indizes\n",
    "                for idx in seq.numpy()\n",
    "            )\n",
    "            for seq in decoded_sequences[0]\n",
    "        ]\n",
    "\n",
    "        y_true_texts = [\n",
    "            \"\".join(\n",
    "                self.index_to_char[idx] for idx in seq if idx < len(self.index_to_char)\n",
    "            )\n",
    "            for seq in self.y_val\n",
    "        ]\n",
    "        cer = MetricsLogger.character_error_rate(y_true_texts, y_pred_texts)\n",
    "        wer = MetricsLogger.word_error_rate(y_true_texts, y_pred_texts)\n",
    "\n",
    "        # Log metrics\n",
    "        self.log_metrics(epoch, logs, cer, wer)\n",
    "        eval_metrics.to_csv(\"eval_metrics.csv\", index=True)\n",
    "\n",
    "    def log_metrics(self, epoch, logs, cer, wer):\n",
    "        eval_metrics.loc[epoch] = [\n",
    "            epoch,\n",
    "            logs.get(\"ctc_loss\", logs.get(\"loss\")),\n",
    "            logs.get(\"val_loss\"),\n",
    "            cer,\n",
    "            wer,\n",
    "        ]\n",
    "\n",
    "    @staticmethod\n",
    "    def character_error_rate(y_true, y_pred):\n",
    "        total_edits = 0\n",
    "        total_chars = 0\n",
    "        for true, pred in zip(y_true, y_pred):\n",
    "            total_edits += edit_distance(true, pred)\n",
    "            total_chars += len(true)\n",
    "        return total_edits / total_chars if total_chars > 0 else 0.0\n",
    "\n",
    "    @staticmethod\n",
    "    def word_error_rate(y_true, y_pred):\n",
    "        total_edits = 0\n",
    "        total_words = 0\n",
    "        for true, pred in zip(y_true, y_pred):\n",
    "            total_edits += edit_distance(true.split(), pred.split())\n",
    "            total_words += len(true.split())\n",
    "        return total_edits / total_words if total_words > 0 else 0.0\n",
    "\n",
    "    def ctc_loss( y_true, y_pred):\n",
    "        \"\"\"\n",
    "        Compute the CTC (Connectionist Temporal Classification) loss between the true and predicted labels.\n",
    "\n",
    "        Args:\n",
    "            y_true: Ground truth labels (padded sequences).\n",
    "            y_pred: Predicted label probabilities from the model.\n",
    "\n",
    "        Returns:\n",
    "            Tensor representing the CTC loss for the batch.\n",
    "        \"\"\"\n",
    "        # Calculate the length of each input sequence (all sequences are assumed to be the same length here)\n",
    "        input_length = (\n",
    "            tf.ones(shape=(tf.shape(y_pred)[0], 1), dtype=tf.int32)\n",
    "            * tf.shape(y_pred)[1]\n",
    "        )\n",
    "        # Calculate the length of each label sequence (all sequences are assumed to be the same length here)\n",
    "        label_length = (\n",
    "            tf.ones(shape=(tf.shape(y_true)[0], 1), dtype=tf.int32)\n",
    "            * tf.shape(y_true)[1]\n",
    "        )\n",
    "        # Compute the CTC batch cost using Keras backend\n",
    "        return tf.keras.backend.ctc_batch_cost(\n",
    "            y_true, y_pred, input_length, label_length\n",
    "        )"
   ]
  },
  {
   "cell_type": "markdown",
   "id": "a582f375",
   "metadata": {},
   "source": [
    "---\n",
    "## Training\n"
   ]
  },
  {
   "cell_type": "code",
   "execution_count": 77,
   "id": "f5fe5092",
   "metadata": {},
   "outputs": [
    {
     "name": "stderr",
     "output_type": "stream",
     "text": [
      "/home/ucloud/.local/lib/python3.12/site-packages/keras/src/layers/convolutional/base_conv.py:107: UserWarning: Do not pass an `input_shape`/`input_dim` argument to a layer. When using Sequential models, prefer using an `Input(shape)` object as the first layer in the model instead.\n",
      "  super().__init__(activity_regularizer=activity_regularizer, **kwargs)\n"
     ]
    }
   ],
   "source": [
    "cnn_rnn = models.Sequential(\n",
    "    [\n",
    "        # CNN layers\n",
    "        # input shape is = (height, width, channels)\n",
    "        layers.Conv2D(\n",
    "            64, (3, 3), padding=\"same\", activation=\"relu\", input_shape=(256, 1024, 1)\n",
    "        ),\n",
    "        layers.MaxPooling2D(pool_size=(2, 2)),  # → (128, 512, 64)\n",
    "        layers.Conv2D(128, (3, 3), padding=\"same\", activation=\"relu\"),\n",
    "        layers.MaxPooling2D(pool_size=(2, 2)),  # → (64, 256, 128)\n",
    "        # Reshape for RNN\n",
    "        layers.Reshape(target_shape=(256, 64 * 128)),  # → (batch, 256, 8192)\n",
    "        # RNN layers\n",
    "        layers.Bidirectional(layers.LSTM(256, return_sequences=True)),\n",
    "        layers.Bidirectional(layers.LSTM(256, return_sequences=True)),\n",
    "        # Output layer\n",
    "        layers.Dense(\n",
    "            num_classes, activation=\"softmax\"\n",
    "        ),  # Use softmax for probabilities\n",
    "    ]\n",
    ")\n",
    "\n",
    "cnn_rnn.compile(optimizer=\"adam\", loss=MetricsLogger.ctc_loss)\n",
    "\n",
    "# cnn_rnn.summary()"
   ]
  },
  {
   "cell_type": "code",
   "execution_count": 78,
   "id": "7ad05303",
   "metadata": {},
   "outputs": [
    {
     "name": "stdout",
     "output_type": "stream",
     "text": [
      "Epoch 1/10\n",
      "\u001b[1m11/11\u001b[0m \u001b[32m━━━━━━━━━━━━━━━━━━━━\u001b[0m\u001b[37m\u001b[0m \u001b[1m0s\u001b[0m 8s/step - loss: 549.8674WARNING:tensorflow:5 out of the last 7 calls to <function TensorFlowTrainer.make_predict_function.<locals>.one_step_on_data_distributed at 0x7f73e04f9940> triggered tf.function retracing. Tracing is expensive and the excessive number of tracings could be due to (1) creating @tf.function repeatedly in a loop, (2) passing tensors with different shapes, (3) passing Python objects instead of tensors. For (1), please define your @tf.function outside of the loop. For (2), @tf.function has reduce_retracing=True option that can avoid unnecessary retracing. For (3), please refer to https://www.tensorflow.org/guide/function#controlling_retracing and https://www.tensorflow.org/api_docs/python/tf/function for  more details.\n",
      "\u001b[1m2/3\u001b[0m \u001b[32m━━━━━━━━━━━━━\u001b[0m\u001b[37m━━━━━━━\u001b[0m \u001b[1m1s\u001b[0m 2s/stepWARNING:tensorflow:6 out of the last 9 calls to <function TensorFlowTrainer.make_predict_function.<locals>.one_step_on_data_distributed at 0x7f73e04f9940> triggered tf.function retracing. Tracing is expensive and the excessive number of tracings could be due to (1) creating @tf.function repeatedly in a loop, (2) passing tensors with different shapes, (3) passing Python objects instead of tensors. For (1), please define your @tf.function outside of the loop. For (2), @tf.function has reduce_retracing=True option that can avoid unnecessary retracing. For (3), please refer to https://www.tensorflow.org/guide/function#controlling_retracing and https://www.tensorflow.org/api_docs/python/tf/function for  more details.\n",
      "\u001b[1m3/3\u001b[0m \u001b[32m━━━━━━━━━━━━━━━━━━━━\u001b[0m\u001b[37m\u001b[0m \u001b[1m6s\u001b[0m 2s/step\n",
      "\u001b[1m11/11\u001b[0m \u001b[32m━━━━━━━━━━━━━━━━━━━━\u001b[0m\u001b[37m\u001b[0m \u001b[1m102s\u001b[0m 9s/step - loss: 537.7446 - val_loss: 277.0949\n",
      "Epoch 2/10\n",
      "\u001b[1m3/3\u001b[0m \u001b[32m━━━━━━━━━━━━━━━━━━━━\u001b[0m\u001b[37m\u001b[0m \u001b[1m4s\u001b[0m 1s/stepep - loss: 280.1\n",
      "\u001b[1m11/11\u001b[0m \u001b[32m━━━━━━━━━━━━━━━━━━━━\u001b[0m\u001b[37m\u001b[0m \u001b[1m91s\u001b[0m 8s/step - loss: 280.2554 - val_loss: 271.4806\n",
      "Epoch 3/10\n",
      "\u001b[1m3/3\u001b[0m \u001b[32m━━━━━━━━━━━━━━━━━━━━\u001b[0m\u001b[37m\u001b[0m \u001b[1m4s\u001b[0m 1s/stepep - loss: 281.5\n",
      "\u001b[1m11/11\u001b[0m \u001b[32m━━━━━━━━━━━━━━━━━━━━\u001b[0m\u001b[37m\u001b[0m \u001b[1m90s\u001b[0m 8s/step - loss: 281.2315 - val_loss: 265.5392\n",
      "Epoch 4/10\n",
      "\u001b[1m3/3\u001b[0m \u001b[32m━━━━━━━━━━━━━━━━━━━━\u001b[0m\u001b[37m\u001b[0m \u001b[1m4s\u001b[0m 1s/stepep - loss: 278.6\n",
      "\u001b[1m11/11\u001b[0m \u001b[32m━━━━━━━━━━━━━━━━━━━━\u001b[0m\u001b[37m\u001b[0m \u001b[1m91s\u001b[0m 8s/step - loss: 278.3532 - val_loss: 263.5650\n",
      "Epoch 5/10\n",
      "\u001b[1m3/3\u001b[0m \u001b[32m━━━━━━━━━━━━━━━━━━━━\u001b[0m\u001b[37m\u001b[0m \u001b[1m4s\u001b[0m 1s/stepep - loss: 271.3\n",
      "\u001b[1m11/11\u001b[0m \u001b[32m━━━━━━━━━━━━━━━━━━━━\u001b[0m\u001b[37m\u001b[0m \u001b[1m90s\u001b[0m 8s/step - loss: 271.5886 - val_loss: 261.6292\n",
      "Epoch 6/10\n",
      "\u001b[1m3/3\u001b[0m \u001b[32m━━━━━━━━━━━━━━━━━━━━\u001b[0m\u001b[37m\u001b[0m \u001b[1m4s\u001b[0m 1s/stepep - loss: 277.8\n",
      "\u001b[1m11/11\u001b[0m \u001b[32m━━━━━━━━━━━━━━━━━━━━\u001b[0m\u001b[37m\u001b[0m \u001b[1m89s\u001b[0m 8s/step - loss: 277.0245 - val_loss: 253.5818\n",
      "Epoch 7/10\n",
      "\u001b[1m3/3\u001b[0m \u001b[32m━━━━━━━━━━━━━━━━━━━━\u001b[0m\u001b[37m\u001b[0m \u001b[1m4s\u001b[0m 1s/stepep - loss: 284.9\n",
      "\u001b[1m11/11\u001b[0m \u001b[32m━━━━━━━━━━━━━━━━━━━━\u001b[0m\u001b[37m\u001b[0m \u001b[1m90s\u001b[0m 8s/step - loss: 283.3096 - val_loss: 248.1301\n",
      "Epoch 8/10\n",
      "\u001b[1m3/3\u001b[0m \u001b[32m━━━━━━━━━━━━━━━━━━━━\u001b[0m\u001b[37m\u001b[0m \u001b[1m4s\u001b[0m 1s/stepep - loss: 257.0\n",
      "\u001b[1m11/11\u001b[0m \u001b[32m━━━━━━━━━━━━━━━━━━━━\u001b[0m\u001b[37m\u001b[0m \u001b[1m91s\u001b[0m 8s/step - loss: 256.6628 - val_loss: 230.1704\n",
      "Epoch 9/10\n",
      "\u001b[1m3/3\u001b[0m \u001b[32m━━━━━━━━━━━━━━━━━━━━\u001b[0m\u001b[37m\u001b[0m \u001b[1m4s\u001b[0m 1s/stepep - loss: 241.2\n",
      "\u001b[1m11/11\u001b[0m \u001b[32m━━━━━━━━━━━━━━━━━━━━\u001b[0m\u001b[37m\u001b[0m \u001b[1m92s\u001b[0m 8s/step - loss: 241.2490 - val_loss: 224.2152\n",
      "Epoch 10/10\n",
      "\u001b[1m3/3\u001b[0m \u001b[32m━━━━━━━━━━━━━━━━━━━━\u001b[0m\u001b[37m\u001b[0m \u001b[1m4s\u001b[0m 1s/stepep - loss: 228.4\n",
      "\u001b[1m11/11\u001b[0m \u001b[32m━━━━━━━━━━━━━━━━━━━━\u001b[0m\u001b[37m\u001b[0m \u001b[1m91s\u001b[0m 8s/step - loss: 228.6535 - val_loss: 224.9814\n"
     ]
    },
    {
     "data": {
      "text/plain": [
       "<keras.src.callbacks.history.History at 0x7f73b034a6f0>"
      ]
     },
     "execution_count": 78,
     "metadata": {},
     "output_type": "execute_result"
    }
   ],
   "source": [
    "#! Commented out to avoid running the model training\n",
    "# # Fit the model\n",
    "# When fitting the model, pass validation data and index_to_char to the callback:\n",
    "cnn_rnn.fit(\n",
    "    X_train,\n",
    "    y_train,\n",
    "    epochs=10,\n",
    "    validation_data=(X_test, y_test),\n",
    "    batch_size=32,\n",
    "    callbacks=[MetricsLogger(X_test, y_test, index_to_char)]\n",
    ")"
   ]
  },
  {
   "cell_type": "code",
   "execution_count": 79,
   "id": "89715344",
   "metadata": {},
   "outputs": [
    {
     "data": {
      "text/html": [
       "<div>\n",
       "<style scoped>\n",
       "    .dataframe tbody tr th:only-of-type {\n",
       "        vertical-align: middle;\n",
       "    }\n",
       "\n",
       "    .dataframe tbody tr th {\n",
       "        vertical-align: top;\n",
       "    }\n",
       "\n",
       "    .dataframe thead th {\n",
       "        text-align: right;\n",
       "    }\n",
       "</style>\n",
       "<table border=\"1\" class=\"dataframe\">\n",
       "  <thead>\n",
       "    <tr style=\"text-align: right;\">\n",
       "      <th></th>\n",
       "      <th>epoch</th>\n",
       "      <th>ctc loss</th>\n",
       "      <th>val_loss</th>\n",
       "      <th>cer</th>\n",
       "      <th>wer</th>\n",
       "    </tr>\n",
       "  </thead>\n",
       "  <tbody>\n",
       "    <tr>\n",
       "      <th>0</th>\n",
       "      <td>0.0</td>\n",
       "      <td>404.394714</td>\n",
       "      <td>277.094940</td>\n",
       "      <td>0.979602</td>\n",
       "      <td>1.0</td>\n",
       "    </tr>\n",
       "    <tr>\n",
       "      <th>1</th>\n",
       "      <td>1.0</td>\n",
       "      <td>281.796478</td>\n",
       "      <td>271.480591</td>\n",
       "      <td>0.979602</td>\n",
       "      <td>1.0</td>\n",
       "    </tr>\n",
       "    <tr>\n",
       "      <th>2</th>\n",
       "      <td>2.0</td>\n",
       "      <td>277.406982</td>\n",
       "      <td>265.539185</td>\n",
       "      <td>0.979602</td>\n",
       "      <td>1.0</td>\n",
       "    </tr>\n",
       "    <tr>\n",
       "      <th>3</th>\n",
       "      <td>3.0</td>\n",
       "      <td>275.408264</td>\n",
       "      <td>263.565033</td>\n",
       "      <td>0.979602</td>\n",
       "      <td>1.0</td>\n",
       "    </tr>\n",
       "    <tr>\n",
       "      <th>4</th>\n",
       "      <td>4.0</td>\n",
       "      <td>273.792725</td>\n",
       "      <td>261.629181</td>\n",
       "      <td>0.979602</td>\n",
       "      <td>1.0</td>\n",
       "    </tr>\n",
       "  </tbody>\n",
       "</table>\n",
       "</div>"
      ],
      "text/plain": [
       "   epoch    ctc loss    val_loss       cer  wer\n",
       "0    0.0  404.394714  277.094940  0.979602  1.0\n",
       "1    1.0  281.796478  271.480591  0.979602  1.0\n",
       "2    2.0  277.406982  265.539185  0.979602  1.0\n",
       "3    3.0  275.408264  263.565033  0.979602  1.0\n",
       "4    4.0  273.792725  261.629181  0.979602  1.0"
      ]
     },
     "execution_count": 79,
     "metadata": {},
     "output_type": "execute_result"
    }
   ],
   "source": [
    "eval_metrics.head()"
   ]
  },
  {
   "cell_type": "code",
   "execution_count": 81,
   "id": "2dc01f4c",
   "metadata": {},
   "outputs": [],
   "source": [
    "cnn_rnn.save(\"CNN_RNN_model.keras\")"
   ]
  }
 ],
 "metadata": {
  "kernelspec": {
   "display_name": "Python 3",
   "language": "python",
   "name": "python3"
  },
  "language_info": {
   "codemirror_mode": {
    "name": "ipython",
    "version": 3
   },
   "file_extension": ".py",
   "mimetype": "text/x-python",
   "name": "python",
   "nbconvert_exporter": "python",
   "pygments_lexer": "ipython3",
   "version": "3.12.3"
  }
 },
 "nbformat": 4,
 "nbformat_minor": 5
}
