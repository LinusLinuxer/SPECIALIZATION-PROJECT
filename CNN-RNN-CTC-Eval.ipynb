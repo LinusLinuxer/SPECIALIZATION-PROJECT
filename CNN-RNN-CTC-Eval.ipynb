{
 "cells": [
  {
   "cell_type": "markdown",
   "id": "fd85a770",
   "metadata": {},
   "source": [
    "# CNN\n",
    "This notebook aims to deploy the CNN."
   ]
  },
  {
   "cell_type": "markdown",
   "id": "60c50740",
   "metadata": {},
   "source": [
    "## Setup for UCloud\n",
    "The Setup on Ucloud is a bit feasty at times, so here are some workarounds"
   ]
  },
  {
   "cell_type": "code",
   "execution_count": 45,
   "id": "cfb54145",
   "metadata": {},
   "outputs": [],
   "source": [
    "#pip freeze > requirements.txt"
   ]
  },
  {
   "cell_type": "code",
   "execution_count": 46,
   "id": "41265d20",
   "metadata": {},
   "outputs": [
    {
     "name": "stdout",
     "output_type": "stream",
     "text": [
      "Defaulting to user installation because normal site-packages is not writeable\n",
      "Requirement already satisfied: absl-py==2.2.2 in /home/ucloud/.local/lib/python3.12/site-packages (from -r requirements.txt (line 1)) (2.2.2)\n",
      "Requirement already satisfied: asttokens==3.0.0 in /home/ucloud/.local/lib/python3.12/site-packages (from -r requirements.txt (line 2)) (3.0.0)\n",
      "Requirement already satisfied: astunparse==1.6.3 in /home/ucloud/.local/lib/python3.12/site-packages (from -r requirements.txt (line 3)) (1.6.3)\n",
      "Requirement already satisfied: certifi==2025.4.26 in /home/ucloud/.local/lib/python3.12/site-packages (from -r requirements.txt (line 4)) (2025.4.26)\n",
      "Requirement already satisfied: charset-normalizer==3.4.2 in /home/ucloud/.local/lib/python3.12/site-packages (from -r requirements.txt (line 5)) (3.4.2)\n",
      "Requirement already satisfied: comm==0.2.2 in /home/ucloud/.local/lib/python3.12/site-packages (from -r requirements.txt (line 6)) (0.2.2)\n",
      "Requirement already satisfied: contourpy==1.3.2 in /home/ucloud/.local/lib/python3.12/site-packages (from -r requirements.txt (line 7)) (1.3.2)\n",
      "Requirement already satisfied: cycler==0.12.1 in /home/ucloud/.local/lib/python3.12/site-packages (from -r requirements.txt (line 8)) (0.12.1)\n",
      "Requirement already satisfied: debugpy==1.8.14 in /home/ucloud/.local/lib/python3.12/site-packages (from -r requirements.txt (line 9)) (1.8.14)\n",
      "Requirement already satisfied: decorator==5.2.1 in /home/ucloud/.local/lib/python3.12/site-packages (from -r requirements.txt (line 10)) (5.2.1)\n",
      "Requirement already satisfied: executing==2.2.0 in /home/ucloud/.local/lib/python3.12/site-packages (from -r requirements.txt (line 11)) (2.2.0)\n",
      "Requirement already satisfied: flatbuffers==25.2.10 in /home/ucloud/.local/lib/python3.12/site-packages (from -r requirements.txt (line 12)) (25.2.10)\n",
      "Requirement already satisfied: fonttools==4.57.0 in /home/ucloud/.local/lib/python3.12/site-packages (from -r requirements.txt (line 13)) (4.57.0)\n",
      "Requirement already satisfied: gast==0.6.0 in /home/ucloud/.local/lib/python3.12/site-packages (from -r requirements.txt (line 14)) (0.6.0)\n",
      "Requirement already satisfied: google-pasta==0.2.0 in /home/ucloud/.local/lib/python3.12/site-packages (from -r requirements.txt (line 15)) (0.2.0)\n",
      "Requirement already satisfied: grpcio==1.71.0 in /home/ucloud/.local/lib/python3.12/site-packages (from -r requirements.txt (line 16)) (1.71.0)\n",
      "Requirement already satisfied: h5py==3.13.0 in /home/ucloud/.local/lib/python3.12/site-packages (from -r requirements.txt (line 17)) (3.13.0)\n",
      "Requirement already satisfied: idna==3.10 in /home/ucloud/.local/lib/python3.12/site-packages (from -r requirements.txt (line 18)) (3.10)\n",
      "Requirement already satisfied: ipykernel==6.29.5 in /home/ucloud/.local/lib/python3.12/site-packages (from -r requirements.txt (line 19)) (6.29.5)\n",
      "Requirement already satisfied: ipython==9.2.0 in /home/ucloud/.local/lib/python3.12/site-packages (from -r requirements.txt (line 20)) (9.2.0)\n",
      "Requirement already satisfied: ipython_pygments_lexers==1.1.1 in /home/ucloud/.local/lib/python3.12/site-packages (from -r requirements.txt (line 21)) (1.1.1)\n",
      "Requirement already satisfied: jedi==0.19.2 in /home/ucloud/.local/lib/python3.12/site-packages (from -r requirements.txt (line 22)) (0.19.2)\n",
      "Requirement already satisfied: joblib==1.5.0 in /home/ucloud/.local/lib/python3.12/site-packages (from -r requirements.txt (line 23)) (1.5.0)\n",
      "Requirement already satisfied: jupyter_client==8.6.3 in /home/ucloud/.local/lib/python3.12/site-packages (from -r requirements.txt (line 24)) (8.6.3)\n",
      "Requirement already satisfied: jupyter_core==5.7.2 in /home/ucloud/.local/lib/python3.12/site-packages (from -r requirements.txt (line 25)) (5.7.2)\n",
      "Requirement already satisfied: keras==3.9.2 in /home/ucloud/.local/lib/python3.12/site-packages (from -r requirements.txt (line 26)) (3.9.2)\n",
      "Requirement already satisfied: kiwisolver==1.4.8 in /home/ucloud/.local/lib/python3.12/site-packages (from -r requirements.txt (line 27)) (1.4.8)\n",
      "Requirement already satisfied: libclang==18.1.1 in /home/ucloud/.local/lib/python3.12/site-packages (from -r requirements.txt (line 28)) (18.1.1)\n",
      "Requirement already satisfied: Markdown==3.8 in /home/ucloud/.local/lib/python3.12/site-packages (from -r requirements.txt (line 29)) (3.8)\n",
      "Requirement already satisfied: markdown-it-py==3.0.0 in /home/ucloud/.local/lib/python3.12/site-packages (from -r requirements.txt (line 30)) (3.0.0)\n",
      "Requirement already satisfied: MarkupSafe==3.0.2 in /home/ucloud/.local/lib/python3.12/site-packages (from -r requirements.txt (line 31)) (3.0.2)\n",
      "Requirement already satisfied: matplotlib==3.10.1 in /home/ucloud/.local/lib/python3.12/site-packages (from -r requirements.txt (line 32)) (3.10.1)\n",
      "Requirement already satisfied: matplotlib-inline==0.1.7 in /home/ucloud/.local/lib/python3.12/site-packages (from -r requirements.txt (line 33)) (0.1.7)\n",
      "Requirement already satisfied: mdurl==0.1.2 in /home/ucloud/.local/lib/python3.12/site-packages (from -r requirements.txt (line 34)) (0.1.2)\n",
      "Requirement already satisfied: ml_dtypes==0.5.1 in /home/ucloud/.local/lib/python3.12/site-packages (from -r requirements.txt (line 35)) (0.5.1)\n",
      "Requirement already satisfied: namex==0.0.9 in /home/ucloud/.local/lib/python3.12/site-packages (from -r requirements.txt (line 36)) (0.0.9)\n",
      "Requirement already satisfied: nest-asyncio==1.6.0 in /home/ucloud/.local/lib/python3.12/site-packages (from -r requirements.txt (line 37)) (1.6.0)\n",
      "Collecting numpy==2.1.3 (from -r requirements.txt (line 38))\n",
      "  Using cached numpy-2.1.3-cp312-cp312-manylinux_2_17_x86_64.manylinux2014_x86_64.whl.metadata (62 kB)\n",
      "Requirement already satisfied: opencv-python==4.11.0.86 in /home/ucloud/.local/lib/python3.12/site-packages (from -r requirements.txt (line 39)) (4.11.0.86)\n",
      "Requirement already satisfied: opt_einsum==3.4.0 in /home/ucloud/.local/lib/python3.12/site-packages (from -r requirements.txt (line 40)) (3.4.0)\n",
      "Requirement already satisfied: optree==0.15.0 in /home/ucloud/.local/lib/python3.12/site-packages (from -r requirements.txt (line 41)) (0.15.0)\n",
      "Requirement already satisfied: packaging==25.0 in /home/ucloud/.local/lib/python3.12/site-packages (from -r requirements.txt (line 42)) (25.0)\n",
      "Requirement already satisfied: pandas==2.2.3 in /home/ucloud/.local/lib/python3.12/site-packages (from -r requirements.txt (line 43)) (2.2.3)\n",
      "Requirement already satisfied: parso==0.8.4 in /home/ucloud/.local/lib/python3.12/site-packages (from -r requirements.txt (line 44)) (0.8.4)\n",
      "Requirement already satisfied: pexpect==4.9.0 in /home/ucloud/.local/lib/python3.12/site-packages (from -r requirements.txt (line 45)) (4.9.0)\n",
      "Requirement already satisfied: pillow==11.2.1 in /home/ucloud/.local/lib/python3.12/site-packages (from -r requirements.txt (line 46)) (11.2.1)\n",
      "Requirement already satisfied: platformdirs==4.3.7 in /home/ucloud/.local/lib/python3.12/site-packages (from -r requirements.txt (line 47)) (4.3.7)\n",
      "Requirement already satisfied: prompt_toolkit==3.0.51 in /home/ucloud/.local/lib/python3.12/site-packages (from -r requirements.txt (line 48)) (3.0.51)\n",
      "Requirement already satisfied: protobuf==5.29.4 in /home/ucloud/.local/lib/python3.12/site-packages (from -r requirements.txt (line 49)) (5.29.4)\n",
      "Requirement already satisfied: psutil==7.0.0 in /home/ucloud/.local/lib/python3.12/site-packages (from -r requirements.txt (line 50)) (7.0.0)\n",
      "Requirement already satisfied: ptyprocess==0.7.0 in /home/ucloud/.local/lib/python3.12/site-packages (from -r requirements.txt (line 51)) (0.7.0)\n",
      "Requirement already satisfied: pure_eval==0.2.3 in /home/ucloud/.local/lib/python3.12/site-packages (from -r requirements.txt (line 52)) (0.2.3)\n",
      "Requirement already satisfied: Pygments==2.19.1 in /home/ucloud/.local/lib/python3.12/site-packages (from -r requirements.txt (line 53)) (2.19.1)\n",
      "Requirement already satisfied: pyparsing==3.2.3 in /home/ucloud/.local/lib/python3.12/site-packages (from -r requirements.txt (line 54)) (3.2.3)\n",
      "Requirement already satisfied: python-dateutil==2.9.0.post0 in /home/ucloud/.local/lib/python3.12/site-packages (from -r requirements.txt (line 55)) (2.9.0.post0)\n",
      "Requirement already satisfied: pytz==2025.2 in /home/ucloud/.local/lib/python3.12/site-packages (from -r requirements.txt (line 56)) (2025.2)\n",
      "Requirement already satisfied: pyzmq==26.4.0 in /home/ucloud/.local/lib/python3.12/site-packages (from -r requirements.txt (line 57)) (26.4.0)\n",
      "Requirement already satisfied: requests==2.32.3 in /home/ucloud/.local/lib/python3.12/site-packages (from -r requirements.txt (line 58)) (2.32.3)\n",
      "Requirement already satisfied: rich==14.0.0 in /home/ucloud/.local/lib/python3.12/site-packages (from -r requirements.txt (line 59)) (14.0.0)\n",
      "Requirement already satisfied: scikit-learn==1.6.1 in /home/ucloud/.local/lib/python3.12/site-packages (from -r requirements.txt (line 60)) (1.6.1)\n",
      "Requirement already satisfied: scipy==1.15.3 in /home/ucloud/.local/lib/python3.12/site-packages (from -r requirements.txt (line 61)) (1.15.3)\n",
      "Requirement already satisfied: setuptools==80.4.0 in /home/ucloud/.local/lib/python3.12/site-packages (from -r requirements.txt (line 62)) (80.4.0)\n",
      "Requirement already satisfied: six==1.17.0 in /home/ucloud/.local/lib/python3.12/site-packages (from -r requirements.txt (line 63)) (1.17.0)\n",
      "Requirement already satisfied: stack-data==0.6.3 in /home/ucloud/.local/lib/python3.12/site-packages (from -r requirements.txt (line 64)) (0.6.3)\n",
      "Requirement already satisfied: tensorboard==2.19.0 in /home/ucloud/.local/lib/python3.12/site-packages (from -r requirements.txt (line 65)) (2.19.0)\n",
      "Requirement already satisfied: tensorboard-data-server==0.7.2 in /home/ucloud/.local/lib/python3.12/site-packages (from -r requirements.txt (line 66)) (0.7.2)\n",
      "Requirement already satisfied: tensorflow==2.19.0 in /home/ucloud/.local/lib/python3.12/site-packages (from -r requirements.txt (line 67)) (2.19.0)\n",
      "Requirement already satisfied: termcolor==3.1.0 in /home/ucloud/.local/lib/python3.12/site-packages (from -r requirements.txt (line 68)) (3.1.0)\n",
      "Requirement already satisfied: threadpoolctl==3.6.0 in /home/ucloud/.local/lib/python3.12/site-packages (from -r requirements.txt (line 69)) (3.6.0)\n",
      "Requirement already satisfied: tornado==6.4.2 in /home/ucloud/.local/lib/python3.12/site-packages (from -r requirements.txt (line 70)) (6.4.2)\n",
      "Requirement already satisfied: tqdm==4.67.1 in /home/ucloud/.local/lib/python3.12/site-packages (from -r requirements.txt (line 71)) (4.67.1)\n",
      "Requirement already satisfied: traitlets==5.14.3 in /home/ucloud/.local/lib/python3.12/site-packages (from -r requirements.txt (line 72)) (5.14.3)\n",
      "Requirement already satisfied: typing_extensions==4.13.2 in /home/ucloud/.local/lib/python3.12/site-packages (from -r requirements.txt (line 73)) (4.13.2)\n",
      "Requirement already satisfied: tzdata==2025.2 in /home/ucloud/.local/lib/python3.12/site-packages (from -r requirements.txt (line 74)) (2025.2)\n",
      "Requirement already satisfied: urllib3==2.4.0 in /home/ucloud/.local/lib/python3.12/site-packages (from -r requirements.txt (line 75)) (2.4.0)\n",
      "Requirement already satisfied: wcwidth==0.2.13 in /home/ucloud/.local/lib/python3.12/site-packages (from -r requirements.txt (line 76)) (0.2.13)\n",
      "Requirement already satisfied: Werkzeug==3.1.3 in /home/ucloud/.local/lib/python3.12/site-packages (from -r requirements.txt (line 77)) (3.1.3)\n",
      "Requirement already satisfied: wheel==0.45.1 in /home/ucloud/.local/lib/python3.12/site-packages (from -r requirements.txt (line 78)) (0.45.1)\n",
      "Requirement already satisfied: wrapt==1.17.2 in /home/ucloud/.local/lib/python3.12/site-packages (from -r requirements.txt (line 79)) (1.17.2)\n",
      "Using cached numpy-2.1.3-cp312-cp312-manylinux_2_17_x86_64.manylinux2014_x86_64.whl (16.0 MB)\n",
      "Installing collected packages: numpy\n",
      "  Attempting uninstall: numpy\n",
      "    Found existing installation: numpy 2.2.6\n",
      "    Uninstalling numpy-2.2.6:\n",
      "      Successfully uninstalled numpy-2.2.6\n",
      "Successfully installed numpy-2.1.3\n",
      "Defaulting to user installation because normal site-packages is not writeable\n",
      "Requirement already satisfied: matplotlib in /home/ucloud/.local/lib/python3.12/site-packages (3.10.1)\n",
      "Requirement already satisfied: opencv-python in /home/ucloud/.local/lib/python3.12/site-packages (4.11.0.86)\n",
      "Requirement already satisfied: pandas in /home/ucloud/.local/lib/python3.12/site-packages (2.2.3)\n",
      "Requirement already satisfied: scikit-learn in /home/ucloud/.local/lib/python3.12/site-packages (1.6.1)\n",
      "Requirement already satisfied: tensorflow in /home/ucloud/.local/lib/python3.12/site-packages (2.19.0)\n",
      "Requirement already satisfied: contourpy>=1.0.1 in /home/ucloud/.local/lib/python3.12/site-packages (from matplotlib) (1.3.2)\n",
      "Requirement already satisfied: cycler>=0.10 in /home/ucloud/.local/lib/python3.12/site-packages (from matplotlib) (0.12.1)\n",
      "Requirement already satisfied: fonttools>=4.22.0 in /home/ucloud/.local/lib/python3.12/site-packages (from matplotlib) (4.57.0)\n",
      "Requirement already satisfied: kiwisolver>=1.3.1 in /home/ucloud/.local/lib/python3.12/site-packages (from matplotlib) (1.4.8)\n",
      "Requirement already satisfied: numpy>=1.23 in /home/ucloud/.local/lib/python3.12/site-packages (from matplotlib) (2.1.3)\n",
      "Requirement already satisfied: packaging>=20.0 in /home/ucloud/.local/lib/python3.12/site-packages (from matplotlib) (25.0)\n",
      "Requirement already satisfied: pillow>=8 in /home/ucloud/.local/lib/python3.12/site-packages (from matplotlib) (11.2.1)\n",
      "Requirement already satisfied: pyparsing>=2.3.1 in /home/ucloud/.local/lib/python3.12/site-packages (from matplotlib) (3.2.3)\n",
      "Requirement already satisfied: python-dateutil>=2.7 in /home/ucloud/.local/lib/python3.12/site-packages (from matplotlib) (2.9.0.post0)\n",
      "Requirement already satisfied: pytz>=2020.1 in /home/ucloud/.local/lib/python3.12/site-packages (from pandas) (2025.2)\n",
      "Requirement already satisfied: tzdata>=2022.7 in /home/ucloud/.local/lib/python3.12/site-packages (from pandas) (2025.2)\n",
      "Requirement already satisfied: scipy>=1.6.0 in /home/ucloud/.local/lib/python3.12/site-packages (from scikit-learn) (1.15.3)\n",
      "Requirement already satisfied: joblib>=1.2.0 in /home/ucloud/.local/lib/python3.12/site-packages (from scikit-learn) (1.5.0)\n",
      "Requirement already satisfied: threadpoolctl>=3.1.0 in /home/ucloud/.local/lib/python3.12/site-packages (from scikit-learn) (3.6.0)\n",
      "Requirement already satisfied: absl-py>=1.0.0 in /home/ucloud/.local/lib/python3.12/site-packages (from tensorflow) (2.2.2)\n",
      "Requirement already satisfied: astunparse>=1.6.0 in /home/ucloud/.local/lib/python3.12/site-packages (from tensorflow) (1.6.3)\n",
      "Requirement already satisfied: flatbuffers>=24.3.25 in /home/ucloud/.local/lib/python3.12/site-packages (from tensorflow) (25.2.10)\n",
      "Requirement already satisfied: gast!=0.5.0,!=0.5.1,!=0.5.2,>=0.2.1 in /home/ucloud/.local/lib/python3.12/site-packages (from tensorflow) (0.6.0)\n",
      "Requirement already satisfied: google-pasta>=0.1.1 in /home/ucloud/.local/lib/python3.12/site-packages (from tensorflow) (0.2.0)\n",
      "Requirement already satisfied: libclang>=13.0.0 in /home/ucloud/.local/lib/python3.12/site-packages (from tensorflow) (18.1.1)\n",
      "Requirement already satisfied: opt-einsum>=2.3.2 in /home/ucloud/.local/lib/python3.12/site-packages (from tensorflow) (3.4.0)\n",
      "Requirement already satisfied: protobuf!=4.21.0,!=4.21.1,!=4.21.2,!=4.21.3,!=4.21.4,!=4.21.5,<6.0.0dev,>=3.20.3 in /home/ucloud/.local/lib/python3.12/site-packages (from tensorflow) (5.29.4)\n",
      "Requirement already satisfied: requests<3,>=2.21.0 in /home/ucloud/.local/lib/python3.12/site-packages (from tensorflow) (2.32.3)\n",
      "Requirement already satisfied: setuptools in /home/ucloud/.local/lib/python3.12/site-packages (from tensorflow) (80.4.0)\n",
      "Requirement already satisfied: six>=1.12.0 in /home/ucloud/.local/lib/python3.12/site-packages (from tensorflow) (1.17.0)\n",
      "Requirement already satisfied: termcolor>=1.1.0 in /home/ucloud/.local/lib/python3.12/site-packages (from tensorflow) (3.1.0)\n",
      "Requirement already satisfied: typing-extensions>=3.6.6 in /home/ucloud/.local/lib/python3.12/site-packages (from tensorflow) (4.13.2)\n",
      "Requirement already satisfied: wrapt>=1.11.0 in /home/ucloud/.local/lib/python3.12/site-packages (from tensorflow) (1.17.2)\n",
      "Requirement already satisfied: grpcio<2.0,>=1.24.3 in /home/ucloud/.local/lib/python3.12/site-packages (from tensorflow) (1.71.0)\n",
      "Requirement already satisfied: tensorboard~=2.19.0 in /home/ucloud/.local/lib/python3.12/site-packages (from tensorflow) (2.19.0)\n",
      "Requirement already satisfied: keras>=3.5.0 in /home/ucloud/.local/lib/python3.12/site-packages (from tensorflow) (3.9.2)\n",
      "Requirement already satisfied: h5py>=3.11.0 in /home/ucloud/.local/lib/python3.12/site-packages (from tensorflow) (3.13.0)\n",
      "Requirement already satisfied: ml-dtypes<1.0.0,>=0.5.1 in /home/ucloud/.local/lib/python3.12/site-packages (from tensorflow) (0.5.1)\n",
      "Requirement already satisfied: wheel<1.0,>=0.23.0 in /home/ucloud/.local/lib/python3.12/site-packages (from astunparse>=1.6.0->tensorflow) (0.45.1)\n",
      "Requirement already satisfied: rich in /home/ucloud/.local/lib/python3.12/site-packages (from keras>=3.5.0->tensorflow) (14.0.0)\n",
      "Requirement already satisfied: namex in /home/ucloud/.local/lib/python3.12/site-packages (from keras>=3.5.0->tensorflow) (0.0.9)\n",
      "Requirement already satisfied: optree in /home/ucloud/.local/lib/python3.12/site-packages (from keras>=3.5.0->tensorflow) (0.15.0)\n",
      "Requirement already satisfied: charset-normalizer<4,>=2 in /home/ucloud/.local/lib/python3.12/site-packages (from requests<3,>=2.21.0->tensorflow) (3.4.2)\n",
      "Requirement already satisfied: idna<4,>=2.5 in /home/ucloud/.local/lib/python3.12/site-packages (from requests<3,>=2.21.0->tensorflow) (3.10)\n",
      "Requirement already satisfied: urllib3<3,>=1.21.1 in /home/ucloud/.local/lib/python3.12/site-packages (from requests<3,>=2.21.0->tensorflow) (2.4.0)\n",
      "Requirement already satisfied: certifi>=2017.4.17 in /home/ucloud/.local/lib/python3.12/site-packages (from requests<3,>=2.21.0->tensorflow) (2025.4.26)\n",
      "Requirement already satisfied: markdown>=2.6.8 in /home/ucloud/.local/lib/python3.12/site-packages (from tensorboard~=2.19.0->tensorflow) (3.8)\n",
      "Requirement already satisfied: tensorboard-data-server<0.8.0,>=0.7.0 in /home/ucloud/.local/lib/python3.12/site-packages (from tensorboard~=2.19.0->tensorflow) (0.7.2)\n",
      "Requirement already satisfied: werkzeug>=1.0.1 in /home/ucloud/.local/lib/python3.12/site-packages (from tensorboard~=2.19.0->tensorflow) (3.1.3)\n",
      "Requirement already satisfied: MarkupSafe>=2.1.1 in /home/ucloud/.local/lib/python3.12/site-packages (from werkzeug>=1.0.1->tensorboard~=2.19.0->tensorflow) (3.0.2)\n",
      "Requirement already satisfied: markdown-it-py>=2.2.0 in /home/ucloud/.local/lib/python3.12/site-packages (from rich->keras>=3.5.0->tensorflow) (3.0.0)\n",
      "Requirement already satisfied: pygments<3.0.0,>=2.13.0 in /home/ucloud/.local/lib/python3.12/site-packages (from rich->keras>=3.5.0->tensorflow) (2.19.1)\n",
      "Requirement already satisfied: mdurl~=0.1 in /home/ucloud/.local/lib/python3.12/site-packages (from markdown-it-py>=2.2.0->rich->keras>=3.5.0->tensorflow) (0.1.2)\n",
      "Defaulting to user installation because normal site-packages is not writeable\n",
      "Collecting numpy==1.26.4\n",
      "  Using cached numpy-1.26.4-cp312-cp312-manylinux_2_17_x86_64.manylinux2014_x86_64.whl.metadata (61 kB)\n",
      "Using cached numpy-1.26.4-cp312-cp312-manylinux_2_17_x86_64.manylinux2014_x86_64.whl (18.0 MB)\n",
      "Installing collected packages: numpy\n",
      "  Attempting uninstall: numpy\n",
      "    Found existing installation: numpy 2.1.3\n",
      "    Uninstalling numpy-2.1.3:\n",
      "      Successfully uninstalled numpy-2.1.3\n",
      "Successfully installed numpy-1.26.4\n",
      "Defaulting to user installation because normal site-packages is not writeable\n",
      "Requirement already satisfied: editdistance in /home/ucloud/.local/lib/python3.12/site-packages (0.8.1)\n",
      "Defaulting to user installation because normal site-packages is not writeable\n",
      "Collecting scipy\n",
      "  Downloading scipy-1.15.3-cp312-cp312-manylinux_2_17_x86_64.manylinux2014_x86_64.whl.metadata (61 kB)\n",
      "Collecting numpy<2.5,>=1.23.5 (from scipy)\n",
      "  Downloading numpy-2.2.6-cp312-cp312-manylinux_2_17_x86_64.manylinux2014_x86_64.whl.metadata (62 kB)\n",
      "Downloading scipy-1.15.3-cp312-cp312-manylinux_2_17_x86_64.manylinux2014_x86_64.whl (37.3 MB)\n",
      "\u001b[2K   \u001b[90m━━━━━━━━━━━━━━━━━━━━━━━━━━━━━━━━━━━━━━━━\u001b[0m \u001b[32m37.3/37.3 MB\u001b[0m \u001b[31m38.9 MB/s\u001b[0m eta \u001b[36m0:00:00\u001b[0ma \u001b[36m0:00:01\u001b[0m\n",
      "\u001b[?25hDownloading numpy-2.2.6-cp312-cp312-manylinux_2_17_x86_64.manylinux2014_x86_64.whl (16.5 MB)\n",
      "\u001b[2K   \u001b[90m━━━━━━━━━━━━━━━━━━━━━━━━━━━━━━━━━━━━━━━━\u001b[0m \u001b[32m16.5/16.5 MB\u001b[0m \u001b[31m160.8 MB/s\u001b[0m eta \u001b[36m0:00:00\u001b[0m\n",
      "\u001b[?25hInstalling collected packages: numpy, scipy\n",
      "  Attempting uninstall: numpy\n",
      "    Found existing installation: numpy 1.26.4\n",
      "    Uninstalling numpy-1.26.4:\n",
      "      Successfully uninstalled numpy-1.26.4\n",
      "  Attempting uninstall: scipy\n",
      "    Found existing installation: scipy 1.15.3\n",
      "    Uninstalling scipy-1.15.3:\n",
      "      Successfully uninstalled scipy-1.15.3\n",
      "\u001b[31mERROR: pip's dependency resolver does not currently take into account all the packages that are installed. This behaviour is the source of the following dependency conflicts.\n",
      "tensorflow 2.19.0 requires numpy<2.2.0,>=1.26.0, but you have numpy 2.2.6 which is incompatible.\u001b[0m\u001b[31m\n",
      "\u001b[0mSuccessfully installed numpy-2.2.6 scipy-1.15.3\n",
      "Defaulting to user installation because normal site-packages is not writeable\n",
      "Collecting scikit-learn\n",
      "  Downloading scikit_learn-1.6.1-cp312-cp312-manylinux_2_17_x86_64.manylinux2014_x86_64.whl.metadata (18 kB)\n",
      "Collecting numpy>=1.19.5 (from scikit-learn)\n",
      "  Downloading numpy-2.2.6-cp312-cp312-manylinux_2_17_x86_64.manylinux2014_x86_64.whl.metadata (62 kB)\n",
      "Collecting scipy>=1.6.0 (from scikit-learn)\n",
      "  Downloading scipy-1.15.3-cp312-cp312-manylinux_2_17_x86_64.manylinux2014_x86_64.whl.metadata (61 kB)\n",
      "Collecting joblib>=1.2.0 (from scikit-learn)\n",
      "  Downloading joblib-1.5.0-py3-none-any.whl.metadata (5.6 kB)\n",
      "Collecting threadpoolctl>=3.1.0 (from scikit-learn)\n",
      "  Downloading threadpoolctl-3.6.0-py3-none-any.whl.metadata (13 kB)\n",
      "Downloading scikit_learn-1.6.1-cp312-cp312-manylinux_2_17_x86_64.manylinux2014_x86_64.whl (13.1 MB)\n",
      "\u001b[2K   \u001b[90m━━━━━━━━━━━━━━━━━━━━━━━━━━━━━━━━━━━━━━━━\u001b[0m \u001b[32m13.1/13.1 MB\u001b[0m \u001b[31m140.1 MB/s\u001b[0m eta \u001b[36m0:00:00\u001b[0m\n",
      "\u001b[?25hDownloading joblib-1.5.0-py3-none-any.whl (307 kB)\n",
      "Downloading numpy-2.2.6-cp312-cp312-manylinux_2_17_x86_64.manylinux2014_x86_64.whl (16.5 MB)\n",
      "\u001b[2K   \u001b[90m━━━━━━━━━━━━━━━━━━━━━━━━━━━━━━━━━━━━━━━━\u001b[0m \u001b[32m16.5/16.5 MB\u001b[0m \u001b[31m200.4 MB/s\u001b[0m eta \u001b[36m0:00:00\u001b[0m\n",
      "\u001b[?25hDownloading scipy-1.15.3-cp312-cp312-manylinux_2_17_x86_64.manylinux2014_x86_64.whl (37.3 MB)\n",
      "\u001b[2K   \u001b[90m━━━━━━━━━━━━━━━━━━━━━━━━━━━━━━━━━━━━━━━━\u001b[0m \u001b[32m37.3/37.3 MB\u001b[0m \u001b[31m197.3 MB/s\u001b[0m eta \u001b[36m0:00:00\u001b[0m\n",
      "\u001b[?25hDownloading threadpoolctl-3.6.0-py3-none-any.whl (18 kB)\n",
      "Installing collected packages: threadpoolctl, numpy, joblib, scipy, scikit-learn\n",
      "  Attempting uninstall: threadpoolctl\n",
      "    Found existing installation: threadpoolctl 3.6.0\n",
      "    Uninstalling threadpoolctl-3.6.0:\n",
      "      Successfully uninstalled threadpoolctl-3.6.0\n",
      "  Attempting uninstall: numpy\n",
      "    Found existing installation: numpy 2.2.6\n",
      "    Uninstalling numpy-2.2.6:\n",
      "      Successfully uninstalled numpy-2.2.6\n",
      "  Attempting uninstall: joblib\n",
      "    Found existing installation: joblib 1.5.0\n",
      "    Uninstalling joblib-1.5.0:\n",
      "      Successfully uninstalled joblib-1.5.0\n",
      "  Attempting uninstall: scipy\n",
      "    Found existing installation: scipy 1.15.3\n",
      "    Uninstalling scipy-1.15.3:\n",
      "      Successfully uninstalled scipy-1.15.3\n",
      "  Attempting uninstall: scikit-learn\n",
      "    Found existing installation: scikit-learn 1.6.1\n",
      "    Uninstalling scikit-learn-1.6.1:\n",
      "      Successfully uninstalled scikit-learn-1.6.1\n",
      "\u001b[31mERROR: pip's dependency resolver does not currently take into account all the packages that are installed. This behaviour is the source of the following dependency conflicts.\n",
      "tensorflow 2.19.0 requires numpy<2.2.0,>=1.26.0, but you have numpy 2.2.6 which is incompatible.\u001b[0m\u001b[31m\n",
      "\u001b[0mSuccessfully installed joblib-1.5.0 numpy-2.2.6 scikit-learn-1.6.1 scipy-1.15.3 threadpoolctl-3.6.0\n"
     ]
    }
   ],
   "source": [
    "!pip install -r requirements.txt\n",
    "!pip install matplotlib opencv-python pandas scikit-learn tensorflow\n",
    "!pip install numpy==1.26.4 --force-reinstall\n",
    "!pip install editdistance\n",
    "\n",
    "# scipy\n",
    "!pip install --upgrade --force-reinstall --no-cache-dir scipy\n",
    "!pip install --upgrade --force-reinstall --no-cache-dir scikit-learn\n"
   ]
  },
  {
   "cell_type": "code",
   "execution_count": 47,
   "id": "5db0c496",
   "metadata": {},
   "outputs": [
    {
     "name": "stdout",
     "output_type": "stream",
     "text": [
      "Hit:1 http://security.ubuntu.com/ubuntu noble-security InRelease\n",
      "Hit:2 http://archive.ubuntu.com/ubuntu noble InRelease\n",
      "Hit:3 http://archive.ubuntu.com/ubuntu noble-updates InRelease\n",
      "Hit:4 http://archive.ubuntu.com/ubuntu noble-backports InRelease\n",
      "Reading package lists... Done\n",
      "Reading package lists... Done\n",
      "Building dependency tree... Done\n",
      "Reading state information... Done\n",
      "Calculating upgrade... Done\n",
      "0 upgraded, 0 newly installed, 0 to remove and 0 not upgraded.\n",
      "Reading package lists... Done\n",
      "Building dependency tree... Done\n",
      "Reading state information... Done\n",
      "libgl1 is already the newest version (1.7.0-1build1).\n",
      "0 upgraded, 0 newly installed, 0 to remove and 0 not upgraded.\n"
     ]
    }
   ],
   "source": [
    "!sudo apt-get update \n",
    "!sudo apt-get -y upgrade\n",
    "!sudo apt-get install -y libgl1"
   ]
  },
  {
   "cell_type": "code",
   "execution_count": 48,
   "id": "325a8a0d",
   "metadata": {},
   "outputs": [],
   "source": [
    "import os\n",
    "import numpy as np\n",
    "import matplotlib.pyplot as plt\n",
    "import cv2\n",
    "import pandas as pd\n",
    "from sklearn.model_selection import train_test_split\n",
    "from editdistance import eval as edit_distance  \n",
    "\n",
    "import tensorflow as tf\n",
    "from tensorflow import keras\n",
    "from tensorflow.keras import models, layers\n",
    "from tensorflow.keras.preprocessing.sequence import pad_sequences\n",
    "from tensorflow.keras.utils import to_categorical\n",
    "from tensorflow.keras.models import load_model\n",
    "from tensorflow.keras.backend import ctc_decode\n",
    "\n"
   ]
  },
  {
   "cell_type": "markdown",
   "id": "96ec81f6",
   "metadata": {},
   "source": [
    "---\n",
    "## Loading the data\n",
    "Data has to load out of the 'carolianminuscule-groundtruth'-folder "
   ]
  },
  {
   "cell_type": "code",
   "execution_count": 49,
   "id": "70206626",
   "metadata": {},
   "outputs": [],
   "source": [
    "def get_images(folder_path: str):\n",
    "    \"\"\"\n",
    "    Load images and text files from the given path.\n",
    "    :param folder_path: Path to the directory containing images and text files.\n",
    "    :return: Two lists - one for image paths and one for text file paths.\n",
    "    \"\"\"\n",
    "    if not os.path.exists(folder_path):\n",
    "        raise FileNotFoundError(f\"Path {folder_path} does not exist.\")\n",
    "\n",
    "    images = []\n",
    "    files = []\n",
    "\n",
    "    for entry in os.listdir(folder_path):\n",
    "        entry_path = os.path.join(folder_path, entry)\n",
    "        if os.path.isdir(entry_path):\n",
    "            # Recursively get images and text files from subdirectories\n",
    "            sub_images, sub_files = get_images(entry_path)\n",
    "            images.extend(sub_images)\n",
    "            files.extend(sub_files)\n",
    "        elif entry.endswith(\".png\"):\n",
    "            images.append(entry_path)\n",
    "        elif entry.endswith(\".txt\"):\n",
    "            files.append(entry_path)\n",
    "\n",
    "    return images, files\n",
    "\n",
    "\n",
    "# load the data from the directory\n",
    "path = \"carolineminuscule-groundtruth\"\n",
    "images, files = get_images(path)\n",
    "\n",
    "\n",
    "# matched the .png- and .txt-file in a folder together\n",
    "matched_list_path = [\n",
    "    [img, file]\n",
    "    for img in images\n",
    "    for file in files\n",
    "    if os.path.dirname(img) == os.path.dirname(file)\n",
    "    and os.path.splitext(os.path.splitext(os.path.basename(img))[0])[0]\n",
    "    == os.path.splitext(os.path.splitext(os.path.basename(file))[0])[0]\n",
    "]\n"
   ]
  },
  {
   "cell_type": "code",
   "execution_count": 50,
   "id": "f715ff21",
   "metadata": {},
   "outputs": [
    {
     "name": "stdout",
     "output_type": "stream",
     "text": [
      "len matched: 429\n",
      "matched_list:\n",
      " ['carolineminuscule-groundtruth/bsb00054504/0016/010018.bin.png', 'carolineminuscule-groundtruth/bsb00054504/0016/010018.gt.txt']\n"
     ]
    }
   ],
   "source": [
    "print(f\"len matched: {len(matched_list_path)}\")\n",
    "print(f\"matched_list:\\n {matched_list_path[1]}\")"
   ]
  },
  {
   "cell_type": "markdown",
   "id": "48e60f70",
   "metadata": {},
   "source": [
    "---\n",
    "## Creating the Dataset"
   ]
  },
  {
   "cell_type": "code",
   "execution_count": 51,
   "id": "8877200c",
   "metadata": {},
   "outputs": [],
   "source": [
    "# define a dataframe to store the image, image paths and their corresponding text files\n",
    "df = pd.DataFrame(columns=[\"name\", \"image\", \"transcription\"])\n",
    "\n",
    "for i, (img_path, file_path) in enumerate(matched_list_path):\n",
    "    # read the image\n",
    "    img = cv2.imread(img_path, cv2.IMREAD_UNCHANGED)\n",
    "    img = np.array(img)\n",
    "    # add the image to the dataframe, set \"none\" here to add transcription later\n",
    "    df.loc[i] = [os.path.basename(img_path), img, None]\n",
    "    # read the text file\n",
    "    with open(file_path, \"r\") as f:\n",
    "        # read the transcription\n",
    "        transcription = f.read()\n",
    "    # add the transcription to the dataframe\n",
    "    df.loc[i, \"transcription\"] = transcription"
   ]
  },
  {
   "cell_type": "code",
   "execution_count": 52,
   "id": "4f1c8f39",
   "metadata": {},
   "outputs": [
    {
     "data": {
      "text/html": [
       "<div>\n",
       "<style scoped>\n",
       "    .dataframe tbody tr th:only-of-type {\n",
       "        vertical-align: middle;\n",
       "    }\n",
       "\n",
       "    .dataframe tbody tr th {\n",
       "        vertical-align: top;\n",
       "    }\n",
       "\n",
       "    .dataframe thead th {\n",
       "        text-align: right;\n",
       "    }\n",
       "</style>\n",
       "<table border=\"1\" class=\"dataframe\">\n",
       "  <thead>\n",
       "    <tr style=\"text-align: right;\">\n",
       "      <th></th>\n",
       "      <th>name</th>\n",
       "      <th>image</th>\n",
       "      <th>transcription</th>\n",
       "    </tr>\n",
       "  </thead>\n",
       "  <tbody>\n",
       "    <tr>\n",
       "      <th>0</th>\n",
       "      <td>010017.bin.png</td>\n",
       "      <td>[[255, 255, 255, 255, 255, 255, 255, 255, 255,...</td>\n",
       "      <td>tato more aduenientes repedaret amortuis . Et ...</td>\n",
       "    </tr>\n",
       "    <tr>\n",
       "      <th>1</th>\n",
       "      <td>010018.bin.png</td>\n",
       "      <td>[[255, 255, 255, 255, 255, 255, 255, 255, 255,...</td>\n",
       "      <td>iret unde descenderat atq; indm* rediret '? De...</td>\n",
       "    </tr>\n",
       "    <tr>\n",
       "      <th>2</th>\n",
       "      <td>010016.bin.png</td>\n",
       "      <td>[[255, 255, 255, 255, 255, 255, 255, 255, 255,...</td>\n",
       "      <td>Sedet mortis modũ quo dehacuita disce deret ? ...</td>\n",
       "    </tr>\n",
       "    <tr>\n",
       "      <th>3</th>\n",
       "      <td>010008.bin.png</td>\n",
       "      <td>[[255, 255, 255, 255, 255, 255, 255, 255, 255,...</td>\n",
       "      <td>tuti prudentioris docilis humana mens et socia...</td>\n",
       "    </tr>\n",
       "    <tr>\n",
       "      <th>4</th>\n",
       "      <td>010003.bin.png</td>\n",
       "      <td>[[255, 255, 255, 255, 255, 255, 255, 255, 255,...</td>\n",
       "      <td>ora precepta atq; honestatis etiustite conscia...</td>\n",
       "    </tr>\n",
       "  </tbody>\n",
       "</table>\n",
       "</div>"
      ],
      "text/plain": [
       "             name                                              image  \\\n",
       "0  010017.bin.png  [[255, 255, 255, 255, 255, 255, 255, 255, 255,...   \n",
       "1  010018.bin.png  [[255, 255, 255, 255, 255, 255, 255, 255, 255,...   \n",
       "2  010016.bin.png  [[255, 255, 255, 255, 255, 255, 255, 255, 255,...   \n",
       "3  010008.bin.png  [[255, 255, 255, 255, 255, 255, 255, 255, 255,...   \n",
       "4  010003.bin.png  [[255, 255, 255, 255, 255, 255, 255, 255, 255,...   \n",
       "\n",
       "                                       transcription  \n",
       "0  tato more aduenientes repedaret amortuis . Et ...  \n",
       "1  iret unde descenderat atq; indm* rediret '? De...  \n",
       "2  Sedet mortis modũ quo dehacuita disce deret ? ...  \n",
       "3  tuti prudentioris docilis humana mens et socia...  \n",
       "4  ora precepta atq; honestatis etiustite conscia...  "
      ]
     },
     "execution_count": 52,
     "metadata": {},
     "output_type": "execute_result"
    }
   ],
   "source": [
    "# delete all the linebrakes in the transcription\n",
    "df[\"transcription\"] = df[\"transcription\"].str.replace(\"\\n\", \"\", regex=False)\n",
    "df.head(5)"
   ]
  },
  {
   "cell_type": "markdown",
   "id": "f47d708f",
   "metadata": {},
   "source": [
    "For now it appear that the images only have \"255\" as values, i.e. white. That's why im checking for other values. But the edges of the images are all white, therefore this is the exspected behaviour."
   ]
  },
  {
   "cell_type": "code",
   "execution_count": 53,
   "id": "ecfc47fb",
   "metadata": {},
   "outputs": [
    {
     "name": "stdout",
     "output_type": "stream",
     "text": [
      "Rows  in 'image' with values other than 255: 429\n"
     ]
    }
   ],
   "source": [
    "non_255_values = df['image'].apply(lambda img: np.any(img != 255))\n",
    "print(f\"Rows  in 'image' with values other than 255: {non_255_values.sum()}\")"
   ]
  },
  {
   "cell_type": "markdown",
   "id": "95fb1435",
   "metadata": {},
   "source": [
    "---\n",
    "## Preparing the data"
   ]
  },
  {
   "cell_type": "markdown",
   "id": "549cb64f",
   "metadata": {},
   "source": [
    "By calculating the maximum and avg. number of the height we can use that value later in our CNN."
   ]
  },
  {
   "cell_type": "code",
   "execution_count": 54,
   "id": "4dcdfc48",
   "metadata": {},
   "outputs": [
    {
     "name": "stdout",
     "output_type": "stream",
     "text": [
      "Maximum height of an image: 263\n",
      "Average height of an image: 140\n",
      "Maximum length of an image: 3058\n",
      "Average length of an image: 1938\n"
     ]
    }
   ],
   "source": [
    "# Calculate the maximum and average length of the lists in the 'image' column\n",
    "image_heigth = df['image'].apply(lambda img: img.shape[0])  # Get the height of each image array\n",
    "max_length = image_heigth.max()\n",
    "avg_length = image_heigth.mean()\n",
    "\n",
    "print(f\"Maximum height of an image: {max_length}\")\n",
    "print(f\"Average height of an image: {int(avg_length)}\")\n",
    "\n",
    "\n",
    "# Calculate the maximum and average length of the lists in the 'image' column\n",
    "image_lengths = df['image'].apply(lambda img: img.shape[1])  # Get the height of each image array\n",
    "max_length = image_lengths.max()\n",
    "avg_length = image_lengths.mean()\n",
    "\n",
    "print(f\"Maximum length of an image: {int(max_length)}\")\n",
    "print(f\"Average length of an image: {int(avg_length)}\")"
   ]
  },
  {
   "cell_type": "markdown",
   "id": "832590ff",
   "metadata": {},
   "source": [
    "Getting the number of unique character, servs here more as an exploration into the the datas.\n",
    "We stand at a pathway here: Either we manually map each of the 83 characters by hand to the according representative in the images or, use the CNN-RNN architecture. Which does not need manual character mapping, but is harder to train."
   ]
  },
  {
   "cell_type": "code",
   "execution_count": 55,
   "id": "ca3c9713",
   "metadata": {},
   "outputs": [],
   "source": [
    "# Features (images) and labels (transcriptions)\n",
    "X = df[\"image\"].values  # Images as NumPy arrays\n",
    "y = df[\"transcription\"].values  # Transcriptions as strings"
   ]
  },
  {
   "cell_type": "code",
   "execution_count": 56,
   "id": "556ff1f4",
   "metadata": {},
   "outputs": [
    {
     "name": "stdout",
     "output_type": "stream",
     "text": [
      "X shape: (429, 256, 1024), dtype: float32\n"
     ]
    }
   ],
   "source": [
    "# # Convert images to NumPy arrays and normalize\n",
    "X = np.array(\n",
    "    [cv2.resize(img, (1024, 256)) for img in df[\"image\"]], dtype=np.float32\n",
    ")  # Resize and convert to float32\n",
    "\n",
    "print(f\"X shape: {X.shape}, dtype: {X.dtype}\")"
   ]
  },
  {
   "cell_type": "code",
   "execution_count": 57,
   "id": "306d89d7",
   "metadata": {},
   "outputs": [
    {
     "name": "stdout",
     "output_type": "stream",
     "text": [
      "Max length:\t\t 70\n",
      "Mean length:\t\t 46\n",
      "Median length:\t\t 48\n"
     ]
    }
   ],
   "source": [
    "# find the length of the transcription\n",
    "# aplly different measures\n",
    "\n",
    "transcription_lengths = df[\"transcription\"].apply(len)\n",
    "print(f\"Max length:\\t\\t {int(transcription_lengths.max())}\")\n",
    "print(f\"Mean length:\\t\\t {int(transcription_lengths.mean())}\")\n",
    "print(f\"Median length:\\t\\t {int(transcription_lengths.median())}\")"
   ]
  },
  {
   "cell_type": "code",
   "execution_count": 58,
   "id": "acbf4ec9",
   "metadata": {},
   "outputs": [
    {
     "name": "stdout",
     "output_type": "stream",
     "text": [
      "y shape: (429, 256), dtype: int32\n",
      "y_train shape: (343, 256), dtype: int32\n"
     ]
    }
   ],
   "source": [
    "# Convert transcriptions to sequences of integers\n",
    "label_sequences = [\n",
    "    [char_to_index[char] for char in transcription]\n",
    "    for transcription in df[\"transcription\"]\n",
    "]\n",
    "\n",
    "# Pad sequences to a fixed length (use a value outside the valid character indices, like num_classes - 1 for blank)\n",
    "max_sequence_length = 256\n",
    "padded_labels = pad_sequences(\n",
    "    label_sequences, maxlen=max_sequence_length, padding=\"post\", value=num_classes - 1\n",
    ")\n",
    "\n",
    "# y should be the padded integer sequences\n",
    "y = np.array(padded_labels, dtype=np.int32) # Use int32 for labels\n",
    "\n",
    "print(f\"y shape: {y.shape}, dtype: {y.dtype}\")\n",
    "\n",
    "# Split data (y will now be integer sequences)\n",
    "X_train, X_test, y_train, y_test = train_test_split(\n",
    "    X, y, test_size=0.2, random_state=42\n",
    ")\n",
    "\n",
    "print(f\"y_train shape: {y_train.shape}, dtype: {y_train.dtype}\")"
   ]
  },
  {
   "cell_type": "code",
   "execution_count": 59,
   "id": "319becdc",
   "metadata": {},
   "outputs": [],
   "source": [
    "X_train, X_test, y_train, y_test = train_test_split(\n",
    "    X, y, test_size=0.2, random_state=42\n",
    ")\n",
    "\n",
    "num_classes = len(charset) + 1  # Number of unique characters"
   ]
  },
  {
   "cell_type": "code",
   "execution_count": 60,
   "id": "56fbdc78",
   "metadata": {},
   "outputs": [
    {
     "name": "stdout",
     "output_type": "stream",
     "text": [
      "X_train shape: (343, 256, 1024), dtype: float32\n",
      "y_train shape: (343, 256), dtype: int32\n"
     ]
    }
   ],
   "source": [
    "print(f\"X_train shape: {X_train.shape}, dtype: {X_train.dtype}\")\n",
    "print(f\"y_train shape: {y_train.shape}, dtype: {y_train.dtype}\")"
   ]
  },
  {
   "cell_type": "markdown",
   "id": "12f322fa",
   "metadata": {},
   "source": [
    "---\n",
    "## Data visualisation\n",
    "Below I want to gain a better understanding of our datapoints"
   ]
  },
  {
   "cell_type": "code",
   "execution_count": 61,
   "id": "486a2991",
   "metadata": {},
   "outputs": [
    {
     "data": {
      "image/png": "[encoded data removed]",
      "text/plain": [
       "<Figure size 640x480 with 1 Axes>"
      ]
     },
     "metadata": {},
     "output_type": "display_data"
    }
   ],
   "source": [
    "plt.imshow(X_train[10], cmap=\"gray\", vmin=0, vmax=255)\n",
    "plt.title(\"Sample Image from Training Set\")\n",
    "plt.show()"
   ]
  },
  {
   "cell_type": "code",
   "execution_count": 62,
   "id": "c078c925",
   "metadata": {},
   "outputs": [
    {
     "name": "stdout",
     "output_type": "stream",
     "text": [
      "First entry in y_train:\n",
      "[27 36 46 50 40 49 50 47  5  0 14 36 40 43 35 36  0 43 44 48  0 46 50 40\n",
      " 50 40 50 40 42 50 48  0 46 50 40  0 47 36 41 40 43 46 50 40 42 50 48 83\n",
      " 83 83 83 83 83 83 83 83 83 83 83 83 83 83 83 83 83 83 83 83 83 83 83 83\n",
      " 83 83 83 83 83 83 83 83 83 83 83 83 83 83 83 83 83 83 83 83 83 83 83 83\n",
      " 83 83 83 83 83 83 83 83 83 83 83 83 83 83 83 83 83 83 83 83 83 83 83 83\n",
      " 83 83 83 83 83 83 83 83 83 83 83 83 83 83 83 83 83 83 83 83 83 83 83 83\n",
      " 83 83 83 83 83 83 83 83 83 83 83 83 83 83 83 83 83 83 83 83 83 83 83 83\n",
      " 83 83 83 83 83 83 83 83 83 83 83 83 83 83 83 83 83 83 83 83 83 83 83 83\n",
      " 83 83 83 83 83 83 83 83 83 83 83 83 83 83 83 83 83 83 83 83 83 83 83 83\n",
      " 83 83 83 83 83 83 83 83 83 83 83 83 83 83 83 83 83 83 83 83 83 83 83 83\n",
      " 83 83 83 83 83 83 83 83 83 83 83 83 83 83 83 83]\n"
     ]
    }
   ],
   "source": [
    "print(\"First entry in y_train:\")\n",
    "print(y_train[10])"
   ]
  },
  {
   "cell_type": "markdown",
   "id": "551685d5",
   "metadata": {},
   "source": [
    "---\n",
    "The 'cnn_rnn'-model is comprised of an\n",
    "- input layer\n",
    "  - where images are read into with 64px, None and one channel\n",
    "- A convolutional layer which is building 64, 3x3-filters\n",
    "- Maxpooling to reduce parametersize"
   ]
  },
  {
   "cell_type": "code",
   "execution_count": 63,
   "id": "f5fe5092",
   "metadata": {},
   "outputs": [
    {
     "name": "stderr",
     "output_type": "stream",
     "text": [
      "/home/ucloud/.local/lib/python3.12/site-packages/keras/src/layers/convolutional/base_conv.py:107: UserWarning: Do not pass an `input_shape`/`input_dim` argument to a layer. When using Sequential models, prefer using an `Input(shape)` object as the first layer in the model instead.\n",
      "  super().__init__(activity_regularizer=activity_regularizer, **kwargs)\n"
     ]
    }
   ],
   "source": [
    "cnn_rnn = models.Sequential(\n",
    "    [\n",
    "        # CNN layers\n",
    "        layers.Conv2D(\n",
    "            64, (3, 3), padding=\"same\", activation=\"relu\", input_shape=(256, 1024, 1)\n",
    "        ),\n",
    "        layers.MaxPooling2D(pool_size=(2, 2)),  # → (128, 512, 64)\n",
    "        layers.Conv2D(128, (3, 3), padding=\"same\", activation=\"relu\"),\n",
    "        layers.MaxPooling2D(pool_size=(2, 2)),  # → (64, 256, 128)\n",
    "        # Reshape for RNN\n",
    "        layers.Reshape(target_shape=(256, 64 * 128)),  # → (batch, 256, 8192)\n",
    "        # RNN layers\n",
    "        layers.Bidirectional(layers.LSTM(256, return_sequences=True)),\n",
    "        layers.Bidirectional(layers.LSTM(256, return_sequences=True)),\n",
    "        # Output layer\n",
    "        layers.Dense(num_classes, activation=\"softmax\")  # Use softmax for probabilities\n",
    "    ]\n",
    ")\n",
    "\n",
    "def ctc_loss(y_true, y_pred):\n",
    "    input_length = tf.ones(shape=(tf.shape(y_pred)[0],), dtype=tf.int32) * tf.shape(y_pred)[1]\n",
    "    label_length = tf.ones(shape=(tf.shape(y_true)[0],), dtype=tf.int32) * tf.shape(y_true)[1]\n",
    "    return tf.keras.backend.ctc_batch_cost(y_true, y_pred, input_length, label_length)\n",
    "\n",
    "\n",
    "\n",
    "cnn_rnn.compile(optimizer=\"adam\", loss=ctc_loss)\n",
    "\n",
    "#cnn_rnn.summary()\n"
   ]
  },
  {
   "cell_type": "code",
   "execution_count": 64,
   "id": "7ad05303",
   "metadata": {},
   "outputs": [
    {
     "name": "stdout",
     "output_type": "stream",
     "text": [
      "Epoch 1/10\n"
     ]
    },
    {
     "ename": "IndexError",
     "evalue": "tuple index out of range",
     "output_type": "error",
     "traceback": [
      "\u001b[31m---------------------------------------------------------------------------\u001b[39m",
      "\u001b[31mIndexError\u001b[39m                                Traceback (most recent call last)",
      "\u001b[36mCell\u001b[39m\u001b[36m \u001b[39m\u001b[32mIn[64]\u001b[39m\u001b[32m, line 3\u001b[39m\n\u001b[32m      1\u001b[39m \u001b[38;5;66;03m#! Commented out to avoid running the model training\u001b[39;00m\n\u001b[32m      2\u001b[39m \u001b[38;5;66;03m# # Fit the model\u001b[39;00m\n\u001b[32m----> \u001b[39m\u001b[32m3\u001b[39m \u001b[43mcnn_rnn\u001b[49m\u001b[43m.\u001b[49m\u001b[43mfit\u001b[49m\u001b[43m(\u001b[49m\n\u001b[32m      4\u001b[39m \u001b[43m    \u001b[49m\u001b[43mX_train\u001b[49m\u001b[43m,\u001b[49m\n\u001b[32m      5\u001b[39m \u001b[43m    \u001b[49m\u001b[43my_train\u001b[49m\u001b[43m,\u001b[49m\n\u001b[32m      6\u001b[39m \u001b[43m    \u001b[49m\u001b[43mepochs\u001b[49m\u001b[43m=\u001b[49m\u001b[32;43m10\u001b[39;49m\u001b[43m,\u001b[49m\n\u001b[32m      7\u001b[39m \u001b[43m    \u001b[49m\u001b[43mvalidation_data\u001b[49m\u001b[43m=\u001b[49m\u001b[43m(\u001b[49m\u001b[43mX_test\u001b[49m\u001b[43m,\u001b[49m\u001b[43m \u001b[49m\u001b[43my_test\u001b[49m\u001b[43m)\u001b[49m\u001b[43m,\u001b[49m\n\u001b[32m      8\u001b[39m \u001b[43m)\u001b[49m\n",
      "\u001b[36mFile \u001b[39m\u001b[32m~/.local/lib/python3.12/site-packages/keras/src/utils/traceback_utils.py:122\u001b[39m, in \u001b[36mfilter_traceback.<locals>.error_handler\u001b[39m\u001b[34m(*args, **kwargs)\u001b[39m\n\u001b[32m    119\u001b[39m     filtered_tb = _process_traceback_frames(e.__traceback__)\n\u001b[32m    120\u001b[39m     \u001b[38;5;66;03m# To get the full stack trace, call:\u001b[39;00m\n\u001b[32m    121\u001b[39m     \u001b[38;5;66;03m# `keras.config.disable_traceback_filtering()`\u001b[39;00m\n\u001b[32m--> \u001b[39m\u001b[32m122\u001b[39m     \u001b[38;5;28;01mraise\u001b[39;00m e.with_traceback(filtered_tb) \u001b[38;5;28;01mfrom\u001b[39;00m\u001b[38;5;250m \u001b[39m\u001b[38;5;28;01mNone\u001b[39;00m\n\u001b[32m    123\u001b[39m \u001b[38;5;28;01mfinally\u001b[39;00m:\n\u001b[32m    124\u001b[39m     \u001b[38;5;28;01mdel\u001b[39;00m filtered_tb\n",
      "\u001b[36mCell\u001b[39m\u001b[36m \u001b[39m\u001b[32mIn[63]\u001b[39m\u001b[32m, line 23\u001b[39m, in \u001b[36mctc_loss\u001b[39m\u001b[34m(y_true, y_pred)\u001b[39m\n\u001b[32m     21\u001b[39m input_length = tf.ones(shape=(tf.shape(y_pred)[\u001b[32m0\u001b[39m],), dtype=tf.int32) * tf.shape(y_pred)[\u001b[32m1\u001b[39m]\n\u001b[32m     22\u001b[39m label_length = tf.ones(shape=(tf.shape(y_true)[\u001b[32m0\u001b[39m],), dtype=tf.int32) * tf.shape(y_true)[\u001b[32m1\u001b[39m]\n\u001b[32m---> \u001b[39m\u001b[32m23\u001b[39m \u001b[38;5;28;01mreturn\u001b[39;00m \u001b[43mtf\u001b[49m\u001b[43m.\u001b[49m\u001b[43mkeras\u001b[49m\u001b[43m.\u001b[49m\u001b[43mbackend\u001b[49m\u001b[43m.\u001b[49m\u001b[43mctc_batch_cost\u001b[49m\u001b[43m(\u001b[49m\u001b[43my_true\u001b[49m\u001b[43m,\u001b[49m\u001b[43m \u001b[49m\u001b[43my_pred\u001b[49m\u001b[43m,\u001b[49m\u001b[43m \u001b[49m\u001b[43minput_length\u001b[49m\u001b[43m,\u001b[49m\u001b[43m \u001b[49m\u001b[43mlabel_length\u001b[49m\u001b[43m)\u001b[49m\n",
      "\u001b[31mIndexError\u001b[39m: tuple index out of range"
     ]
    }
   ],
   "source": [
    "#! Commented out to avoid running the model training\n",
    "# # Fit the model\n",
    "cnn_rnn.fit(\n",
    "    X_train,\n",
    "    y_train,\n",
    "    epochs=10,\n",
    "    validation_data=(X_test, y_test),\n",
    ")"
   ]
  },
  {
   "cell_type": "code",
   "execution_count": null,
   "id": "ee2b5686",
   "metadata": {},
   "outputs": [
    {
     "name": "stdout",
     "output_type": "stream",
     "text": [
      "\u001b[1m3/3\u001b[0m \u001b[32m━━━━━━━━━━━━━━━━━━━━\u001b[0m\u001b[37m\u001b[0m \u001b[1m6s\u001b[0m 2s/step\n",
      "Character Error Rate (CER): 131.66%\n"
     ]
    }
   ],
   "source": [
    "# Vorhersagen erzeugen\n",
    "y_pred = cnn_rnn.predict(X_test)  # Shape: (batch_size, time_steps, num_classes)\n",
    "\n",
    "# Greedy decoding\n",
    "decoded, _ = ctc_decode(y_pred, input_length=np.ones(y_pred.shape[0]) * y_pred.shape[1])\n",
    "\n",
    "\n",
    "# In Text umwandeln\n",
    "def decode_to_text(seq):\n",
    "    return \"\".join(index_to_char.get(i, \"\") for i in seq if i < len(index_to_char))\n",
    "\n",
    "\n",
    "y_pred_texts = [decode_to_text(seq.numpy()) for seq in decoded[0]]\n",
    "y_true_texts = [\n",
    "    \"\".join(\n",
    "        [index_to_char[i] for i in np.argmax(label, axis=1) if i < len(index_to_char)]\n",
    "    )\n",
    "    for label in y_test\n",
    "]\n",
    "\n",
    "# Character Error Rate (CER)\n",
    "total_chars = sum(len(t) for t in y_true_texts)\n",
    "total_errors = sum(edit_distance(p, t) for p, t in zip(y_pred_texts, y_true_texts))\n",
    "cer = total_errors / total_chars\n",
    "print(f\"Character Error Rate (CER): {cer:.2%}\")"
   ]
  },
  {
   "cell_type": "code",
   "execution_count": null,
   "id": "2dc01f4c",
   "metadata": {},
   "outputs": [
    {
     "ename": "FileNotFoundError",
     "evalue": "[Errno 2] No such file or directory: './Run_models/CNN_RNN_model.keras'",
     "output_type": "error",
     "traceback": [
      "\u001b[31m---------------------------------------------------------------------------\u001b[39m",
      "\u001b[31mFileNotFoundError\u001b[39m                         Traceback (most recent call last)",
      "\u001b[36mCell\u001b[39m\u001b[36m \u001b[39m\u001b[32mIn[22]\u001b[39m\u001b[32m, line 1\u001b[39m\n\u001b[32m----> \u001b[39m\u001b[32m1\u001b[39m \u001b[43mcnn_rnn\u001b[49m\u001b[43m.\u001b[49m\u001b[43msave\u001b[49m\u001b[43m(\u001b[49m\u001b[33;43m\"\u001b[39;49m\u001b[33;43m./Run_models/CNN_RNN_model.keras\u001b[39;49m\u001b[33;43m\"\u001b[39;49m\u001b[43m)\u001b[49m\n",
      "\u001b[36mFile \u001b[39m\u001b[32m~/.local/lib/python3.12/site-packages/keras/src/utils/traceback_utils.py:122\u001b[39m, in \u001b[36mfilter_traceback.<locals>.error_handler\u001b[39m\u001b[34m(*args, **kwargs)\u001b[39m\n\u001b[32m    119\u001b[39m     filtered_tb = _process_traceback_frames(e.__traceback__)\n\u001b[32m    120\u001b[39m     \u001b[38;5;66;03m# To get the full stack trace, call:\u001b[39;00m\n\u001b[32m    121\u001b[39m     \u001b[38;5;66;03m# `keras.config.disable_traceback_filtering()`\u001b[39;00m\n\u001b[32m--> \u001b[39m\u001b[32m122\u001b[39m     \u001b[38;5;28;01mraise\u001b[39;00m e.with_traceback(filtered_tb) \u001b[38;5;28;01mfrom\u001b[39;00m\u001b[38;5;250m \u001b[39m\u001b[38;5;28;01mNone\u001b[39;00m\n\u001b[32m    123\u001b[39m \u001b[38;5;28;01mfinally\u001b[39;00m:\n\u001b[32m    124\u001b[39m     \u001b[38;5;28;01mdel\u001b[39;00m filtered_tb\n",
      "\u001b[36mFile \u001b[39m\u001b[32m~/.local/lib/python3.12/site-packages/keras/src/saving/saving_lib.py:143\u001b[39m, in \u001b[36msave_model\u001b[39m\u001b[34m(model, filepath, weights_format, zipped)\u001b[39m\n\u001b[32m    141\u001b[39m         f.write(zip_filepath.getvalue())\n\u001b[32m    142\u001b[39m \u001b[38;5;28;01melse\u001b[39;00m:\n\u001b[32m--> \u001b[39m\u001b[32m143\u001b[39m     \u001b[38;5;28;01mwith\u001b[39;00m \u001b[38;5;28;43mopen\u001b[39;49m\u001b[43m(\u001b[49m\u001b[43mfilepath\u001b[49m\u001b[43m,\u001b[49m\u001b[43m \u001b[49m\u001b[33;43m\"\u001b[39;49m\u001b[33;43mwb\u001b[39;49m\u001b[33;43m\"\u001b[39;49m\u001b[43m)\u001b[49m \u001b[38;5;28;01mas\u001b[39;00m f:\n\u001b[32m    144\u001b[39m         _save_model_to_fileobj(model, f, weights_format)\n",
      "\u001b[31mFileNotFoundError\u001b[39m: [Errno 2] No such file or directory: './Run_models/CNN_RNN_model.keras'"
     ]
    }
   ],
   "source": [
    "cnn_rnn.save(\"./Run_models/CNN_RNN_model.keras\")"
   ]
  },
  {
   "cell_type": "code",
   "execution_count": null,
   "id": "2b5421a2",
   "metadata": {},
   "outputs": [],
   "source": [
    "# # Load the model\n",
    "# loaded_model = load_model(\"Run_models/20250519/20250519_CNN_RNN_model/\")\n",
    "# loaded_model.summary()\n",
    "\n",
    "\n",
    "# # Select an image from the test set\n",
    "# sample_image = X_test[0]\n",
    "\n",
    "# # Reshape the image to match the input shape of the model\n",
    "# sample_image_reshaped = sample_image.reshape(1, 256, 1024, 1)\n",
    "\n",
    "# # Get the model's prediction\n",
    "# prediction = loaded_model.predict(sample_image_reshaped)\n",
    "\n",
    "# decoded_sequences, _ = tf.keras.backend.ctc_decode(\n",
    "#     prediction, input_length=np.ones(prediction.shape[0]) * prediction.shape[1]\n",
    "# )\n",
    "# predicted_text = \"\".join(\n",
    "#     index_to_char[idx]\n",
    "#     for idx in decoded_sequences[0][0].numpy()\n",
    "#     if idx < num_classes - 1\n",
    "# )\n",
    "\n",
    "# # Decode the prediction\n",
    "# predicted_sequence = np.argmax(prediction, axis=-1)[0]\n",
    "# predicted_text = \"\".join(\n",
    "#     index_to_char[idx] for idx in predicted_sequence if idx < num_classes - 1\n",
    "# )\n",
    "\n",
    "# print(\"Predicted transcription:\")\n",
    "# print(predicted_text)"
   ]
  }
 ],
 "metadata": {
  "kernelspec": {
   "display_name": "Python 3",
   "language": "python",
   "name": "python3"
  },
  "language_info": {
   "codemirror_mode": {
    "name": "ipython",
    "version": 3
   },
   "file_extension": ".py",
   "mimetype": "text/x-python",
   "name": "python",
   "nbconvert_exporter": "python",
   "pygments_lexer": "ipython3",
   "version": "3.12.3"
  }
 },
 "nbformat": 4,
 "nbformat_minor": 5
}
