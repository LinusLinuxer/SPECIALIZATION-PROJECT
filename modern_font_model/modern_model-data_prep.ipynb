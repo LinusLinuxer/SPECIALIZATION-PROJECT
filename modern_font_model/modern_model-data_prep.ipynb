{
 "cells": [
  {
   "cell_type": "markdown",
   "id": "b80d019b",
   "metadata": {},
   "source": [
    "# Debugging model\n",
    "---"
   ]
  },
  {
   "cell_type": "code",
   "execution_count": null,
   "id": "8b15265d",
   "metadata": {},
   "outputs": [
    {
     "ename": "ImportError",
     "evalue": "cannot import name 'textsize' from 'PIL' (/home/linus/Dokumente/1_Universitaet/10_SoSe_25/SPECIALIZATION-PROEJECT/.venv/lib/python3.12/site-packages/PIL/__init__.py)",
     "output_type": "error",
     "traceback": [
      "\u001b[31m---------------------------------------------------------------------------\u001b[39m",
      "\u001b[31mImportError\u001b[39m                               Traceback (most recent call last)",
      "\u001b[36mCell\u001b[39m\u001b[36m \u001b[39m\u001b[32mIn[13]\u001b[39m\u001b[32m, line 4\u001b[39m\n\u001b[32m      2\u001b[39m \u001b[38;5;28;01mimport\u001b[39;00m\u001b[38;5;250m \u001b[39m\u001b[34;01mtime\u001b[39;00m\n\u001b[32m      3\u001b[39m \u001b[38;5;28;01mimport\u001b[39;00m\u001b[38;5;250m \u001b[39m\u001b[34;01mos\u001b[39;00m\n\u001b[32m----> \u001b[39m\u001b[32m4\u001b[39m \u001b[38;5;28;01mfrom\u001b[39;00m\u001b[38;5;250m \u001b[39m\u001b[34;01mPIL\u001b[39;00m\u001b[38;5;250m \u001b[39m\u001b[38;5;28;01mimport\u001b[39;00m Image, ImageDraw, ImageFont, textsize\n",
      "\u001b[31mImportError\u001b[39m: cannot import name 'textsize' from 'PIL' (/home/linus/Dokumente/1_Universitaet/10_SoSe_25/SPECIALIZATION-PROEJECT/.venv/lib/python3.12/site-packages/PIL/__init__.py)"
     ]
    }
   ],
   "source": [
    "import requests\n",
    "import time\n",
    "import os\n",
    "from PIL import Image, ImageDraw, ImageFont\n"
   ]
  },
  {
   "cell_type": "markdown",
   "id": "699c89f2",
   "metadata": {},
   "source": [
    "---\n",
    "## Importing / Modifying the data"
   ]
  },
  {
   "cell_type": "code",
   "execution_count": 3,
   "id": "72589ef4",
   "metadata": {},
   "outputs": [],
   "source": [
    "# We import all \"all quiet on the western front\" text from Project Gutenberg\n",
    "url = \"https://www.gutenberg.org/cache/epub/75011/pg75011.txt\"\n",
    "text = requests.get(url).text\n",
    "\n",
    "with open(\"all_quiet_on_the_western_front.txt\", \"w\", encoding=\"utf-8\") as file:\n",
    "    file.write(text)\n"
   ]
  },
  {
   "cell_type": "code",
   "execution_count": 4,
   "id": "ec38426f",
   "metadata": {},
   "outputs": [
    {
     "name": "stdout",
     "output_type": "stream",
     "text": [
      "The text is 368551 characters long.\n",
      "Text: ﻿The Project Gutenberg eBook of All quiet on the Western Front\n",
      "    \n",
      "This ebook is for the use of a...\n"
     ]
    }
   ],
   "source": [
    "print(\"The text is {} characters long.\".format(len(text)))\n",
    "print(f\"Text: {text[:100]}...\")"
   ]
  },
  {
   "cell_type": "code",
   "execution_count": 5,
   "id": "8941aa28",
   "metadata": {},
   "outputs": [],
   "source": [
    "\n",
    "with open(\"all_quiet_on_the_western_front.txt\", \"r\", encoding=\"utf-8\") as file:\n",
    "    working_txt = file.read()\n",
    "    # remove line breaks\n",
    "    working_txt = working_txt.replace(\"\\n\", \" \")\n",
    "    # remove multiple spaces\n",
    "    working_txt = \" \".join(working_txt.split())\n",
    "    "
   ]
  },
  {
   "cell_type": "code",
   "execution_count": 6,
   "id": "e48069aa",
   "metadata": {},
   "outputs": [
    {
     "data": {
      "text/plain": [
       "'\\ufeffThe Project Gutenberg eBook of All quiet on the Western Front This ebook is for the use of anyone a'"
      ]
     },
     "execution_count": 6,
     "metadata": {},
     "output_type": "execute_result"
    }
   ],
   "source": [
    "working_txt[:100]"
   ]
  },
  {
   "cell_type": "markdown",
   "id": "df5b77ee",
   "metadata": {},
   "source": [
    "---\n",
    "## Prepare Images\n",
    "Create images of equal character length and put them into a directory.\n",
    "By doing that we create images with an corresponding .txt-file. "
   ]
  },
  {
   "cell_type": "code",
   "execution_count": 7,
   "id": "ae81e326",
   "metadata": {},
   "outputs": [
    {
     "name": "stdout",
     "output_type": "stream",
     "text": [
      "The text is 368551 characters long.\n"
     ]
    }
   ],
   "source": [
    "print(\"The text is {} characters long.\".format(len(text)))"
   ]
  },
  {
   "cell_type": "code",
   "execution_count": 19,
   "id": "d5807dba",
   "metadata": {},
   "outputs": [
    {
     "name": "stdout",
     "output_type": "stream",
     "text": [
      "Formatted text saved to 'formatted_all_quiet_on_the_western_front.txt'.\n",
      "Content:\n",
      "﻿The Project Gutenberg eBook of All quiet on the W\n",
      "estern Front This ebook is for the use of anyone ...\n"
     ]
    }
   ],
   "source": [
    "#insert a line break every 50 characters\n",
    "def insert_line_breaks(text, line_length=50):\n",
    "    return \"\\n\".join(text[i:i + line_length] for i in range(0, len(text), line_length))\n",
    "\n",
    "formatted_text = insert_line_breaks(working_txt, 50)\n",
    "with open(\"formatted_all_quiet_on_the_western_front.txt\", \"w\", encoding=\"utf-8\") as file:\n",
    "    file.write(formatted_text)\n",
    "print(\"Formatted text saved to 'formatted_all_quiet_on_the_western_front.txt'.\")\n",
    "print(f\"Content:\\n{formatted_text[:100]}...\")\n"
   ]
  },
  {
   "cell_type": "code",
   "execution_count": null,
   "id": "e1836ac1",
   "metadata": {},
   "outputs": [],
   "source": [
    "# create a folder in current directory called \"all_quiet_on_the_western_front\"\n",
    "if not os.path.exists(\"dataset\"):\n",
    "    os.makedirs(\"dataset\")"
   ]
  },
  {
   "cell_type": "code",
   "execution_count": null,
   "id": "cab8da6a",
   "metadata": {},
   "outputs": [],
   "source": [
    "\n",
    "# Create an image\n",
    "img = Image.new('RGB', (3000, 256), color='white')\n",
    "draw = ImageDraw.Draw(img)\n",
    "font = ImageFont.truetype(\"DejaVuSans-Bold.ttf\", 80) \n",
    "text = \"The Project Gutenberg eBook of All quiet on the W\"\n",
    "\n",
    "# Get text size\n",
    "bbox = draw.textbbox((0, 0), text, font=font)\n",
    "text_width, text_height = bbox[2] - bbox[0], bbox[3] - bbox[1]\n",
    "\n",
    "# Calculate centered position\n",
    "x = (img.width - text_width) // 2\n",
    "y = (img.height - text_height) // 2\n",
    "\n",
    "# Draw the text\n",
    "draw.text((x, y), text, font=font, fill='black')\n",
    "\n",
    "# Save the image\n",
    "img.save('output.png')\n"
   ]
  },
  {
   "cell_type": "code",
   "execution_count": null,
   "id": "d6fa681e",
   "metadata": {},
   "outputs": [],
   "source": []
  }
 ],
 "metadata": {
  "kernelspec": {
   "display_name": ".venv",
   "language": "python",
   "name": "python3"
  },
  "language_info": {
   "codemirror_mode": {
    "name": "ipython",
    "version": 3
   },
   "file_extension": ".py",
   "mimetype": "text/x-python",
   "name": "python",
   "nbconvert_exporter": "python",
   "pygments_lexer": "ipython3",
   "version": "3.12.3"
  }
 },
 "nbformat": 4,
 "nbformat_minor": 5
}
