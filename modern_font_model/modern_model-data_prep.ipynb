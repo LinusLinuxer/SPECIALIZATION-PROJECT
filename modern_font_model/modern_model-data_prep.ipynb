{
 "cells": [
  {
   "cell_type": "markdown",
   "id": "b80d019b",
   "metadata": {},
   "source": [
    "# Debugging model\n",
    "---"
   ]
  },
  {
   "cell_type": "code",
   "execution_count": 9,
   "id": "8b15265d",
   "metadata": {},
   "outputs": [],
   "source": [
    "import requests\n",
    "import datetime\n",
    "import os\n",
    "from PIL import Image, ImageDraw, ImageFont\n"
   ]
  },
  {
   "cell_type": "markdown",
   "id": "699c89f2",
   "metadata": {},
   "source": [
    "---\n",
    "## Importing / Modifying the data"
   ]
  },
  {
   "cell_type": "code",
   "execution_count": 10,
   "id": "72589ef4",
   "metadata": {},
   "outputs": [],
   "source": [
    "# We import all \"all quiet on the western front\" text from Project Gutenberg\n",
    "url = \"https://www.gutenberg.org/cache/epub/75011/pg75011.txt\"\n",
    "text = requests.get(url).text\n",
    "\n",
    "with open(\"all_quiet_on_the_western_front.txt\", \"w\", encoding=\"utf-8\") as file:\n",
    "    file.write(text)\n"
   ]
  },
  {
   "cell_type": "code",
   "execution_count": 11,
   "id": "ec38426f",
   "metadata": {},
   "outputs": [
    {
     "name": "stdout",
     "output_type": "stream",
     "text": [
      "The text is 368551 characters long.\n",
      "Text: ﻿The Project Gutenberg eBook of All quiet on the Western Front\n",
      "    \n",
      "This ebook is for the use of a...\n"
     ]
    }
   ],
   "source": [
    "print(\"The text is {} characters long.\".format(len(text)))\n",
    "print(f\"Text: {text[:100]}...\")"
   ]
  },
  {
   "cell_type": "code",
   "execution_count": 12,
   "id": "8941aa28",
   "metadata": {},
   "outputs": [],
   "source": [
    "\n",
    "with open(\"all_quiet_on_the_western_front.txt\", \"r\", encoding=\"utf-8\") as file:\n",
    "    working_txt = file.read()\n",
    "    # remove line breaks\n",
    "    working_txt = working_txt.replace(\"\\n\", \" \")\n",
    "    # remove multiple spaces\n",
    "    working_txt = \" \".join(working_txt.split())\n",
    "    "
   ]
  },
  {
   "cell_type": "code",
   "execution_count": 13,
   "id": "e48069aa",
   "metadata": {},
   "outputs": [
    {
     "data": {
      "text/plain": [
       "'\\ufeffThe Project Gutenberg eBook of All quiet on the Western Front This ebook is for the use of anyone a'"
      ]
     },
     "execution_count": 13,
     "metadata": {},
     "output_type": "execute_result"
    }
   ],
   "source": [
    "working_txt[:100]"
   ]
  },
  {
   "cell_type": "markdown",
   "id": "df5b77ee",
   "metadata": {},
   "source": [
    "---\n",
    "## Prepare Images\n",
    "Create images of equal character length and put them into a directory.\n",
    "By doing that we create images with an corresponding .txt-file. "
   ]
  },
  {
   "cell_type": "code",
   "execution_count": 14,
   "id": "ae81e326",
   "metadata": {},
   "outputs": [
    {
     "name": "stdout",
     "output_type": "stream",
     "text": [
      "The text is 368551 characters long.\n"
     ]
    }
   ],
   "source": [
    "print(\"The text is {} characters long.\".format(len(text)))"
   ]
  },
  {
   "cell_type": "code",
   "execution_count": 15,
   "id": "d5807dba",
   "metadata": {},
   "outputs": [
    {
     "name": "stdout",
     "output_type": "stream",
     "text": [
      "Formatted text saved to 'formatted_all_quiet_on_the_western_front.txt'.\n",
      "Content:\n",
      "﻿The Project Gutenberg eBook of All quiet on the W\n",
      "estern Front This ebook is for the use of anyone ...\n",
      "number of rows: 7109\n"
     ]
    }
   ],
   "source": [
    "#insert a line break every 50 characters\n",
    "def insert_line_breaks(text, line_length=50):\n",
    "    return \"\\n\".join(text[i:i + line_length] for i in range(0, len(text), line_length))\n",
    "\n",
    "formatted_text = insert_line_breaks(working_txt, 50)\n",
    "with open(\"formatted_all_quiet_on_the_western_front.txt\", \"w\", encoding=\"utf-8\") as file:\n",
    "    file.write(formatted_text)\n",
    "print(\"Formatted text saved to 'formatted_all_quiet_on_the_western_front.txt'.\")\n",
    "print(f\"Content:\\n{formatted_text[:100]}...\")\n",
    "print(f\"number of rows: {formatted_text.count('\\n') + 1}\")\n"
   ]
  },
  {
   "cell_type": "markdown",
   "id": "858837af",
   "metadata": {},
   "source": [
    "---\n",
    "## Create the dataset"
   ]
  },
  {
   "cell_type": "code",
   "execution_count": null,
   "id": "57fd5a82",
   "metadata": {},
   "outputs": [],
   "source": [
    "# Parameters\n",
    "output_dir = \"dataset\"\n",
    "font_path = \"DejaVuSans-Bold.ttf\"\n",
    "font_size = 60\n",
    "img_width = 2048\n",
    "img_height = 256\n",
    "text_color = \"black\"\n",
    "\n",
    "# Read and clean lines from file\n",
    "with open(\"formatted_all_quiet_on_the_western_front.txt\", \"r\", encoding=\"utf-8\") as f:\n",
    "    lines = [line.strip() for line in f if line.strip()]\n",
    "\n",
    "# Ensure output directory exists\n",
    "os.makedirs(output_dir, exist_ok=True)\n",
    "\n",
    "font = ImageFont.truetype(font_path, font_size)\n",
    "\n",
    "for idx, line in enumerate(lines):\n",
    "    # Create a new image\n",
    "    img = Image.new('RGB', (img_width, img_height), color='white')\n",
    "    draw = ImageDraw.Draw(img)\n",
    "\n",
    "    # Get bounding box for text\n",
    "    bbox = draw.textbbox((0, 0), line, font=font)\n",
    "    text_width, text_height = bbox[2] - bbox[0], bbox[3] - bbox[1]\n",
    "\n",
    "    # Calculate centered position\n",
    "    x = (img_width - text_width) // 2\n",
    "    y = (img_height - text_height) // 2\n",
    "\n",
    "    # Draw centered text\n",
    "    draw.text((x, y), line, font=font, fill=text_color)\n",
    "\n",
    "    # Generate unique name\n",
    "    timestamp = datetime.datetime.now().strftime(\"%Y%m%d_%H%M%S_%f\")\n",
    "    base_name = f\"{timestamp}_{idx}\"\n",
    "\n",
    "    # Save image and text\n",
    "    img.save(os.path.join(output_dir, f\"{base_name}.png\"))\n",
    "    with open(os.path.join(output_dir, f\"{base_name}.txt\"), \"w\", encoding=\"utf-8\") as f:\n",
    "        f.write(line)\n",
    "\n",
    "    # Optional: comment this out if you want all lines processed\n",
    "    #break  # Remove this line to process all lines\n"
   ]
  },
  {
   "cell_type": "code",
   "execution_count": null,
   "id": "62404699",
   "metadata": {},
   "outputs": [],
   "source": []
  }
 ],
 "metadata": {
  "kernelspec": {
   "display_name": "Python 3",
   "language": "python",
   "name": "python3"
  },
  "language_info": {
   "codemirror_mode": {
    "name": "ipython",
    "version": 3
   },
   "file_extension": ".py",
   "mimetype": "text/x-python",
   "name": "python",
   "nbconvert_exporter": "python",
   "pygments_lexer": "ipython3",
   "version": "3.12.3"
  }
 },
 "nbformat": 4,
 "nbformat_minor": 5
}
