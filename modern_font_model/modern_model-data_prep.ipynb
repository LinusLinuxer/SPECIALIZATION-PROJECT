{
 "cells": [
  {
   "cell_type": "markdown",
   "id": "b80d019b",
   "metadata": {},
   "source": [
    "# Debugging model\n",
    "---"
   ]
  },
  {
   "cell_type": "code",
   "execution_count": 52,
   "id": "6fd5b4e0",
   "metadata": {},
   "outputs": [
    {
     "name": "stdout",
     "output_type": "stream",
     "text": [
      "Requirement already satisfied: requests in /home/linus/Dokumente/1_Universitaet/10_SoSe_25/SPECIALIZATION-PROJECT/venv/lib/python3.12/site-packages (2.32.3)\n",
      "Requirement already satisfied: charset-normalizer<4,>=2 in /home/linus/Dokumente/1_Universitaet/10_SoSe_25/SPECIALIZATION-PROJECT/venv/lib/python3.12/site-packages (from requests) (3.4.2)\n",
      "Requirement already satisfied: idna<4,>=2.5 in /home/linus/Dokumente/1_Universitaet/10_SoSe_25/SPECIALIZATION-PROJECT/venv/lib/python3.12/site-packages (from requests) (3.10)\n",
      "Requirement already satisfied: urllib3<3,>=1.21.1 in /home/linus/Dokumente/1_Universitaet/10_SoSe_25/SPECIALIZATION-PROJECT/venv/lib/python3.12/site-packages (from requests) (2.4.0)\n",
      "Requirement already satisfied: certifi>=2017.4.17 in /home/linus/Dokumente/1_Universitaet/10_SoSe_25/SPECIALIZATION-PROJECT/venv/lib/python3.12/site-packages (from requests) (2025.4.26)\n",
      "Requirement already satisfied: tqdm in /home/linus/Dokumente/1_Universitaet/10_SoSe_25/SPECIALIZATION-PROJECT/venv/lib/python3.12/site-packages (4.67.1)\n",
      "Requirement already satisfied: Pillow in /home/linus/Dokumente/1_Universitaet/10_SoSe_25/SPECIALIZATION-PROJECT/venv/lib/python3.12/site-packages (11.2.1)\n",
      "Requirement already satisfied: matplotlib in /home/linus/Dokumente/1_Universitaet/10_SoSe_25/SPECIALIZATION-PROJECT/venv/lib/python3.12/site-packages (3.10.3)\n",
      "Requirement already satisfied: contourpy>=1.0.1 in /home/linus/Dokumente/1_Universitaet/10_SoSe_25/SPECIALIZATION-PROJECT/venv/lib/python3.12/site-packages (from matplotlib) (1.3.2)\n",
      "Requirement already satisfied: cycler>=0.10 in /home/linus/Dokumente/1_Universitaet/10_SoSe_25/SPECIALIZATION-PROJECT/venv/lib/python3.12/site-packages (from matplotlib) (0.12.1)\n",
      "Requirement already satisfied: fonttools>=4.22.0 in /home/linus/Dokumente/1_Universitaet/10_SoSe_25/SPECIALIZATION-PROJECT/venv/lib/python3.12/site-packages (from matplotlib) (4.58.0)\n",
      "Requirement already satisfied: kiwisolver>=1.3.1 in /home/linus/Dokumente/1_Universitaet/10_SoSe_25/SPECIALIZATION-PROJECT/venv/lib/python3.12/site-packages (from matplotlib) (1.4.8)\n",
      "Requirement already satisfied: numpy>=1.23 in /home/linus/Dokumente/1_Universitaet/10_SoSe_25/SPECIALIZATION-PROJECT/venv/lib/python3.12/site-packages (from matplotlib) (2.2.6)\n",
      "Requirement already satisfied: packaging>=20.0 in /home/linus/Dokumente/1_Universitaet/10_SoSe_25/SPECIALIZATION-PROJECT/venv/lib/python3.12/site-packages (from matplotlib) (25.0)\n",
      "Requirement already satisfied: pillow>=8 in /home/linus/Dokumente/1_Universitaet/10_SoSe_25/SPECIALIZATION-PROJECT/venv/lib/python3.12/site-packages (from matplotlib) (11.2.1)\n",
      "Requirement already satisfied: pyparsing>=2.3.1 in /home/linus/Dokumente/1_Universitaet/10_SoSe_25/SPECIALIZATION-PROJECT/venv/lib/python3.12/site-packages (from matplotlib) (3.2.3)\n",
      "Requirement already satisfied: python-dateutil>=2.7 in /home/linus/Dokumente/1_Universitaet/10_SoSe_25/SPECIALIZATION-PROJECT/venv/lib/python3.12/site-packages (from matplotlib) (2.9.0.post0)\n",
      "Requirement already satisfied: six>=1.5 in /home/linus/Dokumente/1_Universitaet/10_SoSe_25/SPECIALIZATION-PROJECT/venv/lib/python3.12/site-packages (from python-dateutil>=2.7->matplotlib) (1.17.0)\n"
     ]
    }
   ],
   "source": [
    "!pip install requests\n",
    "!pip install tqdm\n",
    "!pip install Pillow\n",
    "!pip install matplotlib"
   ]
  },
  {
   "cell_type": "code",
   "execution_count": 53,
   "id": "8b15265d",
   "metadata": {},
   "outputs": [],
   "source": [
    "import requests\n",
    "import datetime\n",
    "import os\n",
    "from PIL import Image, ImageDraw, ImageFont\n",
    "from tqdm import tqdm\n",
    "from matplotlib import pyplot as plt\n"
   ]
  },
  {
   "cell_type": "markdown",
   "id": "699c89f2",
   "metadata": {},
   "source": [
    "---\n",
    "## Importing / Modifying the data"
   ]
  },
  {
   "cell_type": "code",
   "execution_count": 54,
   "id": "72589ef4",
   "metadata": {},
   "outputs": [],
   "source": [
    "# We import all \"all quiet on the western front\" text from Project Gutenberg\n",
    "url = \"https://www.gutenberg.org/cache/epub/75011/pg75011.txt\"\n",
    "text = requests.get(url).text\n",
    "\n",
    "with open(\"all_quiet_on_the_western_front.txt\", \"w\", encoding=\"utf-8\") as file:\n",
    "    file.write(text)\n"
   ]
  },
  {
   "cell_type": "code",
   "execution_count": 55,
   "id": "ec38426f",
   "metadata": {},
   "outputs": [
    {
     "name": "stdout",
     "output_type": "stream",
     "text": [
      "The text is 368551 characters long.\n",
      "Text: ﻿The Project Gutenberg eBook of All quiet on the Western Front\n",
      "    \n",
      "This ebook is for the use of a...\n"
     ]
    }
   ],
   "source": [
    "print(\"The text is {} characters long.\".format(len(text)))\n",
    "print(f\"Text: {text[:100]}...\")"
   ]
  },
  {
   "cell_type": "code",
   "execution_count": 56,
   "id": "8941aa28",
   "metadata": {},
   "outputs": [],
   "source": [
    "\n",
    "with open(\"all_quiet_on_the_western_front.txt\", \"r\", encoding=\"utf-8\") as file:\n",
    "    working_txt = file.read()\n",
    "    # remove line breaks\n",
    "    working_txt = working_txt.replace(\"\\n\", \" \")\n",
    "    # remove multiple spaces\n",
    "    working_txt = \" \".join(working_txt.split())\n",
    "    "
   ]
  },
  {
   "cell_type": "code",
   "execution_count": 57,
   "id": "e48069aa",
   "metadata": {},
   "outputs": [
    {
     "data": {
      "text/plain": [
       "'\\ufeffThe Project Gutenberg eBook of All quiet on the Western Front This ebook is for the use of anyone a'"
      ]
     },
     "execution_count": 57,
     "metadata": {},
     "output_type": "execute_result"
    }
   ],
   "source": [
    "working_txt[:100]"
   ]
  },
  {
   "cell_type": "markdown",
   "id": "df5b77ee",
   "metadata": {},
   "source": [
    "---\n",
    "## Prepare Images\n",
    "Create images of equal character length and put them into a directory.\n",
    "By doing that we create images with an corresponding .txt-file. "
   ]
  },
  {
   "cell_type": "code",
   "execution_count": 58,
   "id": "ae81e326",
   "metadata": {},
   "outputs": [
    {
     "name": "stdout",
     "output_type": "stream",
     "text": [
      "The text is 368551 characters long.\n"
     ]
    }
   ],
   "source": [
    "print(\"The text is {} characters long.\".format(len(text)))"
   ]
  },
  {
   "cell_type": "code",
   "execution_count": 59,
   "id": "d5807dba",
   "metadata": {},
   "outputs": [
    {
     "name": "stdout",
     "output_type": "stream",
     "text": [
      "Formatted text saved to 'formatted_all_quiet_on_the_western_front.txt'.\n",
      "Content:\n",
      "﻿The Project Gu\n",
      "tenberg eBook o\n",
      "f All quiet on \n",
      "the Western Fro\n",
      "nt This ebook i\n",
      "s for the use o\n",
      "f an...\n",
      "number of rows: 23696\n"
     ]
    }
   ],
   "source": [
    "#insert a line break every X characters\n",
    "def insert_line_breaks(text, line_length=15):\n",
    "    return \"\\n\".join(text[i:i + line_length] for i in range(0, len(text), line_length))\n",
    "\n",
    "formatted_text = insert_line_breaks(working_txt, 15)\n",
    "with open(\"formatted_all_quiet_on_the_western_front.txt\", \"w\", encoding=\"utf-8\") as file:\n",
    "    file.write(formatted_text)\n",
    "print(\"Formatted text saved to 'formatted_all_quiet_on_the_western_front.txt'.\")\n",
    "print(f\"Content:\\n{formatted_text[:100]}...\")\n",
    "print(f\"number of rows: {formatted_text.count('\\n') + 1}\")\n"
   ]
  },
  {
   "cell_type": "markdown",
   "id": "858837af",
   "metadata": {},
   "source": [
    "---\n",
    "## Create the dataset"
   ]
  },
  {
   "cell_type": "code",
   "execution_count": 62,
   "id": "57fd5a82",
   "metadata": {},
   "outputs": [
    {
     "name": "stderr",
     "output_type": "stream",
     "text": [
      "Generating images:   0%|          | 0/23696 [00:00<?, ?it/s]"
     ]
    },
    {
     "name": "stderr",
     "output_type": "stream",
     "text": [
      "Generating images: 100%|██████████| 23696/23696 [08:39<00:00, 45.58it/s]\n"
     ]
    }
   ],
   "source": [
    "# Parameters\n",
    "output_dir = \"dataset\"\n",
    "font_path = \"DejaVuSans-Bold.ttf\"\n",
    "font_size = 120\n",
    "img_width = 1024\n",
    "img_height = 256\n",
    "text_color = \"black\"\n",
    "\n",
    "# Read and clean lines from file\n",
    "with open(\"formatted_all_quiet_on_the_western_front.txt\", \"r\", encoding=\"utf-8\") as f:\n",
    "    lines = [line.strip() for line in f if line.strip()]\n",
    "\n",
    "# Ensure output directory exists\n",
    "os.makedirs(output_dir, exist_ok=True)\n",
    "\n",
    "font = ImageFont.truetype(font_path, font_size)\n",
    "\n",
    "for idx, line in tqdm(enumerate(lines), total=len(lines), desc=\"Generating images\"):\n",
    "    # Create a new image\n",
    "    img = Image.new('RGB', (img_width, img_height), color='white')\n",
    "    draw = ImageDraw.Draw(img)\n",
    "\n",
    "    # Get bounding box for text\n",
    "    bbox = draw.textbbox((0, 0), line, font=font)\n",
    "    text_width, text_height = bbox[2] - bbox[0], bbox[3] - bbox[1]\n",
    "\n",
    "    # Calculate centered position\n",
    "    x = (img_width - text_width) // 2\n",
    "    y = (img_height - text_height) // 2\n",
    "\n",
    "    # Draw centered text\n",
    "    draw.text((x, y), line, font=font, fill=text_color)\n",
    "\n",
    "    # Generate unique name\n",
    "    timestamp = datetime.datetime.now().strftime(\"%Y%m%d_%H%M%S_%f\")\n",
    "    base_name = f\"{timestamp}_{idx}\"\n",
    "\n",
    "    # Save image and text\n",
    "    img.save(os.path.join(output_dir, f\"{base_name}.png\"))\n",
    "    with open(os.path.join(output_dir, f\"{base_name}.txt\"), \"w\", encoding=\"utf-8\") as f:\n",
    "        f.write(line)\n",
    "\n",
    "    # Optional: comment this out if you want all lines processed\n",
    "    #break  # Remove this line to process all lines\n"
   ]
  },
  {
   "cell_type": "code",
   "execution_count": 64,
   "id": "62404699",
   "metadata": {},
   "outputs": [
    {
     "data": {
      "image/png": "[encoded data removed]",
      "text/plain": [
       "<Figure size 640x480 with 1 Axes>"
      ]
     },
     "metadata": {},
     "output_type": "display_data"
    }
   ],
   "source": [
    "# Get the first .png file in the directory\n",
    "png_files = [f for f in os.listdir(output_dir) if f.lower().endswith('.png')]\n",
    "if not png_files:\n",
    "    raise FileNotFoundError(\"No .png files found in the directory.\")\n",
    "\n",
    "first_image_path = os.path.join(output_dir, png_files[100])\n",
    "first_image = Image.open(first_image_path)\n",
    "plt.imshow(first_image)\n",
    "plt.axis('on')  # Hide axes\n",
    "plt.show()\n",
    "\n"
   ]
  },
  {
   "cell_type": "code",
   "execution_count": null,
   "id": "a0352057",
   "metadata": {},
   "outputs": [],
   "source": []
  }
 ],
 "metadata": {
  "kernelspec": {
   "display_name": "venv",
   "language": "python",
   "name": "python3"
  },
  "language_info": {
   "codemirror_mode": {
    "name": "ipython",
    "version": 3
   },
   "file_extension": ".py",
   "mimetype": "text/x-python",
   "name": "python",
   "nbconvert_exporter": "python",
   "pygments_lexer": "ipython3",
   "version": "3.12.3"
  }
 },
 "nbformat": 4,
 "nbformat_minor": 5
}
