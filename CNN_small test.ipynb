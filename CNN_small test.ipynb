{
  "cells": [
    {
      "cell_type": "markdown",
      "id": "fd85a770",
      "metadata": {},
      "source": [
        "# CNN\n",
        "This notebook aims to deploy the CNN."
      ]
    },
    {
      "cell_type": "markdown",
      "id": "60c50740",
      "metadata": {},
      "source": [
        "## Setup for UCloud\n",
        "The Setup on Ucloud is a bit feasty at times, so here are some workarounds"
      ]
    },
    {
      "cell_type": "code",
      "execution_count": 1,
      "id": "cfb54145",
      "metadata": {},
      "outputs": [],
      "source": [
        "#pip freeze > requirements.txt"
      ]
    },
    {
      "cell_type": "code",
      "execution_count": 2,
      "id": "41265d20",
      "metadata": {},
      "outputs": [],
      "source": [
        "# !pip install -r requirements.txt\n",
        "# !pip install matplotlib opencv-python pandas scikit-learn tensorflow\n",
        "# !pip install numpy==1.26.4 --force-reinstall\n",
        "# !pip install editdistance\n",
        "\n",
        "# # scipy\n",
        "# !pip install --upgrade --force-reinstall --no-cache-dir scipy\n",
        "# !pip install --upgrade --force-reinstall --no-cache-dir scikit-learn\n"
      ]
    },
    {
      "cell_type": "code",
      "execution_count": 3,
      "id": "5db0c496",
      "metadata": {},
      "outputs": [],
      "source": [
        "# sudo apt update && sudo apt install -y libgl1"
      ]
    },
    {
      "cell_type": "code",
      "execution_count": 4,
      "id": "325a8a0d",
      "metadata": {},
      "outputs": [
        {
          "name": "stderr",
          "output_type": "stream",
          "text": [
            "2025-05-19 16:23:56.209283: I external/local_xla/xla/tsl/cuda/cudart_stub.cc:32] Could not find cuda drivers on your machine, GPU will not be used.\n",
            "2025-05-19 16:23:56.394961: I external/local_xla/xla/tsl/cuda/cudart_stub.cc:32] Could not find cuda drivers on your machine, GPU will not be used.\n",
            "2025-05-19 16:23:56.583474: E external/local_xla/xla/stream_executor/cuda/cuda_fft.cc:467] Unable to register cuFFT factory: Attempting to register factory for plugin cuFFT when one has already been registered\n",
            "WARNING: All log messages before absl::InitializeLog() is called are written to STDERR\n",
            "E0000 00:00:1747664636.770894   74339 cuda_dnn.cc:8579] Unable to register cuDNN factory: Attempting to register factory for plugin cuDNN when one has already been registered\n",
            "E0000 00:00:1747664636.815800   74339 cuda_blas.cc:1407] Unable to register cuBLAS factory: Attempting to register factory for plugin cuBLAS when one has already been registered\n",
            "W0000 00:00:1747664637.058523   74339 computation_placer.cc:177] computation placer already registered. Please check linkage and avoid linking the same target more than once.\n",
            "W0000 00:00:1747664637.058543   74339 computation_placer.cc:177] computation placer already registered. Please check linkage and avoid linking the same target more than once.\n",
            "W0000 00:00:1747664637.058545   74339 computation_placer.cc:177] computation placer already registered. Please check linkage and avoid linking the same target more than once.\n",
            "W0000 00:00:1747664637.058546   74339 computation_placer.cc:177] computation placer already registered. Please check linkage and avoid linking the same target more than once.\n",
            "2025-05-19 16:23:57.082687: I tensorflow/core/platform/cpu_feature_guard.cc:210] This TensorFlow binary is optimized to use available CPU instructions in performance-critical operations.\n",
            "To enable the following instructions: AVX2 FMA, in other operations, rebuild TensorFlow with the appropriate compiler flags.\n"
          ]
        }
      ],
      "source": [
        "import os\n",
        "import numpy as np\n",
        "import matplotlib.pyplot as plt\n",
        "import cv2\n",
        "import pandas as pd\n",
        "from sklearn.model_selection import train_test_split\n",
        "from editdistance import eval as edit_distance  \n",
        "\n",
        "import tensorflow as tf\n",
        "from tensorflow import keras\n",
        "from tensorflow.keras import models, layers\n",
        "from tensorflow.keras.preprocessing.sequence import pad_sequences\n",
        "from tensorflow.keras.utils import to_categorical\n",
        "from tensorflow.keras.models import load_model\n",
        "from tensorflow.keras.backend import ctc_decode\n",
        "\n"
      ]
    },
    {
      "cell_type": "markdown",
      "id": "96ec81f6",
      "metadata": {},
      "source": [
        "---\n",
        "## Loading the data\n",
        "Data has to load out of the 'carolianminuscule-groundtruth'-folder "
      ]
    },
    {
      "cell_type": "code",
      "execution_count": 5,
      "id": "70206626",
      "metadata": {},
      "outputs": [],
      "source": [
        "def get_images(folder_path: str):\n",
        "    \"\"\"\n",
        "    Load images and text files from the given path.\n",
        "    :param folder_path: Path to the directory containing images and text files.\n",
        "    :return: Two lists - one for image paths and one for text file paths.\n",
        "    \"\"\"\n",
        "    if not os.path.exists(folder_path):\n",
        "        raise FileNotFoundError(f\"Path {folder_path} does not exist.\")\n",
        "\n",
        "    images = []\n",
        "    files = []\n",
        "\n",
        "    for entry in os.listdir(folder_path):\n",
        "        entry_path = os.path.join(folder_path, entry)\n",
        "        if os.path.isdir(entry_path):\n",
        "            # Recursively get images and text files from subdirectories\n",
        "            sub_images, sub_files = get_images(entry_path)\n",
        "            images.extend(sub_images)\n",
        "            files.extend(sub_files)\n",
        "        elif entry.endswith(\".png\"):\n",
        "            images.append(entry_path)\n",
        "        elif entry.endswith(\".txt\"):\n",
        "            files.append(entry_path)\n",
        "\n",
        "    return images, files\n",
        "\n",
        "\n",
        "# load the data from the directory\n",
        "path = \"carolineminuscule-groundtruth\"\n",
        "images, files = get_images(path)\n",
        "\n",
        "\n",
        "# matched the .png- and .txt-file in a folder together\n",
        "matched_list_path = [\n",
        "    [img, file]\n",
        "    for img in images\n",
        "    for file in files\n",
        "    if os.path.dirname(img) == os.path.dirname(file)\n",
        "    and os.path.splitext(os.path.splitext(os.path.basename(img))[0])[0]\n",
        "    == os.path.splitext(os.path.splitext(os.path.basename(file))[0])[0]\n",
        "]\n"
      ]
    },
    {
      "cell_type": "code",
      "execution_count": 6,
      "id": "f715ff21",
      "metadata": {},
      "outputs": [
        {
          "name": "stdout",
          "output_type": "stream",
          "text": [
            "len matched: 429\n",
            "matched_list:\n",
            " ['carolineminuscule-groundtruth/bsb00095929/0011/010002.bin.png', 'carolineminuscule-groundtruth/bsb00095929/0011/010002.gt.txt']\n"
          ]
        }
      ],
      "source": [
        "print(f\"len matched: {len(matched_list_path)}\")\n",
        "print(f\"matched_list:\\n {matched_list_path[1]}\")"
      ]
    },
    {
      "cell_type": "markdown",
      "id": "48e60f70",
      "metadata": {},
      "source": [
        "---\n",
        "## Creating the Dataset"
      ]
    },
    {
      "cell_type": "code",
      "execution_count": 7,
      "id": "8877200c",
      "metadata": {},
      "outputs": [],
      "source": [
        "# define a dataframe to store the image, image paths and their corresponding text files\n",
        "df = pd.DataFrame(columns=[\"name\", \"image\", \"transcription\"])\n",
        "\n",
        "for i, (img_path, file_path) in enumerate(matched_list_path):\n",
        "    # read the image\n",
        "    img = cv2.imread(img_path, cv2.IMREAD_UNCHANGED)\n",
        "    img = np.array(img)\n",
        "    # add the image to the dataframe, set \"none\" here to add transcription later\n",
        "    df.loc[i] = [os.path.basename(img_path), img, None]\n",
        "    # read the text file\n",
        "    with open(file_path, \"r\") as f:\n",
        "        # read the transcription\n",
        "        transcription = f.read()\n",
        "    # add the transcription to the dataframe\n",
        "    df.loc[i, \"transcription\"] = transcription"
      ]
    },
    {
      "cell_type": "code",
      "execution_count": 8,
      "id": "4f1c8f39",
      "metadata": {},
      "outputs": [
        {
          "data": {
            "text/html": [
              "<div>\n",
              "<style scoped>\n",
              "    .dataframe tbody tr th:only-of-type {\n",
              "        vertical-align: middle;\n",
              "    }\n",
              "\n",
              "    .dataframe tbody tr th {\n",
              "        vertical-align: top;\n",
              "    }\n",
              "\n",
              "    .dataframe thead th {\n",
              "        text-align: right;\n",
              "    }\n",
              "</style>\n",
              "<table border=\"1\" class=\"dataframe\">\n",
              "  <thead>\n",
              "    <tr style=\"text-align: right;\">\n",
              "      <th></th>\n",
              "      <th>name</th>\n",
              "      <th>image</th>\n",
              "      <th>transcription</th>\n",
              "    </tr>\n",
              "  </thead>\n",
              "  <tbody>\n",
              "    <tr>\n",
              "      <th>0</th>\n",
              "      <td>010005.bin.png</td>\n",
              "      <td>[[255, 255, 255, 255, 255, 255, 255, 255, 255,...</td>\n",
              "      <td>initio sicuti pleriq; studio ad empabacan</td>\n",
              "    </tr>\n",
              "    <tr>\n",
              "      <th>1</th>\n",
              "      <td>010002.bin.png</td>\n",
              "      <td>[[255, 255, 255, 255, 255, 255, 255, 255, 255,...</td>\n",
              "      <td>gla memores que s quis: faciliafacto putat</td>\n",
              "    </tr>\n",
              "    <tr>\n",
              "      <th>2</th>\n",
              "      <td>010007.bin.png</td>\n",
              "      <td>[[255, 255, 255, 255, 255, 255, 255, 255, 255,...</td>\n",
              "      <td>pro abstinentia ꝓuirtute audacia. largitio. au...</td>\n",
              "    </tr>\n",
              "    <tr>\n",
              "      <th>3</th>\n",
              "      <td>010008.bin.png</td>\n",
              "      <td>[[255, 255, 255, 255, 255, 255, 255, 255, 255,...</td>\n",
              "      <td>bant. Quę tametsianimus aspꝑnabatur. insolens ...</td>\n",
              "    </tr>\n",
              "    <tr>\n",
              "      <th>4</th>\n",
              "      <td>010017.bin.png</td>\n",
              "      <td>[[255, 255, 255, 255, 255, 255, 255, 255, 255,...</td>\n",
              "      <td>tilinę coniuratione quam uerissime potero paucis</td>\n",
              "    </tr>\n",
              "  </tbody>\n",
              "</table>\n",
              "</div>"
            ],
            "text/plain": [
              "             name                                              image  \\\n",
              "0  010005.bin.png  [[255, 255, 255, 255, 255, 255, 255, 255, 255,...   \n",
              "1  010002.bin.png  [[255, 255, 255, 255, 255, 255, 255, 255, 255,...   \n",
              "2  010007.bin.png  [[255, 255, 255, 255, 255, 255, 255, 255, 255,...   \n",
              "3  010008.bin.png  [[255, 255, 255, 255, 255, 255, 255, 255, 255,...   \n",
              "4  010017.bin.png  [[255, 255, 255, 255, 255, 255, 255, 255, 255,...   \n",
              "\n",
              "                                       transcription  \n",
              "0          initio sicuti pleriq; studio ad empabacan  \n",
              "1         gla memores que s quis: faciliafacto putat  \n",
              "2  pro abstinentia ꝓuirtute audacia. largitio. au...  \n",
              "3  bant. Quę tametsianimus aspꝑnabatur. insolens ...  \n",
              "4   tilinę coniuratione quam uerissime potero paucis  "
            ]
          },
          "execution_count": 8,
          "metadata": {},
          "output_type": "execute_result"
        }
      ],
      "source": [
        "# delete all the linebrakes in the transcription\n",
        "df[\"transcription\"] = df[\"transcription\"].str.replace(\"\\n\", \"\", regex=False)\n",
        "df.head(5)"
      ]
    },
    {
      "cell_type": "markdown",
      "id": "f47d708f",
      "metadata": {},
      "source": [
        "For now it appear that the images only have \"255\" as values, i.e. white. That's why im checking for other values. But the edges of the images are all white, therefore this is the exspected behaviour."
      ]
    },
    {
      "cell_type": "code",
      "execution_count": 9,
      "id": "ecfc47fb",
      "metadata": {},
      "outputs": [
        {
          "name": "stdout",
          "output_type": "stream",
          "text": [
            "Rows  in 'image' with values other than 255: 429\n"
          ]
        }
      ],
      "source": [
        "non_255_values = df['image'].apply(lambda img: np.any(img != 255))\n",
        "print(f\"Rows  in 'image' with values other than 255: {non_255_values.sum()}\")"
      ]
    },
    {
      "cell_type": "markdown",
      "id": "95fb1435",
      "metadata": {},
      "source": [
        "---\n",
        "## Preparing the data"
      ]
    },
    {
      "cell_type": "markdown",
      "id": "549cb64f",
      "metadata": {},
      "source": [
        "By calculating the maximum and avg. number of the height we can use that value later in our CNN."
      ]
    },
    {
      "cell_type": "code",
      "execution_count": 10,
      "id": "4dcdfc48",
      "metadata": {},
      "outputs": [
        {
          "name": "stdout",
          "output_type": "stream",
          "text": [
            "Maximum height of an image: 263\n",
            "Average height of an image: 140\n",
            "Maximum length of an image: 3058\n",
            "Average length of an image: 1938\n"
          ]
        }
      ],
      "source": [
        "# Calculate the maximum and average length of the lists in the 'image' column\n",
        "image_heigth = df['image'].apply(lambda img: img.shape[0])  # Get the height of each image array\n",
        "max_length = image_heigth.max()\n",
        "avg_length = image_heigth.mean()\n",
        "\n",
        "print(f\"Maximum height of an image: {max_length}\")\n",
        "print(f\"Average height of an image: {int(avg_length)}\")\n",
        "\n",
        "\n",
        "# Calculate the maximum and average length of the lists in the 'image' column\n",
        "image_lengths = df['image'].apply(lambda img: img.shape[1])  # Get the height of each image array\n",
        "max_length = image_lengths.max()\n",
        "avg_length = image_lengths.mean()\n",
        "\n",
        "print(f\"Maximum length of an image: {int(max_length)}\")\n",
        "print(f\"Average length of an image: {int(avg_length)}\")"
      ]
    },
    {
      "cell_type": "markdown",
      "id": "832590ff",
      "metadata": {},
      "source": [
        "Getting the number of unique character, servs here more as an exploration into the the datas.\n",
        "We stand at a pathway here: Either we manually map each of the 83 characters by hand to the according representative in the images or, use the CNN-RNN architecture. Which does not need manual character mapping, but is harder to train."
      ]
    },
    {
      "cell_type": "code",
      "execution_count": 11,
      "id": "ca3c9713",
      "metadata": {},
      "outputs": [],
      "source": [
        "# Features (images) and labels (transcriptions)\n",
        "X = df[\"image\"].values  # Images as NumPy arrays\n",
        "y = df[\"transcription\"].values  # Transcriptions as strings"
      ]
    },
    {
      "cell_type": "code",
      "execution_count": 12,
      "id": "556ff1f4",
      "metadata": {},
      "outputs": [
        {
          "name": "stdout",
          "output_type": "stream",
          "text": [
            "X shape: (429, 256, 128), dtype: float32\n"
          ]
        }
      ],
      "source": [
        "# # Convert images to NumPy arrays and normalize\n",
        "X = np.array(\n",
        "    [cv2.resize(img, (128, 256)) for img in df[\"image\"]], dtype=np.float32\n",
        ")  # Resize and convert to float32\n",
        "\n",
        "print(f\"X shape: {X.shape}, dtype: {X.dtype}\")"
      ]
    },
    {
      "cell_type": "code",
      "execution_count": 13,
      "id": "306d89d7",
      "metadata": {},
      "outputs": [
        {
          "name": "stdout",
          "output_type": "stream",
          "text": [
            "Transcription lengths:\n",
            "Max length:\t\t 70\n",
            "Mean length:\t\t 46\n",
            "Median length:\t\t 48\n"
          ]
        }
      ],
      "source": [
        "# find the length of the transcription\n",
        "# aplly different measures\n",
        "\n",
        "transcription_lengths = df[\"transcription\"].apply(len)\n",
        "print(\"Transcription lengths:\")\n",
        "print(f\"Max length:\\t\\t {int(transcription_lengths.max())}\")\n",
        "print(f\"Mean length:\\t\\t {int(transcription_lengths.mean())}\")\n",
        "print(f\"Median length:\\t\\t {int(transcription_lengths.median())}\")"
      ]
    },
    {
      "cell_type": "code",
      "execution_count": 14,
      "id": "e78911a7",
      "metadata": {},
      "outputs": [
        {
          "name": "stdout",
          "output_type": "stream",
          "text": [
            "y shape: (429,), dtype: object\n"
          ]
        }
      ],
      "source": [
        "# Create a character-to-index mapping\n",
        "charset = sorted(set(\"\".join(df[\"transcription\"])))  # Unique characters in the dataset\n",
        "char_to_index = {char: idx for idx, char in enumerate(charset)}\n",
        "index_to_char = {idx: char for char, idx in char_to_index.items()}\n",
        "num_classes = len(charset) + 1  # Add 1 for the blank character (CTC loss)\n",
        "\n",
        "\n",
        "# Convert transcriptions to sequences of integers\n",
        "label_sequences = [\n",
        "    [char_to_index[char] for char in transcription]\n",
        "    for transcription in df[\"transcription\"]\n",
        "]\n",
        "\n",
        "# Pad sequences to a fixed length\n",
        "max_sequence_length = 256  # slightly larger than the max length\n",
        "\n",
        "# Pad sequences to a fixed length\n",
        "padded_labels = pad_sequences(\n",
        "    label_sequences, maxlen=max_sequence_length, padding=\"post\", value=num_classes - 1\n",
        ")\n",
        "\n",
        "\n",
        "print(f\"y shape: {y.shape}, dtype: {y.dtype}\")"
      ]
    },
    {
      "cell_type": "code",
      "execution_count": 15,
      "id": "acbf4ec9",
      "metadata": {},
      "outputs": [],
      "source": [
        "# Convert transcriptions to sequences of integers\n",
        "label_sequences = [\n",
        "    [char_to_index[char] for char in transcription]\n",
        "    for transcription in df[\"transcription\"]\n",
        "]\n",
        "\n",
        "# Pad sequences to a fixed length (use a value outside the valid character indices, like num_classes - 1 for blank)\n",
        "padded_labels = pad_sequences(\n",
        "    label_sequences, maxlen=max_sequence_length, padding=\"post\", value=num_classes - 1\n",
        ")\n",
        "\n",
        "\n",
        "# Convert padded labels to one-hot encoding\n",
        "y = np.array(padded_labels, dtype=np.int32)\n"
      ]
    },
    {
      "cell_type": "code",
      "execution_count": 16,
      "id": "319becdc",
      "metadata": {},
      "outputs": [],
      "source": [
        "X_train, X_test, y_train, y_test = train_test_split(\n",
        "    X, y, test_size=0.2, random_state=42\n",
        ")\n",
        "\n",
        "num_classes = len(charset) + 1  # Number of unique characters"
      ]
    },
    {
      "cell_type": "code",
      "execution_count": 17,
      "id": "56fbdc78",
      "metadata": {},
      "outputs": [
        {
          "name": "stdout",
          "output_type": "stream",
          "text": [
            "X_train shape: (343, 256, 128), dtype: float32\n",
            "y_train shape: (343, 256), dtype: int32\n"
          ]
        }
      ],
      "source": [
        "print(f\"X_train shape: {X_train.shape}, dtype: {X_train.dtype}\")\n",
        "print(f\"y_train shape: {y_train.shape}, dtype: {y_train.dtype}\")"
      ]
    },
    {
      "cell_type": "markdown",
      "id": "12f322fa",
      "metadata": {},
      "source": [
        "---\n",
        "## Data visualisation\n",
        "Below I want to gain a better understanding of our datapoints"
      ]
    },
    {
      "cell_type": "code",
      "execution_count": 18,
      "id": "486a2991",
      "metadata": {},
      "outputs": [
        {
          "data": {
            "image/png": "[encoded data removed]",
            "text/plain": [
              "<Figure size 640x480 with 1 Axes>"
            ]
          },
          "metadata": {},
          "output_type": "display_data"
        }
      ],
      "source": [
        "plt.imshow(X_train[10], cmap=\"gray\", vmin=0, vmax=255)\n",
        "plt.title(\"Sample Image from Training Set\")\n",
        "plt.show()"
      ]
    },
    {
      "cell_type": "code",
      "execution_count": 19,
      "id": "c078c925",
      "metadata": {},
      "outputs": [
        {
          "name": "stdout",
          "output_type": "stream",
          "text": [
            "First entry in y_train:\n",
            "[42 36  0 45  3 35 40 34 32 49 40 44  0 34 44 42 45 41 36 32 49  3  5  0\n",
            " 36 49  0 32 50 35 40 47 36 43 49  0 38 36 43 49 36 48  5  0 36 49  0 41\n",
            " 40 33 36 47 32 49 50 48  0 48 71  0 36 52 44 47 36 83 83 83 83 83 83 83\n",
            " 83 83 83 83 83 83 83 83 83 83 83 83 83 83 83 83 83 83 83 83 83 83 83 83\n",
            " 83 83 83 83 83 83 83 83 83 83 83 83 83 83 83 83 83 83 83 83 83 83 83 83\n",
            " 83 83 83 83 83 83 83 83 83 83 83 83 83 83 83 83 83 83 83 83 83 83 83 83\n",
            " 83 83 83 83 83 83 83 83 83 83 83 83 83 83 83 83 83 83 83 83 83 83 83 83\n",
            " 83 83 83 83 83 83 83 83 83 83 83 83 83 83 83 83 83 83 83 83 83 83 83 83\n",
            " 83 83 83 83 83 83 83 83 83 83 83 83 83 83 83 83 83 83 83 83 83 83 83 83\n",
            " 83 83 83 83 83 83 83 83 83 83 83 83 83 83 83 83 83 83 83 83 83 83 83 83\n",
            " 83 83 83 83 83 83 83 83 83 83 83 83 83 83 83 83]\n"
          ]
        }
      ],
      "source": [
        "print(\"First entry in y_train:\")\n",
        "print(y_train[10])"
      ]
    },
    {
      "cell_type": "markdown",
      "id": "551685d5",
      "metadata": {},
      "source": [
        "---"
      ]
    },
    {
      "cell_type": "code",
      "execution_count": 20,
      "id": "f5fe5092",
      "metadata": {},
      "outputs": [
        {
          "name": "stderr",
          "output_type": "stream",
          "text": [
            "/home/linus/Dokumente/1_Universitaet/10_SoSe_25/SPECIALIZATION-PROEJECT/.venv/lib/python3.12/site-packages/keras/src/layers/convolutional/base_conv.py:107: UserWarning: Do not pass an `input_shape`/`input_dim` argument to a layer. When using Sequential models, prefer using an `Input(shape)` object as the first layer in the model instead.\n",
            "  super().__init__(activity_regularizer=activity_regularizer, **kwargs)\n",
            "2025-05-19 16:24:02.978396: E external/local_xla/xla/stream_executor/cuda/cuda_platform.cc:51] failed call to cuInit: INTERNAL: CUDA error: Failed call to cuInit: UNKNOWN ERROR (303)\n"
          ]
        }
      ],
      "source": [
        "cnn_rnn = models.Sequential(\n",
        "    [\n",
        "        layers.Conv2D(\n",
        "            64, (3, 3), padding=\"same\", activation=\"relu\", input_shape=(256, 128, 1)\n",
        "        ),\n",
        "        layers.MaxPooling2D(pool_size=(2, 2)),  # → (128, 64, 64)\n",
        "        layers.Conv2D(128, (3, 3), padding=\"same\", activation=\"relu\"),\n",
        "        layers.MaxPooling2D(pool_size=(2, 2)),  # → (64, 32, 128)\n",
        "        layers.Reshape(target_shape=(64 * 32, 128)),  # → (2048, 128)\n",
        "        layers.Bidirectional(layers.LSTM(256, return_sequences=True)),\n",
        "        layers.Bidirectional(layers.LSTM(256, return_sequences=True)),\n",
        "        layers.Dense(num_classes, activation=\"softmax\"),\n",
        "    ]\n",
        ")\n",
        "\n",
        "\n",
        "def ctc_loss(y_true, y_pred):\n",
        "    input_length = (\n",
        "        tf.ones(shape=(tf.shape(y_pred)[0], 1), dtype=tf.int32) * tf.shape(y_pred)[1]\n",
        "    )\n",
        "    label_length = (\n",
        "        tf.ones(shape=(tf.shape(y_true)[0], 1), dtype=tf.int32) * tf.shape(y_true)[1]\n",
        "    )\n",
        "    return tf.keras.backend.ctc_batch_cost(y_true, y_pred, input_length, label_length)\n",
        "\n",
        "\n",
        "cnn_rnn.compile(optimizer=\"adam\", loss=ctc_loss)\n",
        "\n",
        "# cnn_rnn.summary()"
      ]
    },
    {
      "cell_type": "code",
      "execution_count": null,
      "id": "7ad05303",
      "metadata": {},
      "outputs": [
        {
          "name": "stderr",
          "output_type": "stream",
          "text": [
            "2025-05-19 16:24:08.985098: W external/local_xla/xla/tsl/framework/cpu_allocator_impl.cc:83] Allocation of 268435456 exceeds 10% of free system memory.\n",
            "2025-05-19 16:24:09.129147: W external/local_xla/xla/tsl/framework/cpu_allocator_impl.cc:83] Allocation of 134217728 exceeds 10% of free system memory.\n",
            "2025-05-19 16:24:13.220827: W external/local_xla/xla/tsl/framework/cpu_allocator_impl.cc:83] Allocation of 134217728 exceeds 10% of free system memory.\n",
            "2025-05-19 16:24:13.264631: W external/local_xla/xla/tsl/framework/cpu_allocator_impl.cc:83] Allocation of 134217728 exceeds 10% of free system memory.\n",
            "2025-05-19 16:24:13.314906: W external/local_xla/xla/tsl/framework/cpu_allocator_impl.cc:83] Allocation of 134217728 exceeds 10% of free system memory.\n"
          ]
        },
        {
          "name": "stdout",
          "output_type": "stream",
          "text": [
            "\u001b[1m 1/11\u001b[0m \u001b[32m━\u001b[0m\u001b[37m━━━━━━━━━━━━━━━━━━━\u001b[0m \u001b[1m8:46\u001b[0m 53s/step - loss: 8063.0332"
          ]
        }
      ],
      "source": [
        "#! Commented out to avoid running the model training\n",
        "# # Fit the model\n",
        "cnn_rnn.fit(\n",
        "    X_train,\n",
        "    y_train,\n",
        "    epochs=1,\n",
        "    validation_data=(X_test, y_test),\n",
        ")"
      ]
    },
    {
      "cell_type": "code",
      "execution_count": null,
      "id": "ee2b5686",
      "metadata": {},
      "outputs": [],
      "source": [
        "# # Vorhersagen erzeugen\n",
        "# y_pred = cnn_rnn.predict(X_test)  # Shape: (batch_size, time_steps, num_classes)\n",
        "\n",
        "# # Greedy decoding\n",
        "# decoded, _ = ctc_decode(y_pred, input_length=np.ones(y_pred.shape[0]) * y_pred.shape[1])\n",
        "\n",
        "\n",
        "# # In Text umwandeln\n",
        "# def decode_to_text(seq):\n",
        "#     return \"\".join(index_to_char.get(i, \"\") for i in seq if i < len(index_to_char))\n",
        "\n",
        "\n",
        "# y_pred_texts = [decode_to_text(seq.numpy()) for seq in decoded[0]]\n",
        "# y_true_texts = [\n",
        "#     \"\".join(\n",
        "#         [index_to_char[i] for i in np.argmax(label, axis=1) if i < len(index_to_char)]\n",
        "#     )\n",
        "#     for label in y_test\n",
        "# ]\n",
        "\n",
        "# # Character Error Rate (CER)\n",
        "# total_chars = sum(len(t) for t in y_true_texts)\n",
        "# total_errors = sum(edit_distance(p, t) for p, t in zip(y_pred_texts, y_true_texts))\n",
        "# cer = total_errors / total_chars\n",
        "# print(f\"Character Error Rate (CER): {cer:.2%}\")"
      ]
    },
    {
      "cell_type": "code",
      "execution_count": null,
      "id": "2dc01f4c",
      "metadata": {},
      "outputs": [],
      "source": [
        "#cnn_rnn.save(\"./Run_models/CNN_RNN_model.keras\")"
      ]
    },
    {
      "cell_type": "code",
      "execution_count": null,
      "id": "2b5421a2",
      "metadata": {},
      "outputs": [],
      "source": [
        "# # Load the model\n",
        "# loaded_model = load_model(\"Run_models/20250519/20250519_CNN_RNN_model/\")\n",
        "# loaded_model.summary()\n",
        "\n",
        "\n",
        "# # Select an image from the test set\n",
        "# sample_image = X_test[0]\n",
        "\n",
        "# # Reshape the image to match the input shape of the model\n",
        "# sample_image_reshaped = sample_image.reshape(1, 256, 128, 1)\n",
        "\n",
        "# # Get the model's prediction\n",
        "# prediction = loaded_model.predict(sample_image_reshaped)\n",
        "\n",
        "# decoded_sequences, _ = tf.keras.backend.ctc_decode(\n",
        "#     prediction, input_length=np.ones(prediction.shape[0]) * prediction.shape[1]\n",
        "# )\n",
        "# predicted_text = \"\".join(\n",
        "#     index_to_char[idx]\n",
        "#     for idx in decoded_sequences[0][0].numpy()\n",
        "#     if idx < num_classes - 1\n",
        "# )\n",
        "\n",
        "# # Decode the prediction\n",
        "# predicted_sequence = np.argmax(prediction, axis=-1)[0]\n",
        "# predicted_text = \"\".join(\n",
        "#     index_to_char[idx] for idx in predicted_sequence if idx < num_classes - 1\n",
        "# )\n",
        "\n",
        "# print(\"Predicted transcription:\")\n",
        "# print(predicted_text)"
      ]
    }
  ],
  "metadata": {
    "kernelspec": {
      "display_name": ".venv",
      "language": "python",
      "name": "python3"
    },
    "language_info": {
      "codemirror_mode": {
        "name": "ipython",
        "version": 3
      },
      "file_extension": ".py",
      "mimetype": "text/x-python",
      "name": "python",
      "nbconvert_exporter": "python",
      "pygments_lexer": "ipython3",
      "version": "3.12.3"
    }
  },
  "nbformat": 4,
  "nbformat_minor": 5
}
