{
 "cells": [
  {
   "cell_type": "markdown",
   "id": "fd85a770",
   "metadata": {},
   "source": [
    "# CNN\n",
    "This notebook aims to deploy the CNN."
   ]
  },
  {
   "cell_type": "markdown",
   "id": "60c50740",
   "metadata": {},
   "source": [
    "## Setup for UCloud\n",
    "The Setup on Ucloud is a bit feasty at times, so here are some workarounds"
   ]
  },
  {
   "cell_type": "code",
   "execution_count": 144,
   "id": "cfb54145",
   "metadata": {},
   "outputs": [],
   "source": [
    "#pip freeze > requirements.txt"
   ]
  },
  {
   "cell_type": "code",
   "execution_count": 145,
   "id": "41265d20",
   "metadata": {},
   "outputs": [],
   "source": [
    "# !pip install -r requirements.txt\n",
    "# !pip install matplotlib opencv-python pandas scikit-learn tensorflow\n",
    "# !pip install numpy==1.26.4 --force-reinstall\n",
    "# !pip install editdistance\n",
    "\n",
    "# # scipy\n",
    "# !pip install --upgrade --force-reinstall --no-cache-dir scipy\n",
    "# !pip install --upgrade --force-reinstall --no-cache-dir scikit-learn\n"
   ]
  },
  {
   "cell_type": "code",
   "execution_count": 146,
   "id": "5db0c496",
   "metadata": {},
   "outputs": [],
   "source": [
    "# !sudo apt-get update\n",
    "# !sudo apt-get install -y libgl1\n",
    "# !sudo apt-get -y upgrade\n",
    "# git clone git@github.com:LinusLinuxer/SPECIALIZATION-PROEJECT.git\n"
   ]
  },
  {
   "cell_type": "code",
   "execution_count": 147,
   "id": "325a8a0d",
   "metadata": {},
   "outputs": [],
   "source": [
    "import os\n",
    "import numpy as np\n",
    "import matplotlib.pyplot as plt\n",
    "import cv2\n",
    "import pandas as pd\n",
    "from sklearn.model_selection import train_test_split\n",
    "from editdistance import eval as edit_distance  \n",
    "\n",
    "import tensorflow as tf\n",
    "from tensorflow import keras\n",
    "from tensorflow.keras import models, layers\n",
    "from tensorflow.keras.preprocessing.sequence import pad_sequences\n",
    "from tensorflow.keras.utils import to_categorical\n",
    "from tensorflow.keras.models import load_model\n",
    "from tensorflow.keras.backend import ctc_decode\n",
    "\n"
   ]
  },
  {
   "cell_type": "markdown",
   "id": "96ec81f6",
   "metadata": {},
   "source": [
    "---\n",
    "## Loading the data\n",
    "Data has to load out of the 'carolianminuscule-groundtruth'-folder "
   ]
  },
  {
   "cell_type": "code",
   "execution_count": 148,
   "id": "70206626",
   "metadata": {},
   "outputs": [],
   "source": [
    "def get_images(folder_path: str):\n",
    "    \"\"\"\n",
    "    Load images and text files from the given path.\n",
    "    :param folder_path: Path to the directory containing images and text files.\n",
    "    :return: Two lists - one for image paths and one for text file paths.\n",
    "    \"\"\"\n",
    "    if not os.path.exists(folder_path):\n",
    "        raise FileNotFoundError(f\"Path {folder_path} does not exist.\")\n",
    "\n",
    "    images = []\n",
    "    files = []\n",
    "\n",
    "    for entry in os.listdir(folder_path):\n",
    "        entry_path = os.path.join(folder_path, entry)\n",
    "        if os.path.isdir(entry_path):\n",
    "            # Recursively get images and text files from subdirectories\n",
    "            sub_images, sub_files = get_images(entry_path)\n",
    "            images.extend(sub_images)\n",
    "            files.extend(sub_files)\n",
    "        elif entry.endswith(\".png\"):\n",
    "            images.append(entry_path)\n",
    "        elif entry.endswith(\".txt\"):\n",
    "            files.append(entry_path)\n",
    "\n",
    "    return images, files\n",
    "\n",
    "\n",
    "# load the data from the directory\n",
    "path = \"carolineminuscule-groundtruth\"\n",
    "images, files = get_images(path)\n",
    "\n",
    "\n",
    "# matched the .png- and .txt-file in a folder together\n",
    "matched_list_path = [\n",
    "    [img, file]\n",
    "    for img in images\n",
    "    for file in files\n",
    "    if os.path.dirname(img) == os.path.dirname(file)\n",
    "    and os.path.splitext(os.path.splitext(os.path.basename(img))[0])[0]\n",
    "    == os.path.splitext(os.path.splitext(os.path.basename(file))[0])[0]\n",
    "]\n"
   ]
  },
  {
   "cell_type": "code",
   "execution_count": 149,
   "id": "f715ff21",
   "metadata": {},
   "outputs": [
    {
     "name": "stdout",
     "output_type": "stream",
     "text": [
      "len matched: 429\n",
      "matched_list:\n",
      " ['carolineminuscule-groundtruth/bsb00104168/0011/010018.bin.png', 'carolineminuscule-groundtruth/bsb00104168/0011/010018.gt.txt']\n"
     ]
    }
   ],
   "source": [
    "print(f\"len matched: {len(matched_list_path)}\")\n",
    "print(f\"matched_list:\\n {matched_list_path[1]}\")"
   ]
  },
  {
   "cell_type": "markdown",
   "id": "48e60f70",
   "metadata": {},
   "source": [
    "---\n",
    "## Creating the Dataset"
   ]
  },
  {
   "cell_type": "code",
   "execution_count": 150,
   "id": "8877200c",
   "metadata": {},
   "outputs": [],
   "source": [
    "# define a dataframe to store the image, image paths and their corresponding text files\n",
    "df = pd.DataFrame(columns=[\"name\", \"image\", \"transcription\"])\n",
    "\n",
    "for i, (img_path, file_path) in enumerate(matched_list_path):\n",
    "    # read the image\n",
    "    img = cv2.imread(img_path, cv2.IMREAD_UNCHANGED)\n",
    "    img = np.array(img)\n",
    "    # add the image to the dataframe, set \"none\" here to add transcription later\n",
    "    df.loc[i] = [os.path.basename(img_path), img, None]\n",
    "    # read the text file\n",
    "    with open(file_path, \"r\") as f:\n",
    "        # read the transcription\n",
    "        transcription = f.read()\n",
    "    # add the transcription to the dataframe\n",
    "    df.loc[i, \"transcription\"] = transcription"
   ]
  },
  {
   "cell_type": "code",
   "execution_count": 151,
   "id": "4f1c8f39",
   "metadata": {},
   "outputs": [
    {
     "data": {
      "text/html": [
       "<div>\n",
       "<style scoped>\n",
       "    .dataframe tbody tr th:only-of-type {\n",
       "        vertical-align: middle;\n",
       "    }\n",
       "\n",
       "    .dataframe tbody tr th {\n",
       "        vertical-align: top;\n",
       "    }\n",
       "\n",
       "    .dataframe thead th {\n",
       "        text-align: right;\n",
       "    }\n",
       "</style>\n",
       "<table border=\"1\" class=\"dataframe\">\n",
       "  <thead>\n",
       "    <tr style=\"text-align: right;\">\n",
       "      <th></th>\n",
       "      <th>name</th>\n",
       "      <th>image</th>\n",
       "      <th>transcription</th>\n",
       "    </tr>\n",
       "  </thead>\n",
       "  <tbody>\n",
       "    <tr>\n",
       "      <th>0</th>\n",
       "      <td>01001b.bin.png</td>\n",
       "      <td>[[255, 255, 255, 255, 255, 255, 255, 255, 255,...</td>\n",
       "      <td>eoꝝ inflectit. Dum xp*anum n* uocis modulatio ...</td>\n",
       "    </tr>\n",
       "    <tr>\n",
       "      <th>1</th>\n",
       "      <td>010018.bin.png</td>\n",
       "      <td>[[255, 255, 255, 255, 255, 255, 255, 255, 255,...</td>\n",
       "      <td>fastidiosos oblectat . inertes exsuscitat . pe...</td>\n",
       "    </tr>\n",
       "    <tr>\n",
       "      <th>2</th>\n",
       "      <td>010012.bin.png</td>\n",
       "      <td>[[255, 255, 255, 255, 255, 255, 255, 255, 255,...</td>\n",
       "      <td>num ẽ et sono uocis . eciam đm sp*ualib hymnis...</td>\n",
       "    </tr>\n",
       "    <tr>\n",
       "      <th>3</th>\n",
       "      <td>010014.bin.png</td>\n",
       "      <td>[[255, 255, 255, 255, 255, 255, 255, 255, 255,...</td>\n",
       "      <td>ait . cantantes in cordib* urĩs. hoc ẽ non sol...</td>\n",
       "    </tr>\n",
       "    <tr>\n",
       "      <th>4</th>\n",
       "      <td>010010.bin.png</td>\n",
       "      <td>[[255, 255, 255, 255, 255, 255, 255, 255, 255,...</td>\n",
       "      <td>gustus intentus ẽ in discretione saporis ciboꝝ...</td>\n",
       "    </tr>\n",
       "  </tbody>\n",
       "</table>\n",
       "</div>"
      ],
      "text/plain": [
       "             name                                              image  \\\n",
       "0  01001b.bin.png  [[255, 255, 255, 255, 255, 255, 255, 255, 255,...   \n",
       "1  010018.bin.png  [[255, 255, 255, 255, 255, 255, 255, 255, 255,...   \n",
       "2  010012.bin.png  [[255, 255, 255, 255, 255, 255, 255, 255, 255,...   \n",
       "3  010014.bin.png  [[255, 255, 255, 255, 255, 255, 255, 255, 255,...   \n",
       "4  010010.bin.png  [[255, 255, 255, 255, 255, 255, 255, 255, 255,...   \n",
       "\n",
       "                                       transcription  \n",
       "0  eoꝝ inflectit. Dum xp*anum n* uocis modulatio ...  \n",
       "1  fastidiosos oblectat . inertes exsuscitat . pe...  \n",
       "2  num ẽ et sono uocis . eciam đm sp*ualib hymnis...  \n",
       "3  ait . cantantes in cordib* urĩs. hoc ẽ non sol...  \n",
       "4  gustus intentus ẽ in discretione saporis ciboꝝ...  "
      ]
     },
     "execution_count": 151,
     "metadata": {},
     "output_type": "execute_result"
    }
   ],
   "source": [
    "# delete all the linebrakes in the transcription\n",
    "df[\"transcription\"] = df[\"transcription\"].str.replace(\"\\n\", \"\", regex=False)\n",
    "df.head(5)"
   ]
  },
  {
   "cell_type": "markdown",
   "id": "f47d708f",
   "metadata": {},
   "source": [
    "For now it appear that the images only have \"255\" as values, i.e. white. That's why im checking for other values. But the edges of the images are all white, therefore this is the exspected behaviour."
   ]
  },
  {
   "cell_type": "code",
   "execution_count": 152,
   "id": "ecfc47fb",
   "metadata": {},
   "outputs": [
    {
     "name": "stdout",
     "output_type": "stream",
     "text": [
      "Rows  in 'image' with values other than 255: 429\n"
     ]
    }
   ],
   "source": [
    "non_255_values = df['image'].apply(lambda img: np.any(img != 255))\n",
    "print(f\"Rows  in 'image' with values other than 255: {non_255_values.sum()}\")"
   ]
  },
  {
   "cell_type": "code",
   "execution_count": 153,
   "id": "15737cd3",
   "metadata": {},
   "outputs": [
    {
     "name": "stdout",
     "output_type": "stream",
     "text": [
      "Are the values in 'name' unique? False\n"
     ]
    }
   ],
   "source": [
    "is_unique = df[\"name\"].is_unique\n",
    "print(f\"Are the values in 'name' unique? {is_unique}\")"
   ]
  },
  {
   "cell_type": "markdown",
   "id": "95fb1435",
   "metadata": {},
   "source": [
    "---\n",
    "## Preparing the data"
   ]
  },
  {
   "cell_type": "markdown",
   "id": "549cb64f",
   "metadata": {},
   "source": [
    "By calculating the maximum and avg. number of the height we can use that value later in our CNN."
   ]
  },
  {
   "cell_type": "code",
   "execution_count": null,
   "id": "4dcdfc48",
   "metadata": {},
   "outputs": [
    {
     "name": "stdout",
     "output_type": "stream",
     "text": [
      "Maximum height of an image: 263\n",
      "Average height of an image: 140\n",
      "Maximum length of an image: 3058\n",
      "Average length of an image: 1938\n"
     ]
    }
   ],
   "source": [
    "# Calculate the maximum and average width of the lists in the 'image' column\n",
    "image_heigth = df[\"image\"].apply(lambda img: img.shape[0])  # Height of each image\n",
    "max_height = image_heigth.max()\n",
    "avg_height = image_heigth.mean()\n",
    "quantile_height = image_heigth.quantile(0.95)\n",
    "\n",
    "# Calculate the maximum and average width of the lists in the 'image' column\n",
    "image_width = df[\"image\"].apply(lambda img: img.shape[1])  # Width of each image\n",
    "max_width = image_width.max()\n",
    "avg_width = image_width.mean()\n",
    "quantile_width = image_width.quantile(0.95)\n",
    "\n",
    "print(f\"Maximum height of an image: {max_height}\")\n",
    "print(f\"Average height of an image: {int(avg_height)}\")\n",
    "print(f\"95% quantile height: {int(quantile_height)}\")\n",
    "print(f\"Maximum width of an image: {int(max_width)}\")\n",
    "print(f\"Average width of an image: {int(avg_width)}\")\n",
    "print(f\"95% quantile width: {int(quantile_width)}\")"
   ]
  },
  {
   "cell_type": "code",
   "execution_count": 155,
   "id": "ca3c9713",
   "metadata": {},
   "outputs": [],
   "source": [
    "# Features (images) and labels (transcriptions)\n",
    "X = df[\"image\"].values          # Images as NumPy arrays\n",
    "y = df[\"transcription\"].values  # Transcriptions as strings"
   ]
  },
  {
   "cell_type": "code",
   "execution_count": 156,
   "id": "556ff1f4",
   "metadata": {},
   "outputs": [
    {
     "name": "stdout",
     "output_type": "stream",
     "text": [
      "X shape: (429, 256, 1024), dtype: float32\n"
     ]
    }
   ],
   "source": [
    "# Convert images to NumPy arrays and normalize\n",
    "X = np.array(\n",
    "    [cv2.resize(img, (1024, 256)) for img in df[\"image\"]], dtype=np.float32\n",
    ")  # Resize and convert to float32\n",
    "\n",
    "print(f\"X shape: {X.shape}, dtype: {X.dtype}\")"
   ]
  },
  {
   "cell_type": "code",
   "execution_count": 171,
   "id": "306d89d7",
   "metadata": {},
   "outputs": [
    {
     "name": "stdout",
     "output_type": "stream",
     "text": [
      "Transcription lengths:\n",
      "Max length:\t\t 70\n",
      "Mean length:\t\t 46\n",
      "Median length:\t\t 48\n",
      "95%-Quantile:\t\t 65\n"
     ]
    }
   ],
   "source": [
    "# find the length of the transcription\n",
    "# aplly different measures\n",
    "\n",
    "transcription_lengths = df[\"transcription\"].apply(len)\n",
    "print(\"Transcription lengths:\")\n",
    "print(f\"Max length:\\t\\t {int(transcription_lengths.max())}\")\n",
    "print(f\"Mean length:\\t\\t {int(transcription_lengths.mean())}\")\n",
    "print(f\"Median length:\\t\\t {int(transcription_lengths.median())}\")\n",
    "print(f\"95%-Quantile:\\t\\t {int(transcription_lengths.quantile(0.95))}\")"
   ]
  },
  {
   "cell_type": "code",
   "execution_count": 158,
   "id": "e78911a7",
   "metadata": {},
   "outputs": [
    {
     "name": "stdout",
     "output_type": "stream",
     "text": [
      "y shape: (429,), dtype: object\n"
     ]
    }
   ],
   "source": [
    "# Create a character-to-index mapping\n",
    "charset = sorted(set(\"\".join(df[\"transcription\"])))  # Unique characters in the dataset\n",
    "char_to_index = {char: idx for idx, char in enumerate(charset)}\n",
    "index_to_char = {idx: char for char, idx in char_to_index.items()}\n",
    "num_classes = len(charset) + 1  # Add 1 for the blank character (CTC loss)\n",
    "\n",
    "\n",
    "# Convert transcriptions to sequences of integers\n",
    "label_sequences = [\n",
    "    [char_to_index[char] for char in transcription]\n",
    "    for transcription in df[\"transcription\"]\n",
    "]\n",
    "\n",
    "# Pad sequences to a fixed length\n",
    "max_sequence_length = 256   \n",
    "\n",
    "# Pads the sequences to the same length\n",
    "padded_labels = pad_sequences(\n",
    "    label_sequences, maxlen=max_sequence_length, padding=\"post\", value=num_classes - 1\n",
    ")\n",
    "\n",
    "\n",
    "print(f\"y shape: {y.shape}, dtype: {y.dtype}\")"
   ]
  },
  {
   "cell_type": "code",
   "execution_count": 159,
   "id": "acbf4ec9",
   "metadata": {},
   "outputs": [],
   "source": [
    "# Convert transcriptions to sequences of integers\n",
    "label_sequences = [\n",
    "    [char_to_index[char] for char in transcription]\n",
    "    for transcription in df[\"transcription\"]\n",
    "]\n",
    "\n",
    "# Pad sequences to a fixed length (use a value outside the valid character indices, like num_classes - 1 for blank)\n",
    "padded_labels = pad_sequences(\n",
    "    label_sequences, maxlen=max_sequence_length, padding=\"post\", value=num_classes - 1\n",
    ")\n",
    "\n",
    "# Convert to NumPy array, not one-hot encoded because CTC loss expects integer sequences\n",
    "y = np.array(padded_labels, dtype=np.int32)\n"
   ]
  },
  {
   "cell_type": "code",
   "execution_count": 160,
   "id": "319becdc",
   "metadata": {},
   "outputs": [],
   "source": [
    "X_train, X_test, y_train, y_test = train_test_split(\n",
    "    X, y, test_size=0.2, random_state=42\n",
    ")\n",
    "\n",
    "num_classes = len(charset) + 1  # Number of unique characters. +1 for the blank character (CTC loss)"
   ]
  },
  {
   "cell_type": "code",
   "execution_count": 161,
   "id": "56fbdc78",
   "metadata": {},
   "outputs": [
    {
     "name": "stdout",
     "output_type": "stream",
     "text": [
      "X_train shape: (343, 256, 1024), dtype: float32\n",
      "y_train shape: (343, 256), dtype: int32\n"
     ]
    }
   ],
   "source": [
    "print(f\"X_train shape: {X_train.shape}, dtype: {X_train.dtype}\")\n",
    "print(f\"y_train shape: {y_train.shape}, dtype: {y_train.dtype}\")"
   ]
  },
  {
   "cell_type": "markdown",
   "id": "12f322fa",
   "metadata": {},
   "source": [
    "---\n",
    "## Data visualisation\n",
    "Below I want to gain a better understanding of our datapoints"
   ]
  },
  {
   "cell_type": "code",
   "execution_count": 162,
   "id": "486a2991",
   "metadata": {},
   "outputs": [
    {
     "data": {
      "image/png": "[encoded data removed]",
      "text/plain": [
       "<Figure size 640x480 with 1 Axes>"
      ]
     },
     "metadata": {},
     "output_type": "display_data"
    }
   ],
   "source": [
    "plt.imshow(X_train[10], cmap=\"gray\", vmin=0, vmax=255)\n",
    "plt.title(\"Sample Image from Training Set\")\n",
    "plt.show()"
   ]
  },
  {
   "cell_type": "code",
   "execution_count": 163,
   "id": "c078c925",
   "metadata": {},
   "outputs": [
    {
     "name": "stdout",
     "output_type": "stream",
     "text": [
      "First entry in y_train:\n",
      "[45 32 52  0 39 44 42 40 43 40 33  9  0 33 44 43 36  0 50 44 41 50 43 49\n",
      " 32 49 40 48  5 83 83 83 83 83 83 83 83 83 83 83 83 83 83 83 83 83 83 83\n",
      " 83 83 83 83 83 83 83 83 83 83 83 83 83 83 83 83 83 83 83 83 83 83 83 83\n",
      " 83 83 83 83 83 83 83 83 83 83 83 83 83 83 83 83 83 83 83 83 83 83 83 83\n",
      " 83 83 83 83 83 83 83 83 83 83 83 83 83 83 83 83 83 83 83 83 83 83 83 83\n",
      " 83 83 83 83 83 83 83 83 83 83 83 83 83 83 83 83 83 83 83 83 83 83 83 83\n",
      " 83 83 83 83 83 83 83 83 83 83 83 83 83 83 83 83 83 83 83 83 83 83 83 83\n",
      " 83 83 83 83 83 83 83 83 83 83 83 83 83 83 83 83 83 83 83 83 83 83 83 83\n",
      " 83 83 83 83 83 83 83 83 83 83 83 83 83 83 83 83 83 83 83 83 83 83 83 83\n",
      " 83 83 83 83 83 83 83 83 83 83 83 83 83 83 83 83 83 83 83 83 83 83 83 83\n",
      " 83 83 83 83 83 83 83 83 83 83 83 83 83 83 83 83]\n"
     ]
    }
   ],
   "source": [
    "print(\"First entry in y_train:\")\n",
    "print(y_train[10])"
   ]
  },
  {
   "cell_type": "markdown",
   "id": "551685d5",
   "metadata": {},
   "source": [
    "---\n",
    "\n",
    "## Evaluation metric"
   ]
  },
  {
   "cell_type": "code",
   "execution_count": 165,
   "id": "fea1d2ad",
   "metadata": {},
   "outputs": [],
   "source": [
    "# evaluation metrics\n",
    "eval_metrics = pd.DataFrame(\n",
    "    columns=[\"epoch\", \"loss\", \"val_loss\", \"ctc loss\", \"cer\", \"wer\"]\n",
    ")\n",
    "\n",
    "\n",
    "class MetricsLogger(tf.keras.callbacks.Callback):\n",
    "    def __init__(self, X_val, y_val, index_to_char):\n",
    "        super().__init__()\n",
    "        self.X_val = X_val\n",
    "        self.y_val = y_val\n",
    "        self.index_to_char = index_to_char\n",
    "\n",
    "    def on_epoch_end(self, epoch, logs=None):\n",
    "        # Predict on validation set\n",
    "        y_pred = self.model.predict(self.X_val)\n",
    "        decoded_sequences, _ = tf.keras.backend.ctc_decode(\n",
    "            y_pred, input_length=np.ones(y_pred.shape[0]) * y_pred.shape[1]\n",
    "        )\n",
    "        y_pred_texts = [\n",
    "            \"\".join(\n",
    "                self.index_to_char.get(\n",
    "                    idx, \"\"\n",
    "                )  # Robust gegen -1 oder ungültige Indizes\n",
    "                for idx in seq.numpy()\n",
    "            )\n",
    "            for seq in decoded_sequences[0]\n",
    "        ]\n",
    "\n",
    "        y_true_texts = [\n",
    "            \"\".join(\n",
    "                self.index_to_char[idx] for idx in seq if idx < len(self.index_to_char)\n",
    "            )\n",
    "            for seq in self.y_val\n",
    "        ]\n",
    "        cer = MetricsLogger.character_error_rate(y_true_texts, y_pred_texts)\n",
    "        wer = MetricsLogger.word_error_rate(y_true_texts, y_pred_texts)\n",
    "\n",
    "        # Log metrics\n",
    "        self.log_metrics(epoch, logs, cer, wer)\n",
    "        eval_metrics.to_csv(\"eval_metrics.csv\", index=True)\n",
    "\n",
    "    def log_metrics(self, epoch, logs, cer, wer):\n",
    "        eval_metrics.loc[epoch] = [\n",
    "            epoch,\n",
    "            logs.get(\"loss\"),\n",
    "            logs.get(\"val_loss\"),\n",
    "            logs.get(\"ctc_loss\", logs.get(\"loss\")),\n",
    "            cer,\n",
    "            wer,\n",
    "        ]\n",
    "\n",
    "    @staticmethod\n",
    "    def character_error_rate(y_true, y_pred):\n",
    "        total_edits = 0\n",
    "        total_chars = 0\n",
    "        for true, pred in zip(y_true, y_pred):\n",
    "            total_edits += edit_distance(true, pred)\n",
    "            total_chars += len(true)\n",
    "        return total_edits / total_chars if total_chars > 0 else 0.0\n",
    "\n",
    "    @staticmethod\n",
    "    def word_error_rate(y_true, y_pred):\n",
    "        total_edits = 0\n",
    "        total_words = 0\n",
    "        for true, pred in zip(y_true, y_pred):\n",
    "            total_edits += edit_distance(true.split(), pred.split())\n",
    "            total_words += len(true.split())\n",
    "        return total_edits / total_words if total_words > 0 else 0.0\n",
    "\n",
    "    def ctc_loss( y_true, y_pred):\n",
    "        \"\"\"\n",
    "        Compute the CTC (Connectionist Temporal Classification) loss between the true and predicted labels.\n",
    "\n",
    "        Args:\n",
    "            y_true: Ground truth labels (padded sequences).\n",
    "            y_pred: Predicted label probabilities from the model.\n",
    "\n",
    "        Returns:\n",
    "            Tensor representing the CTC loss for the batch.\n",
    "        \"\"\"\n",
    "        input_length = (\n",
    "            tf.ones(shape=(tf.shape(y_pred)[0], 1), dtype=tf.int32)\n",
    "            * tf.shape(y_pred)[1]\n",
    "        )\n",
    "        label_length = (\n",
    "            tf.ones(shape=(tf.shape(y_true)[0], 1), dtype=tf.int32)\n",
    "            * tf.shape(y_true)[1]\n",
    "        )\n",
    "        return tf.keras.backend.ctc_batch_cost(\n",
    "            y_true, y_pred, input_length, label_length\n",
    "        )"
   ]
  },
  {
   "cell_type": "markdown",
   "id": "a582f375",
   "metadata": {},
   "source": [
    "---\n",
    "## Training\n"
   ]
  },
  {
   "cell_type": "code",
   "execution_count": 166,
   "id": "f5fe5092",
   "metadata": {},
   "outputs": [
    {
     "name": "stderr",
     "output_type": "stream",
     "text": [
      "/home/ucloud/.local/lib/python3.12/site-packages/keras/src/layers/convolutional/base_conv.py:107: UserWarning: Do not pass an `input_shape`/`input_dim` argument to a layer. When using Sequential models, prefer using an `Input(shape)` object as the first layer in the model instead.\n",
      "  super().__init__(activity_regularizer=activity_regularizer, **kwargs)\n"
     ]
    }
   ],
   "source": [
    "cnn_rnn = models.Sequential(\n",
    "    [\n",
    "        # CNN layers\n",
    "        # input shape is = (height, width, channels)\n",
    "        layers.Conv2D(\n",
    "            64, (3, 3), padding=\"same\", activation=\"relu\", input_shape=(256, 1024, 1)\n",
    "        ),\n",
    "        layers.MaxPooling2D(pool_size=(2, 2)),  # → (128, 512, 64)\n",
    "        layers.Conv2D(128, (3, 3), padding=\"same\", activation=\"relu\"),\n",
    "        layers.MaxPooling2D(pool_size=(2, 2)),  # → (64, 256, 128)\n",
    "        # Reshape for RNN\n",
    "        layers.Reshape(target_shape=(256, 64 * 128)),  # → (batch, 256, 8192)\n",
    "        # RNN layers\n",
    "        layers.Bidirectional(layers.LSTM(256, return_sequences=True)),\n",
    "        layers.Bidirectional(layers.LSTM(256, return_sequences=True)),\n",
    "        # Output layer\n",
    "        layers.Dense(\n",
    "            num_classes, activation=\"softmax\"\n",
    "        ),  # Use softmax for probabilities\n",
    "    ]\n",
    ")\n",
    "\n",
    "cnn_rnn.compile(optimizer=\"adam\", loss=MetricsLogger.ctc_loss)\n",
    "\n",
    "# cnn_rnn.summary()"
   ]
  },
  {
   "cell_type": "code",
   "execution_count": 167,
   "id": "7ad05303",
   "metadata": {},
   "outputs": [
    {
     "name": "stdout",
     "output_type": "stream",
     "text": [
      "Epoch 1/10\n",
      "\u001b[1m11/11\u001b[0m \u001b[32m━━━━━━━━━━━━━━━━━━━━\u001b[0m\u001b[37m\u001b[0m \u001b[1m0s\u001b[0m 9s/step - loss: 375.1285WARNING:tensorflow:5 out of the last 7 calls to <function TensorFlowTrainer.make_predict_function.<locals>.one_step_on_data_distributed at 0x7fbb14202f20> triggered tf.function retracing. Tracing is expensive and the excessive number of tracings could be due to (1) creating @tf.function repeatedly in a loop, (2) passing tensors with different shapes, (3) passing Python objects instead of tensors. For (1), please define your @tf.function outside of the loop. For (2), @tf.function has reduce_retracing=True option that can avoid unnecessary retracing. For (3), please refer to https://www.tensorflow.org/guide/function#controlling_retracing and https://www.tensorflow.org/api_docs/python/tf/function for  more details.\n",
      "\u001b[1m2/3\u001b[0m \u001b[32m━━━━━━━━━━━━━\u001b[0m\u001b[37m━━━━━━━\u001b[0m \u001b[1m1s\u001b[0m 2s/stepWARNING:tensorflow:6 out of the last 9 calls to <function TensorFlowTrainer.make_predict_function.<locals>.one_step_on_data_distributed at 0x7fbb14202f20> triggered tf.function retracing. Tracing is expensive and the excessive number of tracings could be due to (1) creating @tf.function repeatedly in a loop, (2) passing tensors with different shapes, (3) passing Python objects instead of tensors. For (1), please define your @tf.function outside of the loop. For (2), @tf.function has reduce_retracing=True option that can avoid unnecessary retracing. For (3), please refer to https://www.tensorflow.org/guide/function#controlling_retracing and https://www.tensorflow.org/api_docs/python/tf/function for  more details.\n",
      "\u001b[1m3/3\u001b[0m \u001b[32m━━━━━━━━━━━━━━━━━━━━\u001b[0m\u001b[37m\u001b[0m \u001b[1m7s\u001b[0m 2s/step\n",
      "\u001b[1m11/11\u001b[0m \u001b[32m━━━━━━━━━━━━━━━━━━━━\u001b[0m\u001b[37m\u001b[0m \u001b[1m112s\u001b[0m 10s/step - loss: 363.2475 - val_loss: 150.4096\n",
      "Epoch 2/10\n",
      "\u001b[1m3/3\u001b[0m \u001b[32m━━━━━━━━━━━━━━━━━━━━\u001b[0m\u001b[37m\u001b[0m \u001b[1m5s\u001b[0m 2s/stepep - loss: 147.2\n",
      "\u001b[1m11/11\u001b[0m \u001b[32m━━━━━━━━━━━━━━━━━━━━\u001b[0m\u001b[37m\u001b[0m \u001b[1m104s\u001b[0m 10s/step - loss: 147.2398 - val_loss: 149.1291\n",
      "Epoch 3/10\n",
      "\u001b[1m3/3\u001b[0m \u001b[32m━━━━━━━━━━━━━━━━━━━━\u001b[0m\u001b[37m\u001b[0m \u001b[1m5s\u001b[0m 1s/stepep - loss: 148.4\n",
      "\u001b[1m11/11\u001b[0m \u001b[32m━━━━━━━━━━━━━━━━━━━━\u001b[0m\u001b[37m\u001b[0m \u001b[1m104s\u001b[0m 10s/step - loss: 148.2820 - val_loss: 148.8599\n",
      "Epoch 4/10\n",
      "\u001b[1m3/3\u001b[0m \u001b[32m━━━━━━━━━━━━━━━━━━━━\u001b[0m\u001b[37m\u001b[0m \u001b[1m5s\u001b[0m 1s/stepep - loss: 145.7\n",
      "\u001b[1m11/11\u001b[0m \u001b[32m━━━━━━━━━━━━━━━━━━━━\u001b[0m\u001b[37m\u001b[0m \u001b[1m103s\u001b[0m 9s/step - loss: 145.7478 - val_loss: 150.2346\n",
      "Epoch 5/10\n",
      "\u001b[1m3/3\u001b[0m \u001b[32m━━━━━━━━━━━━━━━━━━━━\u001b[0m\u001b[37m\u001b[0m \u001b[1m5s\u001b[0m 2s/stepep - loss: 148.5\n",
      "\u001b[1m11/11\u001b[0m \u001b[32m━━━━━━━━━━━━━━━━━━━━\u001b[0m\u001b[37m\u001b[0m \u001b[1m102s\u001b[0m 9s/step - loss: 148.3746 - val_loss: 148.9998\n",
      "Epoch 6/10\n",
      "\u001b[1m3/3\u001b[0m \u001b[32m━━━━━━━━━━━━━━━━━━━━\u001b[0m\u001b[37m\u001b[0m \u001b[1m5s\u001b[0m 2s/stepep - loss: 146.1\n",
      "\u001b[1m11/11\u001b[0m \u001b[32m━━━━━━━━━━━━━━━━━━━━\u001b[0m\u001b[37m\u001b[0m \u001b[1m104s\u001b[0m 9s/step - loss: 146.1968 - val_loss: 148.3139\n",
      "Epoch 7/10\n",
      "\u001b[1m3/3\u001b[0m \u001b[32m━━━━━━━━━━━━━━━━━━━━\u001b[0m\u001b[37m\u001b[0m \u001b[1m5s\u001b[0m 2s/stepep - loss: 147.3\n",
      "\u001b[1m11/11\u001b[0m \u001b[32m━━━━━━━━━━━━━━━━━━━━\u001b[0m\u001b[37m\u001b[0m \u001b[1m103s\u001b[0m 9s/step - loss: 147.2307 - val_loss: 148.3859\n",
      "Epoch 8/10\n",
      "\u001b[1m3/3\u001b[0m \u001b[32m━━━━━━━━━━━━━━━━━━━━\u001b[0m\u001b[37m\u001b[0m \u001b[1m5s\u001b[0m 2s/stepep - loss: 148.0\n",
      "\u001b[1m11/11\u001b[0m \u001b[32m━━━━━━━━━━━━━━━━━━━━\u001b[0m\u001b[37m\u001b[0m \u001b[1m102s\u001b[0m 9s/step - loss: 147.8722 - val_loss: 147.8291\n",
      "Epoch 9/10\n",
      "\u001b[1m3/3\u001b[0m \u001b[32m━━━━━━━━━━━━━━━━━━━━\u001b[0m\u001b[37m\u001b[0m \u001b[1m5s\u001b[0m 2s/stepep - loss: 144.6\n",
      "\u001b[1m11/11\u001b[0m \u001b[32m━━━━━━━━━━━━━━━━━━━━\u001b[0m\u001b[37m\u001b[0m \u001b[1m102s\u001b[0m 9s/step - loss: 144.7366 - val_loss: 147.4579\n",
      "Epoch 10/10\n",
      "\u001b[1m3/3\u001b[0m \u001b[32m━━━━━━━━━━━━━━━━━━━━\u001b[0m\u001b[37m\u001b[0m \u001b[1m5s\u001b[0m 2s/stepep - loss: 147.5\n",
      "\u001b[1m11/11\u001b[0m \u001b[32m━━━━━━━━━━━━━━━━━━━━\u001b[0m\u001b[37m\u001b[0m \u001b[1m102s\u001b[0m 9s/step - loss: 147.3874 - val_loss: 148.3566\n"
     ]
    },
    {
     "data": {
      "text/plain": [
       "<keras.src.callbacks.history.History at 0x7fbb2dda9f10>"
      ]
     },
     "execution_count": 167,
     "metadata": {},
     "output_type": "execute_result"
    }
   ],
   "source": [
    "#! Commented out to avoid running the model training\n",
    "# # Fit the model\n",
    "# When fitting the model, pass validation data and index_to_char to the callback:\n",
    "cnn_rnn.fit(\n",
    "    X_train,\n",
    "    y_train,\n",
    "    epochs=10,\n",
    "    validation_data=(X_test, y_test),\n",
    "    batch_size=32,\n",
    "    callbacks=[MetricsLogger(X_test, y_test, index_to_char)]\n",
    ")"
   ]
  },
  {
   "cell_type": "code",
   "execution_count": 168,
   "id": "89715344",
   "metadata": {},
   "outputs": [
    {
     "data": {
      "text/html": [
       "<div>\n",
       "<style scoped>\n",
       "    .dataframe tbody tr th:only-of-type {\n",
       "        vertical-align: middle;\n",
       "    }\n",
       "\n",
       "    .dataframe tbody tr th {\n",
       "        vertical-align: top;\n",
       "    }\n",
       "\n",
       "    .dataframe thead th {\n",
       "        text-align: right;\n",
       "    }\n",
       "</style>\n",
       "<table border=\"1\" class=\"dataframe\">\n",
       "  <thead>\n",
       "    <tr style=\"text-align: right;\">\n",
       "      <th></th>\n",
       "      <th>epoch</th>\n",
       "      <th>loss</th>\n",
       "      <th>val_loss</th>\n",
       "      <th>ctc loss</th>\n",
       "      <th>cer</th>\n",
       "      <th>wer</th>\n",
       "    </tr>\n",
       "  </thead>\n",
       "  <tbody>\n",
       "    <tr>\n",
       "      <th>0</th>\n",
       "      <td>0.0</td>\n",
       "      <td>232.555420</td>\n",
       "      <td>150.409637</td>\n",
       "      <td>232.555420</td>\n",
       "      <td>1.0</td>\n",
       "      <td>1.0</td>\n",
       "    </tr>\n",
       "    <tr>\n",
       "      <th>1</th>\n",
       "      <td>1.0</td>\n",
       "      <td>146.916016</td>\n",
       "      <td>149.129059</td>\n",
       "      <td>146.916016</td>\n",
       "      <td>1.0</td>\n",
       "      <td>1.0</td>\n",
       "    </tr>\n",
       "    <tr>\n",
       "      <th>2</th>\n",
       "      <td>2.0</td>\n",
       "      <td>146.384689</td>\n",
       "      <td>148.859940</td>\n",
       "      <td>146.384689</td>\n",
       "      <td>1.0</td>\n",
       "      <td>1.0</td>\n",
       "    </tr>\n",
       "    <tr>\n",
       "      <th>3</th>\n",
       "      <td>3.0</td>\n",
       "      <td>145.989792</td>\n",
       "      <td>150.234650</td>\n",
       "      <td>145.989792</td>\n",
       "      <td>1.0</td>\n",
       "      <td>1.0</td>\n",
       "    </tr>\n",
       "    <tr>\n",
       "      <th>4</th>\n",
       "      <td>4.0</td>\n",
       "      <td>146.471008</td>\n",
       "      <td>148.999756</td>\n",
       "      <td>146.471008</td>\n",
       "      <td>1.0</td>\n",
       "      <td>1.0</td>\n",
       "    </tr>\n",
       "  </tbody>\n",
       "</table>\n",
       "</div>"
      ],
      "text/plain": [
       "   epoch        loss    val_loss    ctc loss  cer  wer\n",
       "0    0.0  232.555420  150.409637  232.555420  1.0  1.0\n",
       "1    1.0  146.916016  149.129059  146.916016  1.0  1.0\n",
       "2    2.0  146.384689  148.859940  146.384689  1.0  1.0\n",
       "3    3.0  145.989792  150.234650  145.989792  1.0  1.0\n",
       "4    4.0  146.471008  148.999756  146.471008  1.0  1.0"
      ]
     },
     "execution_count": 168,
     "metadata": {},
     "output_type": "execute_result"
    }
   ],
   "source": [
    "eval_metrics.head()"
   ]
  },
  {
   "cell_type": "code",
   "execution_count": 170,
   "id": "2dc01f4c",
   "metadata": {},
   "outputs": [],
   "source": [
    "cnn_rnn.save(\"CNN_RNN_model.keras\")"
   ]
  },
  {
   "cell_type": "code",
   "execution_count": null,
   "id": "2b5421a2",
   "metadata": {},
   "outputs": [],
   "source": [
    "# # Load the model\n",
    "# loaded_model = load_model(\"Run_models/20250519/20250519_CNN_RNN_model/\")\n",
    "# loaded_model.summary()\n",
    "\n",
    "\n",
    "# # Select an image from the test set\n",
    "# sample_image = X_test[0]\n",
    "\n",
    "# # Reshape the image to match the input shape of the model\n",
    "# sample_image_reshaped = sample_image.reshape(1, 256, 1024, 1)\n",
    "\n",
    "# # Get the model's prediction\n",
    "# prediction = loaded_model.predict(sample_image_reshaped)\n",
    "\n",
    "# decoded_sequences, _ = tf.keras.backend.ctc_decode(\n",
    "#     prediction, input_length=np.ones(prediction.shape[0]) * prediction.shape[1]\n",
    "# )\n",
    "# predicted_text = \"\".join(\n",
    "#     index_to_char[idx]\n",
    "#     for idx in decoded_sequences[0][0].numpy()\n",
    "#     if idx < num_classes - 1\n",
    "# )\n",
    "\n",
    "# # Decode the prediction\n",
    "# predicted_sequence = np.argmax(prediction, axis=-1)[0]\n",
    "# predicted_text = \"\".join(\n",
    "#     index_to_char[idx] for idx in predicted_sequence if idx < num_classes - 1\n",
    "# )\n",
    "\n",
    "# print(\"Predicted transcription:\")\n",
    "# print(predicted_text)"
   ]
  }
 ],
 "metadata": {
  "kernelspec": {
   "display_name": ".venv",
   "language": "python",
   "name": "python3"
  },
  "language_info": {
   "codemirror_mode": {
    "name": "ipython",
    "version": 3
   },
   "file_extension": ".py",
   "mimetype": "text/x-python",
   "name": "python",
   "nbconvert_exporter": "python",
   "pygments_lexer": "ipython3",
   "version": "3.12.3"
  }
 },
 "nbformat": 4,
 "nbformat_minor": 5
}
