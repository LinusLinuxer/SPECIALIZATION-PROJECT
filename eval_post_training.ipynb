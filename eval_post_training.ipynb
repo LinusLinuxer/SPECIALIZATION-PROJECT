{
 "cells": [
  {
   "cell_type": "code",
   "execution_count": null,
   "id": "e013ac64",
   "metadata": {},
   "outputs": [
    {
     "name": "stderr",
     "output_type": "stream",
     "text": [
      "2025-05-24 13:05:53.881526: I external/local_xla/xla/tsl/cuda/cudart_stub.cc:32] Could not find cuda drivers on your machine, GPU will not be used.\n",
      "2025-05-24 13:05:54.005448: I external/local_xla/xla/tsl/cuda/cudart_stub.cc:32] Could not find cuda drivers on your machine, GPU will not be used.\n",
      "2025-05-24 13:05:54.134538: E external/local_xla/xla/stream_executor/cuda/cuda_fft.cc:467] Unable to register cuFFT factory: Attempting to register factory for plugin cuFFT when one has already been registered\n",
      "WARNING: All log messages before absl::InitializeLog() is called are written to STDERR\n",
      "E0000 00:00:1748084754.248164  667381 cuda_dnn.cc:8579] Unable to register cuDNN factory: Attempting to register factory for plugin cuDNN when one has already been registered\n",
      "E0000 00:00:1748084754.273880  667381 cuda_blas.cc:1407] Unable to register cuBLAS factory: Attempting to register factory for plugin cuBLAS when one has already been registered\n",
      "W0000 00:00:1748084754.551180  667381 computation_placer.cc:177] computation placer already registered. Please check linkage and avoid linking the same target more than once.\n",
      "W0000 00:00:1748084754.551248  667381 computation_placer.cc:177] computation placer already registered. Please check linkage and avoid linking the same target more than once.\n",
      "W0000 00:00:1748084754.551254  667381 computation_placer.cc:177] computation placer already registered. Please check linkage and avoid linking the same target more than once.\n",
      "W0000 00:00:1748084754.551257  667381 computation_placer.cc:177] computation placer already registered. Please check linkage and avoid linking the same target more than once.\n",
      "2025-05-24 13:05:54.580521: I tensorflow/core/platform/cpu_feature_guard.cc:210] This TensorFlow binary is optimized to use available CPU instructions in performance-critical operations.\n",
      "To enable the following instructions: AVX2 FMA, in other operations, rebuild TensorFlow with the appropriate compiler flags.\n"
     ]
    }
   ],
   "source": [
    "import tensorflow as tf\n",
    "import numpy as np\n",
    "import matplotlib.pyplot as plt\n",
    "\n",
    "import numpy as np\n",
    "import matplotlib.pyplot as plt\n",
    "\n",
    "from sklearn.model_selection import train_test_split\n",
    "from tensorflow.keras.preprocessing.sequence import pad_sequences"
   ]
  },
  {
   "cell_type": "code",
   "execution_count": null,
   "id": "e54565f0",
   "metadata": {},
   "outputs": [],
   "source": [
    "# --- CONFIGURATION ---\n",
    "MODEL_PATH = \"Run_models/20250523_3000/CNN_RNN_model.keras\"         # Path to trained model\n",
    "X_VAL_PATH = \"Run_models/20250523_3000/X_val.npy\"             # Path to validation input\n",
    "Y_VAL_PATH = \"Run_models/20250523_3000/y_val.npy\"             # Optional for future use\n",
    "\n",
    "# --- LOAD MODEL ---\n",
    "model = tf.keras.models.load_model(MODEL_PATH, compile=False)\n",
    "\n",
    "# --- LOAD VALIDATION DATA ---\n",
    "X_val = np.load(X_VAL_PATH)\n",
    "\n",
    "# --- GET MODEL PREDICTIONS ---\n",
    "y_pred = model.predict(X_val)  # Shape: (batch_size, time_steps, num_classes)"
   ]
  },
  {
   "cell_type": "code",
   "execution_count": null,
   "id": "74968519",
   "metadata": {},
   "outputs": [],
   "source": [
    "# --- COMPUTE SOFTMAX CONFIDENCE ---\n",
    "softmax_probs = tf.nn.softmax(y_pred, axis=-1).numpy()\n",
    "max_conf_per_step = np.max(softmax_probs, axis=-1)          # (batch_size, time_steps)\n",
    "avg_conf_per_sample = np.mean(max_conf_per_step, axis=-1)   # (batch_size,)\n",
    "mean_confidence = np.mean(avg_conf_per_sample)\n",
    "\n",
    "# --- PLOT CONFIDENCE DISTRIBUTION ---\n",
    "plt.figure(figsize=(10, 6))\n",
    "plt.hist(avg_conf_per_sample, bins=30, color='skyblue', edgecolor='black')\n",
    "plt.title(\"Average Softmax Confidence per Sample\")\n",
    "plt.xlabel(\"Confidence\")\n",
    "plt.ylabel(\"Number of Samples\")\n",
    "plt.grid(True)\n",
    "plt.tight_layout()\n",
    "plt.show()\n",
    "\n",
    "# --- PRINT RESULT ---\n",
    "print(\"Average softmax confidence across validation set:\", mean_confidence)"
   ]
  }
 ],
 "metadata": {
  "kernelspec": {
   "display_name": ".venv",
   "language": "python",
   "name": "python3"
  },
  "language_info": {
   "codemirror_mode": {
    "name": "ipython",
    "version": 3
   },
   "file_extension": ".py",
   "mimetype": "text/x-python",
   "name": "python",
   "nbconvert_exporter": "python",
   "pygments_lexer": "ipython3",
   "version": "3.12.3"
  }
 },
 "nbformat": 4,
 "nbformat_minor": 5
}
